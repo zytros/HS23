{
 "cells": [
  {
   "cell_type": "markdown",
   "metadata": {},
   "source": [
    "# Image Classification with PyTorch"
   ]
  },
  {
   "cell_type": "markdown",
   "metadata": {},
   "source": [
    "## Data loading\n"
   ]
  },
  {
   "cell_type": "markdown",
   "metadata": {},
   "source": []
  },
  {
   "cell_type": "code",
   "execution_count": 3,
   "metadata": {},
   "outputs": [],
   "source": [
    "import numpy as np\n",
    "import matplotlib.pyplot as plt\n",
    "\n",
    "import torch\n",
    "import torch.nn as nn\n",
    "import torch.nn.functional as F\n",
    "import torch.optim as optim\n",
    "from torch.utils.data import DataLoader\n",
    "import torchvision\n",
    "from torchvision import datasets, transforms"
   ]
  },
  {
   "cell_type": "code",
   "execution_count": 4,
   "metadata": {},
   "outputs": [],
   "source": [
    "# torchvision contains convinience functions for popular datasets\n",
    "ds_train = datasets.MNIST('data', train=True, download=True)"
   ]
  },
  {
   "cell_type": "markdown",
   "metadata": {},
   "source": [
    "Each sample is a 28x28 image"
   ]
  },
  {
   "cell_type": "code",
   "execution_count": 5,
   "metadata": {},
   "outputs": [
    {
     "name": "stdout",
     "output_type": "stream",
     "text": [
      "(<PIL.Image.Image image mode=L size=28x28 at 0x27383B92C50>, 5)\n"
     ]
    },
    {
     "data": {
      "image/jpeg": "[encoded data removed]",
      "image/png": "[encoded data removed]",
      "text/plain": [
       "<PIL.Image.Image image mode=L size=120x120>"
      ]
     },
     "execution_count": 5,
     "metadata": {},
     "output_type": "execute_result"
    }
   ],
   "source": [
    "# if we index this dataset, we get a single data point: a PIL image and an Integer\n",
    "print(ds_train[0])\n",
    "ds_train[0][0].resize((120,120))"
   ]
  },
  {
   "cell_type": "markdown",
   "metadata": {},
   "source": [
    "Let's transform the data to something that our Pytorch models will understand\n",
    "for this purpose, we can supply a transform function to the datase"
   ]
  },
  {
   "cell_type": "code",
   "execution_count": 6,
   "metadata": {},
   "outputs": [],
   "source": [
    "transform = transforms.Compose([\n",
    "    transforms.ToTensor(),\n",
    "])\n",
    "ds_train = datasets.MNIST('data', train=True, download=True, transform=transform)"
   ]
  },
  {
   "cell_type": "markdown",
   "metadata": {},
   "source": [
    "The image is now a `torch.Tensor`"
   ]
  },
  {
   "cell_type": "code",
   "execution_count": 7,
   "metadata": {},
   "outputs": [
    {
     "data": {
      "text/plain": [
       "torch.Tensor"
      ]
     },
     "execution_count": 7,
     "metadata": {},
     "output_type": "execute_result"
    }
   ],
   "source": [
    "type(ds_train[0][0])"
   ]
  },
  {
   "cell_type": "markdown",
   "metadata": {},
   "source": [
    "The normalization is something you learned about in the lecture. Normalizing with $\\mu=0, \\sigma=1$ corresponds to no normalization. Let's compute the proper normalization constants!"
   ]
  },
  {
   "cell_type": "code",
   "execution_count": 8,
   "metadata": {},
   "outputs": [
    {
     "data": {
      "text/plain": [
       "torch.Size([60000, 28, 28])"
      ]
     },
     "execution_count": 8,
     "metadata": {},
     "output_type": "execute_result"
    }
   ],
   "source": [
    "# lets get only the images \n",
    "ims_train = ds_train.data\n",
    "ims_train = ims_train.float() / 255.\n",
    "ims_train.shape"
   ]
  },
  {
   "cell_type": "code",
   "execution_count": 9,
   "metadata": {},
   "outputs": [],
   "source": [
    "#########################################################################\n",
    "# TODO: calculate the mean and std of MNIST images\n",
    "# hint: to look for operations on pytorch tensor, refer to the official PyTorch docs \n",
    "# https://pytorch.org/docs/stable/\n",
    "#########################################################################\n",
    "mu = torch.mean(ims_train, dim=(0,1,2))\n",
    "std = torch.std(ims_train, dim=(0,1,2))\n"
   ]
  },
  {
   "cell_type": "markdown",
   "metadata": {},
   "source": [
    "We normalize the data as below."
   ]
  },
  {
   "cell_type": "code",
   "execution_count": 10,
   "metadata": {},
   "outputs": [],
   "source": [
    "transform = transforms.Compose([\n",
    "    transforms.ToTensor(),\n",
    "    transforms.Normalize(mu, std)\n",
    "])\n",
    "ds_train = datasets.MNIST('data', train=True, download=True, transform=transform)\n",
    "ds_test = datasets.MNIST('data', train=False, download=True, transform=transform)"
   ]
  },
  {
   "cell_type": "code",
   "execution_count": 11,
   "metadata": {},
   "outputs": [
    {
     "data": {
      "text/plain": [
       "(tensor(-0.4241), tensor(2.8215))"
      ]
     },
     "execution_count": 11,
     "metadata": {},
     "output_type": "execute_result"
    }
   ],
   "source": [
    "ds_train[0][0].min(), ds_train[0][0].max()"
   ]
  },
  {
   "cell_type": "markdown",
   "metadata": {},
   "source": [
    "Next, we want to receive mini-batches, not only single data points.\n",
    "We use PyTorch's DataLoader class. Build a dataloader with a batch size of 64 and 4 workers (number of subprocess that peform the dataloading). Important: you need to shuffle the training data, not the test data.\n",
    "\n",
    "**NOTE**: if you encounter some unexpected errors in data loading, try setting `NUM_WORKERS = 0`"
   ]
  },
  {
   "cell_type": "code",
   "execution_count": 12,
   "metadata": {},
   "outputs": [],
   "source": [
    "BATCH_SIZE = 64\n",
    "NUM_WORKERS = 4\n",
    "#########################################################################\n",
    "# TODO: Build a dataloader for both train and test data.\n",
    "#########################################################################\n",
    "dl_train = DataLoader(ds_train, \n",
    "                      batch_size=BATCH_SIZE, \n",
    "                      shuffle=True, \n",
    "                      num_workers=NUM_WORKERS)\n",
    "dl_test = DataLoader(ds_test, \n",
    "                     batch_size=BATCH_SIZE, \n",
    "                     shuffle=False, \n",
    "                     num_workers=NUM_WORKERS)"
   ]
  },
  {
   "cell_type": "markdown",
   "metadata": {},
   "source": [
    "## MLP in Pytorch\n",
    "\n",
    "Ok, the dataloading works. Let's build our model, PyTorch makes this very easy. We will build replicate the model from our last exercises. However, now, we add another variable called `nLayer` that indicates how many linear layers that in your network. Please adapt your code from last exercise accordingly to allow different number of layers."
   ]
  },
  {
   "cell_type": "code",
   "execution_count": 13,
   "metadata": {},
   "outputs": [],
   "source": [
    "# These are the parameters to be used\n",
    "nInput = 784\n",
    "nOutput = 10\n",
    "nLayer = 2\n",
    "nHidden = 16\n",
    "act_fn = nn.ReLU()"
   ]
  },
  {
   "cell_type": "code",
   "execution_count": 14,
   "metadata": {},
   "outputs": [],
   "source": [
    "#########################################################################\n",
    "# TODO: Implement the __init__ of the MLP class. \n",
    "# insert the activation after every linear layer. Important: the number of \n",
    "# hidden layers should be variable!\n",
    "#########################################################################\n",
    "\n",
    "class MLP(nn.Module):\n",
    "    def __init__(self, nInput, nOutput, nLayer, nHidden, act_fn):\n",
    "        super(MLP, self).__init__()\n",
    "        layers = [] \n",
    "        \n",
    "        ##### implement this part #####\n",
    "        \n",
    "        \n",
    "        ###############################\n",
    "        \n",
    "        self.model = nn.Sequential(*layers)\n",
    "        self.hidden = nn.ModuleList()\n",
    "        self.h_in = nn.Linear(nInput, nHidden)\n",
    "        self.h_out = nn.Linear(nHidden, nOutput)\n",
    "        for k in range(nLayer-2):\n",
    "            self.hidden.append(nn.Linear(nHidden, nHidden))\n",
    "\n",
    "    def forward(self, x):\n",
    "        x = torch.flatten(x, 1)\n",
    "        x = self.h_in(x)\n",
    "        x = act_fn(x)\n",
    "        for layer in self.hidden:\n",
    "            x = layer(x)\n",
    "            x = act_fn(x)\n",
    "        x = self.h_out(x)\n",
    "\n",
    "        return self.model(x)"
   ]
  },
  {
   "cell_type": "code",
   "execution_count": 15,
   "metadata": {
    "scrolled": true
   },
   "outputs": [
    {
     "data": {
      "text/plain": [
       "torch.Size([1, 10])"
      ]
     },
     "execution_count": 15,
     "metadata": {},
     "output_type": "execute_result"
    }
   ],
   "source": [
    "# Let's test if the forward pass works\n",
    "# this should print torch.Size([1, 10])\n",
    "t = torch.randn(1,1,28,28)\n",
    "mlp = MLP(nInput, nOutput, nLayer, nHidden, act_fn)\n",
    "mlp(t).shape"
   ]
  },
  {
   "cell_type": "code",
   "execution_count": 16,
   "metadata": {},
   "outputs": [
    {
     "data": {
      "text/plain": [
       "MLP(\n",
       "  (model): Sequential()\n",
       "  (hidden): ModuleList()\n",
       "  (h_in): Linear(in_features=784, out_features=16, bias=True)\n",
       "  (h_out): Linear(in_features=16, out_features=10, bias=True)\n",
       ")"
      ]
     },
     "execution_count": 16,
     "metadata": {},
     "output_type": "execute_result"
    }
   ],
   "source": [
    "mlp"
   ]
  },
  {
   "cell_type": "markdown",
   "metadata": {},
   "source": [
    "We already implemented the test function for you"
   ]
  },
  {
   "cell_type": "code",
   "execution_count": 17,
   "metadata": {},
   "outputs": [],
   "source": [
    "def test(model, dl_test, device='cpu'):\n",
    "    model.eval()\n",
    "    test_loss = 0\n",
    "    correct = 0\n",
    "    with torch.no_grad():\n",
    "        for data, target in dl_test:\n",
    "            data, target = data.to(device), target.to(device)\n",
    "            output = model(data)\n",
    "            test_loss += F.cross_entropy(output, target, reduction='sum').item()  # sum up batch loss\n",
    "            pred = output.argmax(dim=1, keepdim=True)  # get the index of the max log-probability\n",
    "            correct += pred.eq(target.view_as(pred)).sum().item()\n",
    "\n",
    "    test_loss /= len(dl_test.dataset)\n",
    "\n",
    "    print('\\nTest set: Average loss: {:.4f}, Accuracy: {}/{} ({:.3f}%)\\n'.format(\n",
    "        test_loss, correct, len(dl_test.dataset),\n",
    "        100. * correct / len(dl_test.dataset)))"
   ]
  },
  {
   "cell_type": "markdown",
   "metadata": {},
   "source": [
    "Now you only need to implement the training and you are good to go"
   ]
  },
  {
   "cell_type": "code",
   "execution_count": 18,
   "metadata": {},
   "outputs": [],
   "source": [
    "#########################################################################\n",
    "# TODO: Implement the missing part of the training function. As a loss function we want to use cross entropy\n",
    "# It can be called with F.cross_entropy().\n",
    "# Hint: Pass through the model -> Backpropagate gradients -> Take gradient step\n",
    "#########################################################################\n",
    "\n",
    "def train(model, dl_train, optimizer, epoch, log_interval=100, device='cpu'):\n",
    "    model.train()\n",
    "    correct = 0\n",
    "    for batch_idx, (data, target) in enumerate(dl_train):\n",
    "        data, target = data.to(device), target.to(device)\n",
    "        \n",
    "        # first we need to zero the gradient, otherwise PyTorch would accumulate them\n",
    "        optimizer.zero_grad()         \n",
    "        \n",
    "        ##### implement this part #####\n",
    "        \n",
    "        \n",
    "        ###############################\n",
    "        output = model(data)\n",
    "        loss = F.cross_entropy(output, target)\n",
    "        loss.backward()\n",
    "        optimizer.step()\n",
    "        # stats\n",
    "        pred = output.argmax(dim=1, keepdim=True)  # get the index of the max log-probability\n",
    "        correct += pred.eq(target.view_as(pred)).sum().item()\n",
    "\n",
    "        if batch_idx % log_interval == 0:\n",
    "            print('Train Epoch: {} [{}/{} ({:.0f}%)]\\tLoss: {:.6f}'.format(\n",
    "                epoch, batch_idx * len(data), len(dl_train.dataset),\n",
    "                100. * batch_idx / len(dl_train), loss.item()))\n",
    "\n",
    "    print('\\nTrain set: Average loss: {:.4f}, Accuracy: {}/{} ({:.1f}%)\\n'.format(\n",
    "        loss, correct, len(dl_train.dataset),\n",
    "        100. * correct / len(dl_train.dataset)))"
   ]
  },
  {
   "cell_type": "markdown",
   "metadata": {},
   "source": [
    "Ok, the setup is almost done. The onoly missing part is the optimizer. We are going to use Adam."
   ]
  },
  {
   "cell_type": "code",
   "execution_count": 29,
   "metadata": {},
   "outputs": [
    {
     "data": {
      "text/plain": [
       "torch.Size([1, 28, 28])"
      ]
     },
     "execution_count": 29,
     "metadata": {},
     "output_type": "execute_result"
    }
   ],
   "source": [
    "# reinitialize the mlp, so we can play with parameters right here\n",
    "mlp = MLP(nInput, nOutput, nLayer, nHidden, act_fn)\n",
    "optimizer = optim.Adam(mlp.parameters())\n",
    "ds_train[0][0].shape"
   ]
  },
  {
   "cell_type": "code",
   "execution_count": 20,
   "metadata": {
    "scrolled": true
   },
   "outputs": [
    {
     "name": "stdout",
     "output_type": "stream",
     "text": [
      "Train Epoch: 1 [0/60000 (0%)]\tLoss: 2.335901\n",
      "Train Epoch: 1 [6400/60000 (11%)]\tLoss: 0.606883\n",
      "Train Epoch: 1 [12800/60000 (21%)]\tLoss: 0.351107\n",
      "Train Epoch: 1 [19200/60000 (32%)]\tLoss: 0.307508\n",
      "Train Epoch: 1 [25600/60000 (43%)]\tLoss: 0.316597\n",
      "Train Epoch: 1 [32000/60000 (53%)]\tLoss: 0.277100\n",
      "Train Epoch: 1 [38400/60000 (64%)]\tLoss: 0.177322\n",
      "Train Epoch: 1 [44800/60000 (75%)]\tLoss: 0.193714\n",
      "Train Epoch: 1 [51200/60000 (85%)]\tLoss: 0.415205\n",
      "Train Epoch: 1 [57600/60000 (96%)]\tLoss: 0.305688\n",
      "\n",
      "Train set: Average loss: 0.8493, Accuracy: 53049/60000 (88.4%)\n",
      "\n"
     ]
    },
    {
     "ename": "KeyboardInterrupt",
     "evalue": "",
     "output_type": "error",
     "traceback": [
      "\u001b[1;31m---------------------------------------------------------------------------\u001b[0m",
      "\u001b[1;31mKeyboardInterrupt\u001b[0m                         Traceback (most recent call last)",
      "\u001b[1;32mc:\\Users\\lucas\\Documents\\HS23\\Computer_Vision\\lab02-cv\\code\\image_classification.ipynb Cell 31\u001b[0m line \u001b[0;36m4\n\u001b[0;32m      <a href='vscode-notebook-cell:/c%3A/Users/lucas/Documents/HS23/Computer_Vision/lab02-cv/code/image_classification.ipynb#X42sZmlsZQ%3D%3D?line=1'>2</a>\u001b[0m \u001b[39mfor\u001b[39;00m epoch \u001b[39min\u001b[39;00m \u001b[39mrange\u001b[39m(\u001b[39m1\u001b[39m, epochs \u001b[39m+\u001b[39m \u001b[39m1\u001b[39m):\n\u001b[0;32m      <a href='vscode-notebook-cell:/c%3A/Users/lucas/Documents/HS23/Computer_Vision/lab02-cv/code/image_classification.ipynb#X42sZmlsZQ%3D%3D?line=2'>3</a>\u001b[0m     train(mlp, dl_train, optimizer, epoch, log_interval\u001b[39m=\u001b[39m\u001b[39m100\u001b[39m)\n\u001b[1;32m----> <a href='vscode-notebook-cell:/c%3A/Users/lucas/Documents/HS23/Computer_Vision/lab02-cv/code/image_classification.ipynb#X42sZmlsZQ%3D%3D?line=3'>4</a>\u001b[0m     test(mlp, dl_test)\n\u001b[0;32m      <a href='vscode-notebook-cell:/c%3A/Users/lucas/Documents/HS23/Computer_Vision/lab02-cv/code/image_classification.ipynb#X42sZmlsZQ%3D%3D?line=5'>6</a>\u001b[0m \u001b[39mprint\u001b[39m (\u001b[39m'\u001b[39m\u001b[39mTraining is finished.\u001b[39m\u001b[39m'\u001b[39m)\n",
      "\u001b[1;32mc:\\Users\\lucas\\Documents\\HS23\\Computer_Vision\\lab02-cv\\code\\image_classification.ipynb Cell 31\u001b[0m line \u001b[0;36m6\n\u001b[0;32m      <a href='vscode-notebook-cell:/c%3A/Users/lucas/Documents/HS23/Computer_Vision/lab02-cv/code/image_classification.ipynb#X42sZmlsZQ%3D%3D?line=3'>4</a>\u001b[0m correct \u001b[39m=\u001b[39m \u001b[39m0\u001b[39m\n\u001b[0;32m      <a href='vscode-notebook-cell:/c%3A/Users/lucas/Documents/HS23/Computer_Vision/lab02-cv/code/image_classification.ipynb#X42sZmlsZQ%3D%3D?line=4'>5</a>\u001b[0m \u001b[39mwith\u001b[39;00m torch\u001b[39m.\u001b[39mno_grad():\n\u001b[1;32m----> <a href='vscode-notebook-cell:/c%3A/Users/lucas/Documents/HS23/Computer_Vision/lab02-cv/code/image_classification.ipynb#X42sZmlsZQ%3D%3D?line=5'>6</a>\u001b[0m     \u001b[39mfor\u001b[39;00m data, target \u001b[39min\u001b[39;00m dl_test:\n\u001b[0;32m      <a href='vscode-notebook-cell:/c%3A/Users/lucas/Documents/HS23/Computer_Vision/lab02-cv/code/image_classification.ipynb#X42sZmlsZQ%3D%3D?line=6'>7</a>\u001b[0m         data, target \u001b[39m=\u001b[39m data\u001b[39m.\u001b[39mto(device), target\u001b[39m.\u001b[39mto(device)\n\u001b[0;32m      <a href='vscode-notebook-cell:/c%3A/Users/lucas/Documents/HS23/Computer_Vision/lab02-cv/code/image_classification.ipynb#X42sZmlsZQ%3D%3D?line=7'>8</a>\u001b[0m         output \u001b[39m=\u001b[39m model(data)\n",
      "File \u001b[1;32mc:\\ProgramData\\anaconda3\\lib\\site-packages\\torch\\utils\\data\\dataloader.py:630\u001b[0m, in \u001b[0;36m_BaseDataLoaderIter.__next__\u001b[1;34m(self)\u001b[0m\n\u001b[0;32m    627\u001b[0m \u001b[39mif\u001b[39;00m \u001b[39mself\u001b[39m\u001b[39m.\u001b[39m_sampler_iter \u001b[39mis\u001b[39;00m \u001b[39mNone\u001b[39;00m:\n\u001b[0;32m    628\u001b[0m     \u001b[39m# TODO(https://github.com/pytorch/pytorch/issues/76750)\u001b[39;00m\n\u001b[0;32m    629\u001b[0m     \u001b[39mself\u001b[39m\u001b[39m.\u001b[39m_reset()  \u001b[39m# type: ignore[call-arg]\u001b[39;00m\n\u001b[1;32m--> 630\u001b[0m data \u001b[39m=\u001b[39m \u001b[39mself\u001b[39;49m\u001b[39m.\u001b[39;49m_next_data()\n\u001b[0;32m    631\u001b[0m \u001b[39mself\u001b[39m\u001b[39m.\u001b[39m_num_yielded \u001b[39m+\u001b[39m\u001b[39m=\u001b[39m \u001b[39m1\u001b[39m\n\u001b[0;32m    632\u001b[0m \u001b[39mif\u001b[39;00m \u001b[39mself\u001b[39m\u001b[39m.\u001b[39m_dataset_kind \u001b[39m==\u001b[39m _DatasetKind\u001b[39m.\u001b[39mIterable \u001b[39mand\u001b[39;00m \\\n\u001b[0;32m    633\u001b[0m         \u001b[39mself\u001b[39m\u001b[39m.\u001b[39m_IterableDataset_len_called \u001b[39mis\u001b[39;00m \u001b[39mnot\u001b[39;00m \u001b[39mNone\u001b[39;00m \u001b[39mand\u001b[39;00m \\\n\u001b[0;32m    634\u001b[0m         \u001b[39mself\u001b[39m\u001b[39m.\u001b[39m_num_yielded \u001b[39m>\u001b[39m \u001b[39mself\u001b[39m\u001b[39m.\u001b[39m_IterableDataset_len_called:\n",
      "File \u001b[1;32mc:\\ProgramData\\anaconda3\\lib\\site-packages\\torch\\utils\\data\\dataloader.py:1328\u001b[0m, in \u001b[0;36m_MultiProcessingDataLoaderIter._next_data\u001b[1;34m(self)\u001b[0m\n\u001b[0;32m   1325\u001b[0m     \u001b[39mreturn\u001b[39;00m \u001b[39mself\u001b[39m\u001b[39m.\u001b[39m_process_data(data)\n\u001b[0;32m   1327\u001b[0m \u001b[39massert\u001b[39;00m \u001b[39mnot\u001b[39;00m \u001b[39mself\u001b[39m\u001b[39m.\u001b[39m_shutdown \u001b[39mand\u001b[39;00m \u001b[39mself\u001b[39m\u001b[39m.\u001b[39m_tasks_outstanding \u001b[39m>\u001b[39m \u001b[39m0\u001b[39m\n\u001b[1;32m-> 1328\u001b[0m idx, data \u001b[39m=\u001b[39m \u001b[39mself\u001b[39;49m\u001b[39m.\u001b[39;49m_get_data()\n\u001b[0;32m   1329\u001b[0m \u001b[39mself\u001b[39m\u001b[39m.\u001b[39m_tasks_outstanding \u001b[39m-\u001b[39m\u001b[39m=\u001b[39m \u001b[39m1\u001b[39m\n\u001b[0;32m   1330\u001b[0m \u001b[39mif\u001b[39;00m \u001b[39mself\u001b[39m\u001b[39m.\u001b[39m_dataset_kind \u001b[39m==\u001b[39m _DatasetKind\u001b[39m.\u001b[39mIterable:\n\u001b[0;32m   1331\u001b[0m     \u001b[39m# Check for _IterableDatasetStopIteration\u001b[39;00m\n",
      "File \u001b[1;32mc:\\ProgramData\\anaconda3\\lib\\site-packages\\torch\\utils\\data\\dataloader.py:1294\u001b[0m, in \u001b[0;36m_MultiProcessingDataLoaderIter._get_data\u001b[1;34m(self)\u001b[0m\n\u001b[0;32m   1290\u001b[0m     \u001b[39m# In this case, `self._data_queue` is a `queue.Queue`,. But we don't\u001b[39;00m\n\u001b[0;32m   1291\u001b[0m     \u001b[39m# need to call `.task_done()` because we don't use `.join()`.\u001b[39;00m\n\u001b[0;32m   1292\u001b[0m \u001b[39melse\u001b[39;00m:\n\u001b[0;32m   1293\u001b[0m     \u001b[39mwhile\u001b[39;00m \u001b[39mTrue\u001b[39;00m:\n\u001b[1;32m-> 1294\u001b[0m         success, data \u001b[39m=\u001b[39m \u001b[39mself\u001b[39;49m\u001b[39m.\u001b[39;49m_try_get_data()\n\u001b[0;32m   1295\u001b[0m         \u001b[39mif\u001b[39;00m success:\n\u001b[0;32m   1296\u001b[0m             \u001b[39mreturn\u001b[39;00m data\n",
      "File \u001b[1;32mc:\\ProgramData\\anaconda3\\lib\\site-packages\\torch\\utils\\data\\dataloader.py:1132\u001b[0m, in \u001b[0;36m_MultiProcessingDataLoaderIter._try_get_data\u001b[1;34m(self, timeout)\u001b[0m\n\u001b[0;32m   1119\u001b[0m \u001b[39mdef\u001b[39;00m \u001b[39m_try_get_data\u001b[39m(\u001b[39mself\u001b[39m, timeout\u001b[39m=\u001b[39m_utils\u001b[39m.\u001b[39mMP_STATUS_CHECK_INTERVAL):\n\u001b[0;32m   1120\u001b[0m     \u001b[39m# Tries to fetch data from `self._data_queue` once for a given timeout.\u001b[39;00m\n\u001b[0;32m   1121\u001b[0m     \u001b[39m# This can also be used as inner loop of fetching without timeout, with\u001b[39;00m\n\u001b[1;32m   (...)\u001b[0m\n\u001b[0;32m   1129\u001b[0m     \u001b[39m# Returns a 2-tuple:\u001b[39;00m\n\u001b[0;32m   1130\u001b[0m     \u001b[39m#   (bool: whether successfully get data, any: data if successful else None)\u001b[39;00m\n\u001b[0;32m   1131\u001b[0m     \u001b[39mtry\u001b[39;00m:\n\u001b[1;32m-> 1132\u001b[0m         data \u001b[39m=\u001b[39m \u001b[39mself\u001b[39;49m\u001b[39m.\u001b[39;49m_data_queue\u001b[39m.\u001b[39;49mget(timeout\u001b[39m=\u001b[39;49mtimeout)\n\u001b[0;32m   1133\u001b[0m         \u001b[39mreturn\u001b[39;00m (\u001b[39mTrue\u001b[39;00m, data)\n\u001b[0;32m   1134\u001b[0m     \u001b[39mexcept\u001b[39;00m \u001b[39mException\u001b[39;00m \u001b[39mas\u001b[39;00m e:\n\u001b[0;32m   1135\u001b[0m         \u001b[39m# At timeout and error, we manually check whether any worker has\u001b[39;00m\n\u001b[0;32m   1136\u001b[0m         \u001b[39m# failed. Note that this is the only mechanism for Windows to detect\u001b[39;00m\n\u001b[0;32m   1137\u001b[0m         \u001b[39m# worker failures.\u001b[39;00m\n",
      "File \u001b[1;32mc:\\ProgramData\\anaconda3\\lib\\multiprocessing\\queues.py:113\u001b[0m, in \u001b[0;36mQueue.get\u001b[1;34m(self, block, timeout)\u001b[0m\n\u001b[0;32m    111\u001b[0m \u001b[39mif\u001b[39;00m block:\n\u001b[0;32m    112\u001b[0m     timeout \u001b[39m=\u001b[39m deadline \u001b[39m-\u001b[39m time\u001b[39m.\u001b[39mmonotonic()\n\u001b[1;32m--> 113\u001b[0m     \u001b[39mif\u001b[39;00m \u001b[39mnot\u001b[39;00m \u001b[39mself\u001b[39;49m\u001b[39m.\u001b[39;49m_poll(timeout):\n\u001b[0;32m    114\u001b[0m         \u001b[39mraise\u001b[39;00m Empty\n\u001b[0;32m    115\u001b[0m \u001b[39melif\u001b[39;00m \u001b[39mnot\u001b[39;00m \u001b[39mself\u001b[39m\u001b[39m.\u001b[39m_poll():\n",
      "File \u001b[1;32mc:\\ProgramData\\anaconda3\\lib\\multiprocessing\\connection.py:257\u001b[0m, in \u001b[0;36m_ConnectionBase.poll\u001b[1;34m(self, timeout)\u001b[0m\n\u001b[0;32m    255\u001b[0m \u001b[39mself\u001b[39m\u001b[39m.\u001b[39m_check_closed()\n\u001b[0;32m    256\u001b[0m \u001b[39mself\u001b[39m\u001b[39m.\u001b[39m_check_readable()\n\u001b[1;32m--> 257\u001b[0m \u001b[39mreturn\u001b[39;00m \u001b[39mself\u001b[39;49m\u001b[39m.\u001b[39;49m_poll(timeout)\n",
      "File \u001b[1;32mc:\\ProgramData\\anaconda3\\lib\\multiprocessing\\connection.py:330\u001b[0m, in \u001b[0;36mPipeConnection._poll\u001b[1;34m(self, timeout)\u001b[0m\n\u001b[0;32m    327\u001b[0m \u001b[39mif\u001b[39;00m (\u001b[39mself\u001b[39m\u001b[39m.\u001b[39m_got_empty_message \u001b[39mor\u001b[39;00m\n\u001b[0;32m    328\u001b[0m             _winapi\u001b[39m.\u001b[39mPeekNamedPipe(\u001b[39mself\u001b[39m\u001b[39m.\u001b[39m_handle)[\u001b[39m0\u001b[39m] \u001b[39m!=\u001b[39m \u001b[39m0\u001b[39m):\n\u001b[0;32m    329\u001b[0m     \u001b[39mreturn\u001b[39;00m \u001b[39mTrue\u001b[39;00m\n\u001b[1;32m--> 330\u001b[0m \u001b[39mreturn\u001b[39;00m \u001b[39mbool\u001b[39m(wait([\u001b[39mself\u001b[39;49m], timeout))\n",
      "File \u001b[1;32mc:\\ProgramData\\anaconda3\\lib\\multiprocessing\\connection.py:879\u001b[0m, in \u001b[0;36mwait\u001b[1;34m(object_list, timeout)\u001b[0m\n\u001b[0;32m    876\u001b[0m                 ready_objects\u001b[39m.\u001b[39madd(o)\n\u001b[0;32m    877\u001b[0m                 timeout \u001b[39m=\u001b[39m \u001b[39m0\u001b[39m\n\u001b[1;32m--> 879\u001b[0m     ready_handles \u001b[39m=\u001b[39m _exhaustive_wait(waithandle_to_obj\u001b[39m.\u001b[39;49mkeys(), timeout)\n\u001b[0;32m    880\u001b[0m \u001b[39mfinally\u001b[39;00m:\n\u001b[0;32m    881\u001b[0m     \u001b[39m# request that overlapped reads stop\u001b[39;00m\n\u001b[0;32m    882\u001b[0m     \u001b[39mfor\u001b[39;00m ov \u001b[39min\u001b[39;00m ov_list:\n",
      "File \u001b[1;32mc:\\ProgramData\\anaconda3\\lib\\multiprocessing\\connection.py:811\u001b[0m, in \u001b[0;36m_exhaustive_wait\u001b[1;34m(handles, timeout)\u001b[0m\n\u001b[0;32m    809\u001b[0m ready \u001b[39m=\u001b[39m []\n\u001b[0;32m    810\u001b[0m \u001b[39mwhile\u001b[39;00m L:\n\u001b[1;32m--> 811\u001b[0m     res \u001b[39m=\u001b[39m _winapi\u001b[39m.\u001b[39;49mWaitForMultipleObjects(L, \u001b[39mFalse\u001b[39;49;00m, timeout)\n\u001b[0;32m    812\u001b[0m     \u001b[39mif\u001b[39;00m res \u001b[39m==\u001b[39m WAIT_TIMEOUT:\n\u001b[0;32m    813\u001b[0m         \u001b[39mbreak\u001b[39;00m\n",
      "\u001b[1;31mKeyboardInterrupt\u001b[0m: "
     ]
    }
   ],
   "source": [
    "epochs = 10\n",
    "\n",
    "for epoch in range(1, epochs + 1):\n",
    "    train(mlp, dl_train, optimizer, epoch, log_interval=100)\n",
    "    test(mlp, dl_test)\n",
    "\n",
    "print ('Training is finished.')"
   ]
  },
  {
   "cell_type": "markdown",
   "metadata": {},
   "source": [
    "After training, you should see test accuracies of > **94%** - By they way, here we report test accuracy, the last exercises reported test error. Accuracy is simply (1 - error). Both metrics are commonly reported, there is no clear preference in literature for one or the other."
   ]
  },
  {
   "cell_type": "markdown",
   "metadata": {},
   "source": [
    "Now, can you do some parameter tuning to boost the test accuracy to > **97%**?"
   ]
  },
  {
   "cell_type": "code",
   "execution_count": null,
   "metadata": {},
   "outputs": [
    {
     "name": "stdout",
     "output_type": "stream",
     "text": [
      "Train Epoch: 1 [0/60000 (0%)]\tLoss: 2.305016\n",
      "Train Epoch: 1 [6400/60000 (11%)]\tLoss: 0.891504\n",
      "Train Epoch: 1 [12800/60000 (21%)]\tLoss: 0.471458\n",
      "Train Epoch: 1 [19200/60000 (32%)]\tLoss: 0.207857\n",
      "Train Epoch: 1 [25600/60000 (43%)]\tLoss: 0.390669\n",
      "Train Epoch: 1 [32000/60000 (53%)]\tLoss: 0.317958\n",
      "Train Epoch: 1 [38400/60000 (64%)]\tLoss: 0.202318\n",
      "Train Epoch: 1 [44800/60000 (75%)]\tLoss: 0.238914\n",
      "Train Epoch: 1 [51200/60000 (85%)]\tLoss: 0.157258\n",
      "Train Epoch: 1 [57600/60000 (96%)]\tLoss: 0.156291\n",
      "\n",
      "Train set: Average loss: 0.1086, Accuracy: 52013/60000 (86.7%)\n",
      "\n",
      "\n",
      "Test set: Average loss: 0.1899, Accuracy: 9488/10000 (94.880%)\n",
      "\n",
      "Train Epoch: 2 [0/60000 (0%)]\tLoss: 0.059410\n",
      "Train Epoch: 2 [6400/60000 (11%)]\tLoss: 0.212740\n",
      "Train Epoch: 2 [12800/60000 (21%)]\tLoss: 0.115901\n",
      "Train Epoch: 2 [19200/60000 (32%)]\tLoss: 0.294994\n",
      "Train Epoch: 2 [25600/60000 (43%)]\tLoss: 0.255193\n",
      "Train Epoch: 2 [32000/60000 (53%)]\tLoss: 0.117440\n",
      "Train Epoch: 2 [38400/60000 (64%)]\tLoss: 0.145715\n",
      "Train Epoch: 2 [44800/60000 (75%)]\tLoss: 0.323370\n",
      "Train Epoch: 2 [51200/60000 (85%)]\tLoss: 0.324525\n",
      "Train Epoch: 2 [57600/60000 (96%)]\tLoss: 0.010278\n",
      "\n",
      "Train set: Average loss: 0.1578, Accuracy: 57397/60000 (95.7%)\n",
      "\n",
      "\n",
      "Test set: Average loss: 0.1393, Accuracy: 9606/10000 (96.060%)\n",
      "\n",
      "Train Epoch: 3 [0/60000 (0%)]\tLoss: 0.188763\n",
      "Train Epoch: 3 [6400/60000 (11%)]\tLoss: 0.023265\n",
      "Train Epoch: 3 [12800/60000 (21%)]\tLoss: 0.144385\n",
      "Train Epoch: 3 [19200/60000 (32%)]\tLoss: 0.087222\n",
      "Train Epoch: 3 [25600/60000 (43%)]\tLoss: 0.212339\n",
      "Train Epoch: 3 [32000/60000 (53%)]\tLoss: 0.150735\n",
      "Train Epoch: 3 [38400/60000 (64%)]\tLoss: 0.161465\n",
      "Train Epoch: 3 [44800/60000 (75%)]\tLoss: 0.077304\n",
      "Train Epoch: 3 [51200/60000 (85%)]\tLoss: 0.262062\n",
      "Train Epoch: 3 [57600/60000 (96%)]\tLoss: 0.069747\n",
      "\n",
      "Train set: Average loss: 0.0568, Accuracy: 58022/60000 (96.7%)\n",
      "\n",
      "\n",
      "Test set: Average loss: 0.1456, Accuracy: 9667/10000 (96.670%)\n",
      "\n",
      "Train Epoch: 4 [0/60000 (0%)]\tLoss: 0.090672\n",
      "Train Epoch: 4 [6400/60000 (11%)]\tLoss: 0.018919\n",
      "Train Epoch: 4 [12800/60000 (21%)]\tLoss: 0.195180\n",
      "Train Epoch: 4 [19200/60000 (32%)]\tLoss: 0.276934\n",
      "Train Epoch: 4 [25600/60000 (43%)]\tLoss: 0.099500\n",
      "Train Epoch: 4 [32000/60000 (53%)]\tLoss: 0.156352\n",
      "Train Epoch: 4 [38400/60000 (64%)]\tLoss: 0.167935\n",
      "Train Epoch: 4 [44800/60000 (75%)]\tLoss: 0.052272\n",
      "Train Epoch: 4 [51200/60000 (85%)]\tLoss: 0.048663\n",
      "Train Epoch: 4 [57600/60000 (96%)]\tLoss: 0.031760\n",
      "\n",
      "Train set: Average loss: 0.0188, Accuracy: 58389/60000 (97.3%)\n",
      "\n",
      "\n",
      "Test set: Average loss: 0.1137, Accuracy: 9690/10000 (96.900%)\n",
      "\n",
      "Train Epoch: 5 [0/60000 (0%)]\tLoss: 0.072919\n",
      "Train Epoch: 5 [6400/60000 (11%)]\tLoss: 0.069030\n",
      "Train Epoch: 5 [12800/60000 (21%)]\tLoss: 0.185717\n",
      "Train Epoch: 5 [19200/60000 (32%)]\tLoss: 0.009612\n",
      "Train Epoch: 5 [25600/60000 (43%)]\tLoss: 0.056819\n",
      "Train Epoch: 5 [32000/60000 (53%)]\tLoss: 0.070555\n",
      "Train Epoch: 5 [38400/60000 (64%)]\tLoss: 0.082186\n",
      "Train Epoch: 5 [44800/60000 (75%)]\tLoss: 0.128789\n",
      "Train Epoch: 5 [51200/60000 (85%)]\tLoss: 0.080366\n",
      "Train Epoch: 5 [57600/60000 (96%)]\tLoss: 0.246400\n",
      "\n",
      "Train set: Average loss: 0.0072, Accuracy: 58674/60000 (97.8%)\n",
      "\n",
      "\n",
      "Test set: Average loss: 0.1215, Accuracy: 9696/10000 (96.960%)\n",
      "\n",
      "Train Epoch: 6 [0/60000 (0%)]\tLoss: 0.338392\n",
      "Train Epoch: 6 [6400/60000 (11%)]\tLoss: 0.061568\n",
      "Train Epoch: 6 [12800/60000 (21%)]\tLoss: 0.011797\n",
      "Train Epoch: 6 [19200/60000 (32%)]\tLoss: 0.125254\n",
      "Train Epoch: 6 [25600/60000 (43%)]\tLoss: 0.029760\n",
      "Train Epoch: 6 [32000/60000 (53%)]\tLoss: 0.132498\n",
      "Train Epoch: 6 [38400/60000 (64%)]\tLoss: 0.168936\n",
      "Train Epoch: 6 [44800/60000 (75%)]\tLoss: 0.050800\n",
      "Train Epoch: 6 [51200/60000 (85%)]\tLoss: 0.068173\n",
      "Train Epoch: 6 [57600/60000 (96%)]\tLoss: 0.054503\n",
      "\n",
      "Train set: Average loss: 0.0014, Accuracy: 58809/60000 (98.0%)\n",
      "\n",
      "\n",
      "Test set: Average loss: 0.1132, Accuracy: 9728/10000 (97.280%)\n",
      "\n",
      "Train Epoch: 7 [0/60000 (0%)]\tLoss: 0.055686\n",
      "Train Epoch: 7 [6400/60000 (11%)]\tLoss: 0.091984\n",
      "Train Epoch: 7 [12800/60000 (21%)]\tLoss: 0.135675\n",
      "Train Epoch: 7 [19200/60000 (32%)]\tLoss: 0.189001\n",
      "Train Epoch: 7 [25600/60000 (43%)]\tLoss: 0.114398\n",
      "Train Epoch: 7 [32000/60000 (53%)]\tLoss: 0.074116\n",
      "Train Epoch: 7 [38400/60000 (64%)]\tLoss: 0.054900\n",
      "Train Epoch: 7 [44800/60000 (75%)]\tLoss: 0.015073\n",
      "Train Epoch: 7 [51200/60000 (85%)]\tLoss: 0.016664\n",
      "Train Epoch: 7 [57600/60000 (96%)]\tLoss: 0.001964\n",
      "\n",
      "Train set: Average loss: 0.0006, Accuracy: 58967/60000 (98.3%)\n",
      "\n",
      "\n",
      "Test set: Average loss: 0.1237, Accuracy: 9741/10000 (97.410%)\n",
      "\n",
      "Train Epoch: 8 [0/60000 (0%)]\tLoss: 0.002869\n",
      "Train Epoch: 8 [6400/60000 (11%)]\tLoss: 0.198088\n",
      "Train Epoch: 8 [12800/60000 (21%)]\tLoss: 0.003635\n",
      "Train Epoch: 8 [19200/60000 (32%)]\tLoss: 0.139553\n",
      "Train Epoch: 8 [25600/60000 (43%)]\tLoss: 0.021022\n",
      "Train Epoch: 8 [32000/60000 (53%)]\tLoss: 0.027728\n",
      "Train Epoch: 8 [38400/60000 (64%)]\tLoss: 0.041038\n",
      "Train Epoch: 8 [44800/60000 (75%)]\tLoss: 0.027181\n",
      "Train Epoch: 8 [51200/60000 (85%)]\tLoss: 0.023529\n",
      "Train Epoch: 8 [57600/60000 (96%)]\tLoss: 0.002196\n",
      "\n",
      "Train set: Average loss: 0.0159, Accuracy: 59071/60000 (98.5%)\n",
      "\n",
      "\n",
      "Test set: Average loss: 0.1156, Accuracy: 9752/10000 (97.520%)\n",
      "\n",
      "Train Epoch: 9 [0/60000 (0%)]\tLoss: 0.001841\n",
      "Train Epoch: 9 [6400/60000 (11%)]\tLoss: 0.143872\n",
      "Train Epoch: 9 [12800/60000 (21%)]\tLoss: 0.065629\n",
      "Train Epoch: 9 [19200/60000 (32%)]\tLoss: 0.127196\n",
      "Train Epoch: 9 [25600/60000 (43%)]\tLoss: 0.096693\n",
      "Train Epoch: 9 [32000/60000 (53%)]\tLoss: 0.031767\n",
      "Train Epoch: 9 [38400/60000 (64%)]\tLoss: 0.005572\n",
      "Train Epoch: 9 [44800/60000 (75%)]\tLoss: 0.028032\n",
      "Train Epoch: 9 [51200/60000 (85%)]\tLoss: 0.072636\n",
      "Train Epoch: 9 [57600/60000 (96%)]\tLoss: 0.069751\n",
      "\n",
      "Train set: Average loss: 0.0349, Accuracy: 59098/60000 (98.5%)\n",
      "\n",
      "\n",
      "Test set: Average loss: 0.1438, Accuracy: 9666/10000 (96.660%)\n",
      "\n",
      "Train Epoch: 10 [0/60000 (0%)]\tLoss: 0.010302\n",
      "Train Epoch: 10 [6400/60000 (11%)]\tLoss: 0.071229\n",
      "Train Epoch: 10 [12800/60000 (21%)]\tLoss: 0.038492\n",
      "Train Epoch: 10 [19200/60000 (32%)]\tLoss: 0.003704\n",
      "Train Epoch: 10 [25600/60000 (43%)]\tLoss: 0.031060\n",
      "Train Epoch: 10 [32000/60000 (53%)]\tLoss: 0.110398\n",
      "Train Epoch: 10 [38400/60000 (64%)]\tLoss: 0.015973\n",
      "Train Epoch: 10 [44800/60000 (75%)]\tLoss: 0.173970\n",
      "Train Epoch: 10 [51200/60000 (85%)]\tLoss: 0.042192\n",
      "Train Epoch: 10 [57600/60000 (96%)]\tLoss: 0.020285\n",
      "\n",
      "Train set: Average loss: 0.0287, Accuracy: 59219/60000 (98.7%)\n",
      "\n",
      "\n",
      "Test set: Average loss: 0.1204, Accuracy: 9752/10000 (97.520%)\n",
      "\n",
      "Training is finished.\n"
     ]
    }
   ],
   "source": [
    "#########################################################################\n",
    "#TODO: modify the parameters below to see which setting that you can get to 97%\n",
    "#########################################################################\n",
    "nLayer = 10     #10\n",
    "nHidden = 200   #200\n",
    "act_fn = nn.ReLU()\n",
    "\n",
    "# reinitialize the mlp, so we can play with parameters right here\n",
    "mlp = MLP(nInput, nOutput, nLayer, nHidden, act_fn)\n",
    "optimizer = optim.Adam(mlp.parameters())\n",
    "\n",
    "epochs = 10\n",
    "for epoch in range(1, epochs + 1):\n",
    "    train(mlp, dl_train, optimizer, epoch, log_interval=100)\n",
    "    test(mlp, dl_test)\n",
    "\n",
    "print ('Training is finished.')"
   ]
  },
  {
   "cell_type": "markdown",
   "metadata": {},
   "source": [
    "Before you move on to the next exercise, you can further play with the other parameters (learning rate, epochs, a different optimizer, etc.) to get a feeling what can improve or hamper performance. "
   ]
  },
  {
   "cell_type": "markdown",
   "metadata": {},
   "source": [
    "## CNN\n",
    "Alright, we matched our prior performance. Let's surpass it! You will soon see the power of CNN by building a small one yourself. The structure should be as follows\n",
    "\n",
    "| CNN Architecture                             \t|\n",
    "|----------------------------------------------\t|\n",
    "| Conv: $C_{in}=1, C_{out}=32, K=3, S=1, P=0$  \t|\n",
    "| ReLU                                         \t|\n",
    "| Conv: $C_{in}=32, C_{out}=64, K=3, S=1, P=0$ \t|\n",
    "| ReLU                                         \t|\n",
    "| MaxPool2d: $K=2, S=2, P=0$                   \t|\n",
    "| Dropout: $p=0.25$                            \t|\n",
    "| Linear: $C_{in}=9216, C_{out}=128$           \t|\n",
    "| ReLU                                         \t|\n",
    "| Dropout: $p=0.5$                             \t|\n",
    "| Linear: $C_{in}=128, C_{out}=10$             \t|\n",
    "\n",
    "The layers you will need are: \n",
    "\n",
    "`nn.Conv2d,  nn.Linear,  nn.Dropout, nn.MaxPool2d, nn.Flatten`\n",
    "\n",
    "For layers without parameters you can alternatively use function in the forward pass:  \n",
    "\n",
    "`F.max_pool2d, torch.flatten`"
   ]
  },
  {
   "cell_type": "code",
   "execution_count": null,
   "metadata": {},
   "outputs": [],
   "source": [
    "#########################################################################\n",
    "# TODO: Implement the __init__ and forward method of the CNN class. \n",
    "# Hint: do not forget to flatten the appropriate dimension after the convolutional blocks. \n",
    "# A linear layers expect input of the size (B, H) with batch size B and feature size H\n",
    "#########################################################################\n",
    "\n",
    "class CNN(nn.Module):\n",
    "    def __init__(self):\n",
    "        super(CNN, self).__init__()\n",
    "        self.conv1 = nn.Conv2d(in_channels=1,out_channels=32,kernel_size=3,stride=1,padding=0)\n",
    "        self.conv2 = nn.Conv2d(in_channels=32,out_channels=64,kernel_size=3,stride=1,padding=0)\n",
    "        self.maxPool = nn.MaxPool2d(kernel_size=2,stride=2,padding=0)\n",
    "        self.do1 = nn.Dropout(p=0.25)\n",
    "        self.fc1 = nn.Linear(9216,128)\n",
    "        self.do2 = nn.Dropout(0.5)\n",
    "        self.fc2 = nn.Linear(128,10)\n",
    "\n",
    "    def forward(self, x):\n",
    "        x = self.conv1(x)\n",
    "        x = F.relu(x)\n",
    "        x = self.conv2(x)\n",
    "        x = F.relu(x)\n",
    "        x = self.maxPool(x)\n",
    "        x = self.do1(x).flatten(1)\n",
    "        x = self.fc1(x)\n",
    "        x = F.relu(x)\n",
    "        x = self.do2(x)\n",
    "        x = self.fc2(x)\n",
    "        return x\n"
   ]
  },
  {
   "cell_type": "code",
   "execution_count": null,
   "metadata": {},
   "outputs": [
    {
     "data": {
      "text/plain": [
       "torch.Size([1, 10])"
      ]
     },
     "execution_count": 21,
     "metadata": {},
     "output_type": "execute_result"
    }
   ],
   "source": [
    "# Let's test if the forward pass works\n",
    "# this should print torch.Size([1, 10])\n",
    "t = torch.randn(1,1,28,28)\n",
    "cnn = CNN()\n",
    "cnn(t).shape"
   ]
  },
  {
   "cell_type": "markdown",
   "metadata": {},
   "source": [
    "Alright, let's train!"
   ]
  },
  {
   "cell_type": "code",
   "execution_count": null,
   "metadata": {},
   "outputs": [],
   "source": [
    "optimizer = optim.Adam(cnn.parameters())"
   ]
  },
  {
   "cell_type": "code",
   "execution_count": null,
   "metadata": {
    "scrolled": true
   },
   "outputs": [
    {
     "name": "stdout",
     "output_type": "stream",
     "text": [
      "Train Epoch: 1 [0/60000 (0%)]\tLoss: 2.282688\n",
      "Train Epoch: 1 [6400/60000 (11%)]\tLoss: 0.361193\n",
      "Train Epoch: 1 [12800/60000 (21%)]\tLoss: 0.162952\n",
      "Train Epoch: 1 [19200/60000 (32%)]\tLoss: 0.108843\n",
      "Train Epoch: 1 [25600/60000 (43%)]\tLoss: 0.173301\n",
      "Train Epoch: 1 [32000/60000 (53%)]\tLoss: 0.165340\n",
      "Train Epoch: 1 [38400/60000 (64%)]\tLoss: 0.162694\n",
      "Train Epoch: 1 [44800/60000 (75%)]\tLoss: 0.027830\n",
      "Train Epoch: 1 [51200/60000 (85%)]\tLoss: 0.078847\n",
      "Train Epoch: 1 [57600/60000 (96%)]\tLoss: 0.115111\n",
      "\n",
      "Train set: Average loss: 0.0439, Accuracy: 56426/60000 (94.0%)\n",
      "\n",
      "\n",
      "Test set: Average loss: 0.0515, Accuracy: 9838/10000 (98.380%)\n",
      "\n",
      "Train Epoch: 2 [0/60000 (0%)]\tLoss: 0.112532\n",
      "Train Epoch: 2 [6400/60000 (11%)]\tLoss: 0.086151\n",
      "Train Epoch: 2 [12800/60000 (21%)]\tLoss: 0.125390\n",
      "Train Epoch: 2 [19200/60000 (32%)]\tLoss: 0.035100\n",
      "Train Epoch: 2 [25600/60000 (43%)]\tLoss: 0.127650\n",
      "Train Epoch: 2 [32000/60000 (53%)]\tLoss: 0.134372\n",
      "Train Epoch: 2 [38400/60000 (64%)]\tLoss: 0.018779\n",
      "Train Epoch: 2 [44800/60000 (75%)]\tLoss: 0.031254\n",
      "Train Epoch: 2 [51200/60000 (85%)]\tLoss: 0.145190\n",
      "Train Epoch: 2 [57600/60000 (96%)]\tLoss: 0.250262\n",
      "\n",
      "Train set: Average loss: 0.0155, Accuracy: 58529/60000 (97.5%)\n",
      "\n",
      "\n",
      "Test set: Average loss: 0.0385, Accuracy: 9874/10000 (98.740%)\n",
      "\n",
      "Train Epoch: 3 [0/60000 (0%)]\tLoss: 0.011573\n",
      "Train Epoch: 3 [6400/60000 (11%)]\tLoss: 0.023615\n",
      "Train Epoch: 3 [12800/60000 (21%)]\tLoss: 0.081406\n",
      "Train Epoch: 3 [19200/60000 (32%)]\tLoss: 0.158998\n",
      "Train Epoch: 3 [25600/60000 (43%)]\tLoss: 0.031564\n",
      "Train Epoch: 3 [32000/60000 (53%)]\tLoss: 0.122540\n",
      "Train Epoch: 3 [38400/60000 (64%)]\tLoss: 0.029827\n",
      "Train Epoch: 3 [44800/60000 (75%)]\tLoss: 0.021348\n",
      "Train Epoch: 3 [51200/60000 (85%)]\tLoss: 0.031525\n",
      "Train Epoch: 3 [57600/60000 (96%)]\tLoss: 0.035093\n",
      "\n",
      "Train set: Average loss: 0.0015, Accuracy: 58871/60000 (98.1%)\n",
      "\n",
      "\n",
      "Test set: Average loss: 0.0290, Accuracy: 9898/10000 (98.980%)\n",
      "\n",
      "Train Epoch: 4 [0/60000 (0%)]\tLoss: 0.085904\n",
      "Train Epoch: 4 [6400/60000 (11%)]\tLoss: 0.019628\n",
      "Train Epoch: 4 [12800/60000 (21%)]\tLoss: 0.009734\n",
      "Train Epoch: 4 [19200/60000 (32%)]\tLoss: 0.075243\n",
      "Train Epoch: 4 [25600/60000 (43%)]\tLoss: 0.031174\n",
      "Train Epoch: 4 [32000/60000 (53%)]\tLoss: 0.011590\n",
      "Train Epoch: 4 [38400/60000 (64%)]\tLoss: 0.072319\n",
      "Train Epoch: 4 [44800/60000 (75%)]\tLoss: 0.045920\n",
      "Train Epoch: 4 [51200/60000 (85%)]\tLoss: 0.062250\n",
      "Train Epoch: 4 [57600/60000 (96%)]\tLoss: 0.007793\n",
      "\n",
      "Train set: Average loss: 0.0019, Accuracy: 59079/60000 (98.5%)\n",
      "\n",
      "\n",
      "Test set: Average loss: 0.0367, Accuracy: 9889/10000 (98.890%)\n",
      "\n",
      "Train Epoch: 5 [0/60000 (0%)]\tLoss: 0.013706\n",
      "Train Epoch: 5 [6400/60000 (11%)]\tLoss: 0.087040\n",
      "Train Epoch: 5 [12800/60000 (21%)]\tLoss: 0.002617\n",
      "Train Epoch: 5 [19200/60000 (32%)]\tLoss: 0.045939\n",
      "Train Epoch: 5 [25600/60000 (43%)]\tLoss: 0.008883\n",
      "Train Epoch: 5 [32000/60000 (53%)]\tLoss: 0.049543\n",
      "Train Epoch: 5 [38400/60000 (64%)]\tLoss: 0.038360\n",
      "Train Epoch: 5 [44800/60000 (75%)]\tLoss: 0.021926\n",
      "Train Epoch: 5 [51200/60000 (85%)]\tLoss: 0.005569\n",
      "Train Epoch: 5 [57600/60000 (96%)]\tLoss: 0.078673\n",
      "\n",
      "Train set: Average loss: 0.0035, Accuracy: 59138/60000 (98.6%)\n",
      "\n",
      "\n",
      "Test set: Average loss: 0.0287, Accuracy: 9904/10000 (99.040%)\n",
      "\n"
     ]
    }
   ],
   "source": [
    "epochs = 5\n",
    "for epoch in range(1, epochs + 1):\n",
    "    train(cnn, dl_train, optimizer, epoch, log_interval=100)\n",
    "    test(cnn, dl_test)"
   ]
  },
  {
   "cell_type": "markdown",
   "metadata": {},
   "source": [
    "This will probably take a bit longer to train, as a convolutional network is not very efficient on a CPU. The current settings should get you around **99%** accuracy. Nice! \n",
    "Again, you should try different hyperparameters and see how far you can push the performance."
   ]
  },
  {
   "cell_type": "markdown",
   "metadata": {},
   "source": [
    "### Inline Question\n",
    "\n",
    "If your model weight is randomly initalized, and no training is done as above. What accuracy do you think the model will get for a 10-class classification task in theory?\n",
    "\n",
    "**Your answer**: 10%\n"
   ]
  },
  {
   "cell_type": "markdown",
   "metadata": {},
   "source": [
    "## Training on CIFAR10\n",
    "\n",
    "Now we are going to move to something more challenging - CIFAR10. We can reuse most of the code above. Thankfully, CIFAR is also a popular dataset, so we can again make use of a PyTorch convience function."
   ]
  },
  {
   "cell_type": "code",
   "execution_count": null,
   "metadata": {},
   "outputs": [
    {
     "name": "stdout",
     "output_type": "stream",
     "text": [
      "Files already downloaded and verified\n"
     ]
    }
   ],
   "source": [
    "ds_train = datasets.CIFAR10(root='./data', train=True, download=True)"
   ]
  },
  {
   "cell_type": "markdown",
   "metadata": {},
   "source": [
    "This dataset is not normalized yet, so we need to calculate the normalization constants."
   ]
  },
  {
   "cell_type": "code",
   "execution_count": null,
   "metadata": {},
   "outputs": [],
   "source": [
    "ims_train = torch.tensor(ds_train.data)\n",
    "ims_train = ims_train.float() / 255."
   ]
  },
  {
   "cell_type": "code",
   "execution_count": null,
   "metadata": {},
   "outputs": [
    {
     "data": {
      "text/plain": [
       "tensor([0.2470, 0.2435, 0.2616])"
      ]
     },
     "execution_count": 26,
     "metadata": {},
     "output_type": "execute_result"
    }
   ],
   "source": [
    "ims_train.std((0,1,2))"
   ]
  },
  {
   "cell_type": "code",
   "execution_count": null,
   "metadata": {},
   "outputs": [],
   "source": [
    "#########################################################################\n",
    "# TODO: calculate the mean and std of CIFAR\n",
    "# hint: We want the mean and std of the channel dimension, these should\n",
    "# be 3 dimensional\n",
    "#########################################################################\n",
    "mu = ims_train.mean(axis=(0, 1, 2))\n",
    "std = ims_train.std(axis=(0, 1, 2))\n"
   ]
  },
  {
   "cell_type": "code",
   "execution_count": null,
   "metadata": {},
   "outputs": [
    {
     "data": {
      "text/plain": [
       "tensor([0.4914, 0.4822, 0.4465])"
      ]
     },
     "execution_count": 28,
     "metadata": {},
     "output_type": "execute_result"
    }
   ],
   "source": [
    "torch.mean(ims_train, dim=(0,1,2))"
   ]
  },
  {
   "cell_type": "markdown",
   "metadata": {},
   "source": [
    "For CIFAR we want to make use of data augmentation to improve generalization. You will find all data augmentations data are included in torchvision here:\n",
    "\n",
    "https://pytorch.org/docs/stable/torchvision/transforms.html"
   ]
  },
  {
   "cell_type": "code",
   "execution_count": null,
   "metadata": {},
   "outputs": [
    {
     "name": "stdout",
     "output_type": "stream",
     "text": [
      "Files already downloaded and verified\n",
      "Files already downloaded and verified\n"
     ]
    }
   ],
   "source": [
    "BATCH_SIZE = 128\n",
    "NUM_WORKERS = 4 # if you encounter some unexpected errors in data loading, try setting `NUM_WORKERS = 0`\n",
    "#########################################################################\n",
    "# TODO: Implement the proper transforms for the training and test dataloaders. \n",
    "# Then build train and test dataloaders with batch size 128 and 4 workers\n",
    "#\n",
    "# Train: \n",
    "# - Apply a random crop with size 32 on a padded version of the image with P=4\n",
    "# - Flip the image horizontally with a probability of 40 %\n",
    "# - Transform to a Tensor\n",
    "# - Normalize with the constants calculated above\n",
    "# Test: \n",
    "# - Transform to a Tensor\n",
    "# - Normalize with the constants calculated above\n",
    "#########################################################################\n",
    "transform_train = transforms.Compose([\n",
    "    transforms.Pad(4),\n",
    "    transforms.RandomCrop(32),\n",
    "    transforms.RandomHorizontalFlip(0.4),\n",
    "    transforms.ToTensor(),\n",
    "    transforms.Normalize(mean=mu, std=std)\n",
    "])\n",
    "transform_test = transforms.Compose([\n",
    "    transforms.ToTensor(),\n",
    "    transforms.Normalize(mean=mu, std=std)\n",
    "])\n",
    "\n",
    "ds_train = datasets.CIFAR10('./data', train=True, download=True, transform=transform_train)\n",
    "ds_test = datasets.CIFAR10('./data', train=False, download=True, transform=transform_test)\n",
    "\n",
    "dl_train = DataLoader(\n",
    "    ds_train,\n",
    "    batch_size=BATCH_SIZE,\n",
    "    shuffle=True,\n",
    "    num_workers=NUM_WORKERS,\n",
    ")\n",
    "dl_test = DataLoader(\n",
    "    ds_test,\n",
    "    batch_size=BATCH_SIZE,\n",
    "    shuffle=False,\n",
    "    num_workers=NUM_WORKERS,\n",
    ")"
   ]
  },
  {
   "cell_type": "markdown",
   "metadata": {},
   "source": [
    "Setting up the  optimizer, this time we use SGD. The scheduler adapts the learning rate during traing (you can ignore it)"
   ]
  },
  {
   "cell_type": "code",
   "execution_count": null,
   "metadata": {},
   "outputs": [],
   "source": [
    "cnn = CNN()\n",
    "optimizer = optim.SGD(cnn.parameters(), lr=0.1, momentum=0.9, weight_decay=5e-4)\n",
    "scheduler = torch.optim.lr_scheduler.CosineAnnealingLR(optimizer, T_max=200)"
   ]
  },
  {
   "cell_type": "code",
   "execution_count": null,
   "metadata": {
    "scrolled": true
   },
   "outputs": [
    {
     "ename": "RuntimeError",
     "evalue": "Given groups=1, weight of size [32, 1, 3, 3], expected input[128, 3, 32, 32] to have 1 channels, but got 3 channels instead",
     "output_type": "error",
     "traceback": [
      "\u001b[1;31m---------------------------------------------------------------------------\u001b[0m",
      "\u001b[1;31mRuntimeError\u001b[0m                              Traceback (most recent call last)",
      "\u001b[1;32mc:\\Users\\lucas\\Documents\\HS23\\Computer_Vision\\lab04-cv\\code\\image_classification.ipynb Cell 55\u001b[0m line \u001b[0;36m3\n\u001b[0;32m      <a href='vscode-notebook-cell:/c%3A/Users/lucas/Documents/HS23/Computer_Vision/lab04-cv/code/image_classification.ipynb#Y105sZmlsZQ%3D%3D?line=0'>1</a>\u001b[0m epochs \u001b[39m=\u001b[39m \u001b[39m5\u001b[39m\n\u001b[0;32m      <a href='vscode-notebook-cell:/c%3A/Users/lucas/Documents/HS23/Computer_Vision/lab04-cv/code/image_classification.ipynb#Y105sZmlsZQ%3D%3D?line=1'>2</a>\u001b[0m \u001b[39mfor\u001b[39;00m epoch \u001b[39min\u001b[39;00m \u001b[39mrange\u001b[39m(\u001b[39m1\u001b[39m, epochs \u001b[39m+\u001b[39m \u001b[39m1\u001b[39m):\n\u001b[1;32m----> <a href='vscode-notebook-cell:/c%3A/Users/lucas/Documents/HS23/Computer_Vision/lab04-cv/code/image_classification.ipynb#Y105sZmlsZQ%3D%3D?line=2'>3</a>\u001b[0m     train(cnn, dl_train, optimizer, epoch, log_interval\u001b[39m=\u001b[39;49m\u001b[39m100\u001b[39;49m)\n\u001b[0;32m      <a href='vscode-notebook-cell:/c%3A/Users/lucas/Documents/HS23/Computer_Vision/lab04-cv/code/image_classification.ipynb#Y105sZmlsZQ%3D%3D?line=3'>4</a>\u001b[0m     test(cnn, dl_test)    \n\u001b[0;32m      <a href='vscode-notebook-cell:/c%3A/Users/lucas/Documents/HS23/Computer_Vision/lab04-cv/code/image_classification.ipynb#Y105sZmlsZQ%3D%3D?line=4'>5</a>\u001b[0m     scheduler\u001b[39m.\u001b[39mstep()\n",
      "\u001b[1;32mc:\\Users\\lucas\\Documents\\HS23\\Computer_Vision\\lab04-cv\\code\\image_classification.ipynb Cell 55\u001b[0m line \u001b[0;36m2\n\u001b[0;32m     <a href='vscode-notebook-cell:/c%3A/Users/lucas/Documents/HS23/Computer_Vision/lab04-cv/code/image_classification.ipynb#Y105sZmlsZQ%3D%3D?line=13'>14</a>\u001b[0m optimizer\u001b[39m.\u001b[39mzero_grad()         \n\u001b[0;32m     <a href='vscode-notebook-cell:/c%3A/Users/lucas/Documents/HS23/Computer_Vision/lab04-cv/code/image_classification.ipynb#Y105sZmlsZQ%3D%3D?line=15'>16</a>\u001b[0m \u001b[39m##### implement this part #####\u001b[39;00m\n\u001b[0;32m     <a href='vscode-notebook-cell:/c%3A/Users/lucas/Documents/HS23/Computer_Vision/lab04-cv/code/image_classification.ipynb#Y105sZmlsZQ%3D%3D?line=16'>17</a>\u001b[0m \n\u001b[0;32m     <a href='vscode-notebook-cell:/c%3A/Users/lucas/Documents/HS23/Computer_Vision/lab04-cv/code/image_classification.ipynb#Y105sZmlsZQ%3D%3D?line=17'>18</a>\u001b[0m \n\u001b[0;32m     <a href='vscode-notebook-cell:/c%3A/Users/lucas/Documents/HS23/Computer_Vision/lab04-cv/code/image_classification.ipynb#Y105sZmlsZQ%3D%3D?line=18'>19</a>\u001b[0m \u001b[39m###############################\u001b[39;00m\n\u001b[1;32m---> <a href='vscode-notebook-cell:/c%3A/Users/lucas/Documents/HS23/Computer_Vision/lab04-cv/code/image_classification.ipynb#Y105sZmlsZQ%3D%3D?line=19'>20</a>\u001b[0m output \u001b[39m=\u001b[39m model(data)\n\u001b[0;32m     <a href='vscode-notebook-cell:/c%3A/Users/lucas/Documents/HS23/Computer_Vision/lab04-cv/code/image_classification.ipynb#Y105sZmlsZQ%3D%3D?line=20'>21</a>\u001b[0m loss \u001b[39m=\u001b[39m F\u001b[39m.\u001b[39mcross_entropy(output, target)\n\u001b[0;32m     <a href='vscode-notebook-cell:/c%3A/Users/lucas/Documents/HS23/Computer_Vision/lab04-cv/code/image_classification.ipynb#Y105sZmlsZQ%3D%3D?line=21'>22</a>\u001b[0m loss\u001b[39m.\u001b[39mbackward()\n",
      "File \u001b[1;32mc:\\ProgramData\\anaconda3\\lib\\site-packages\\torch\\nn\\modules\\module.py:1518\u001b[0m, in \u001b[0;36mModule._wrapped_call_impl\u001b[1;34m(self, *args, **kwargs)\u001b[0m\n\u001b[0;32m   1516\u001b[0m     \u001b[39mreturn\u001b[39;00m \u001b[39mself\u001b[39m\u001b[39m.\u001b[39m_compiled_call_impl(\u001b[39m*\u001b[39margs, \u001b[39m*\u001b[39m\u001b[39m*\u001b[39mkwargs)  \u001b[39m# type: ignore[misc]\u001b[39;00m\n\u001b[0;32m   1517\u001b[0m \u001b[39melse\u001b[39;00m:\n\u001b[1;32m-> 1518\u001b[0m     \u001b[39mreturn\u001b[39;00m \u001b[39mself\u001b[39m\u001b[39m.\u001b[39m_call_impl(\u001b[39m*\u001b[39margs, \u001b[39m*\u001b[39m\u001b[39m*\u001b[39mkwargs)\n",
      "File \u001b[1;32mc:\\ProgramData\\anaconda3\\lib\\site-packages\\torch\\nn\\modules\\module.py:1527\u001b[0m, in \u001b[0;36mModule._call_impl\u001b[1;34m(self, *args, **kwargs)\u001b[0m\n\u001b[0;32m   1522\u001b[0m \u001b[39m# If we don't have any hooks, we want to skip the rest of the logic in\u001b[39;00m\n\u001b[0;32m   1523\u001b[0m \u001b[39m# this function, and just call forward.\u001b[39;00m\n\u001b[0;32m   1524\u001b[0m \u001b[39mif\u001b[39;00m \u001b[39mnot\u001b[39;00m (\u001b[39mself\u001b[39m\u001b[39m.\u001b[39m_backward_hooks \u001b[39mor\u001b[39;00m \u001b[39mself\u001b[39m\u001b[39m.\u001b[39m_backward_pre_hooks \u001b[39mor\u001b[39;00m \u001b[39mself\u001b[39m\u001b[39m.\u001b[39m_forward_hooks \u001b[39mor\u001b[39;00m \u001b[39mself\u001b[39m\u001b[39m.\u001b[39m_forward_pre_hooks\n\u001b[0;32m   1525\u001b[0m         \u001b[39mor\u001b[39;00m _global_backward_pre_hooks \u001b[39mor\u001b[39;00m _global_backward_hooks\n\u001b[0;32m   1526\u001b[0m         \u001b[39mor\u001b[39;00m _global_forward_hooks \u001b[39mor\u001b[39;00m _global_forward_pre_hooks):\n\u001b[1;32m-> 1527\u001b[0m     \u001b[39mreturn\u001b[39;00m forward_call(\u001b[39m*\u001b[39margs, \u001b[39m*\u001b[39m\u001b[39m*\u001b[39mkwargs)\n\u001b[0;32m   1529\u001b[0m \u001b[39mtry\u001b[39;00m:\n\u001b[0;32m   1530\u001b[0m     result \u001b[39m=\u001b[39m \u001b[39mNone\u001b[39;00m\n",
      "\u001b[1;32mc:\\Users\\lucas\\Documents\\HS23\\Computer_Vision\\lab04-cv\\code\\image_classification.ipynb Cell 55\u001b[0m line \u001b[0;36m1\n\u001b[0;32m     <a href='vscode-notebook-cell:/c%3A/Users/lucas/Documents/HS23/Computer_Vision/lab04-cv/code/image_classification.ipynb#Y105sZmlsZQ%3D%3D?line=17'>18</a>\u001b[0m \u001b[39mdef\u001b[39;00m \u001b[39mforward\u001b[39m(\u001b[39mself\u001b[39m, x):\n\u001b[1;32m---> <a href='vscode-notebook-cell:/c%3A/Users/lucas/Documents/HS23/Computer_Vision/lab04-cv/code/image_classification.ipynb#Y105sZmlsZQ%3D%3D?line=18'>19</a>\u001b[0m     x \u001b[39m=\u001b[39m \u001b[39mself\u001b[39;49m\u001b[39m.\u001b[39;49mconv1(x)\n\u001b[0;32m     <a href='vscode-notebook-cell:/c%3A/Users/lucas/Documents/HS23/Computer_Vision/lab04-cv/code/image_classification.ipynb#Y105sZmlsZQ%3D%3D?line=19'>20</a>\u001b[0m     x \u001b[39m=\u001b[39m F\u001b[39m.\u001b[39mrelu(x)\n\u001b[0;32m     <a href='vscode-notebook-cell:/c%3A/Users/lucas/Documents/HS23/Computer_Vision/lab04-cv/code/image_classification.ipynb#Y105sZmlsZQ%3D%3D?line=20'>21</a>\u001b[0m     x \u001b[39m=\u001b[39m \u001b[39mself\u001b[39m\u001b[39m.\u001b[39mconv2(x)\n",
      "File \u001b[1;32mc:\\ProgramData\\anaconda3\\lib\\site-packages\\torch\\nn\\modules\\module.py:1518\u001b[0m, in \u001b[0;36mModule._wrapped_call_impl\u001b[1;34m(self, *args, **kwargs)\u001b[0m\n\u001b[0;32m   1516\u001b[0m     \u001b[39mreturn\u001b[39;00m \u001b[39mself\u001b[39m\u001b[39m.\u001b[39m_compiled_call_impl(\u001b[39m*\u001b[39margs, \u001b[39m*\u001b[39m\u001b[39m*\u001b[39mkwargs)  \u001b[39m# type: ignore[misc]\u001b[39;00m\n\u001b[0;32m   1517\u001b[0m \u001b[39melse\u001b[39;00m:\n\u001b[1;32m-> 1518\u001b[0m     \u001b[39mreturn\u001b[39;00m \u001b[39mself\u001b[39m\u001b[39m.\u001b[39m_call_impl(\u001b[39m*\u001b[39margs, \u001b[39m*\u001b[39m\u001b[39m*\u001b[39mkwargs)\n",
      "File \u001b[1;32mc:\\ProgramData\\anaconda3\\lib\\site-packages\\torch\\nn\\modules\\module.py:1527\u001b[0m, in \u001b[0;36mModule._call_impl\u001b[1;34m(self, *args, **kwargs)\u001b[0m\n\u001b[0;32m   1522\u001b[0m \u001b[39m# If we don't have any hooks, we want to skip the rest of the logic in\u001b[39;00m\n\u001b[0;32m   1523\u001b[0m \u001b[39m# this function, and just call forward.\u001b[39;00m\n\u001b[0;32m   1524\u001b[0m \u001b[39mif\u001b[39;00m \u001b[39mnot\u001b[39;00m (\u001b[39mself\u001b[39m\u001b[39m.\u001b[39m_backward_hooks \u001b[39mor\u001b[39;00m \u001b[39mself\u001b[39m\u001b[39m.\u001b[39m_backward_pre_hooks \u001b[39mor\u001b[39;00m \u001b[39mself\u001b[39m\u001b[39m.\u001b[39m_forward_hooks \u001b[39mor\u001b[39;00m \u001b[39mself\u001b[39m\u001b[39m.\u001b[39m_forward_pre_hooks\n\u001b[0;32m   1525\u001b[0m         \u001b[39mor\u001b[39;00m _global_backward_pre_hooks \u001b[39mor\u001b[39;00m _global_backward_hooks\n\u001b[0;32m   1526\u001b[0m         \u001b[39mor\u001b[39;00m _global_forward_hooks \u001b[39mor\u001b[39;00m _global_forward_pre_hooks):\n\u001b[1;32m-> 1527\u001b[0m     \u001b[39mreturn\u001b[39;00m forward_call(\u001b[39m*\u001b[39margs, \u001b[39m*\u001b[39m\u001b[39m*\u001b[39mkwargs)\n\u001b[0;32m   1529\u001b[0m \u001b[39mtry\u001b[39;00m:\n\u001b[0;32m   1530\u001b[0m     result \u001b[39m=\u001b[39m \u001b[39mNone\u001b[39;00m\n",
      "File \u001b[1;32mc:\\ProgramData\\anaconda3\\lib\\site-packages\\torch\\nn\\modules\\conv.py:460\u001b[0m, in \u001b[0;36mConv2d.forward\u001b[1;34m(self, input)\u001b[0m\n\u001b[0;32m    459\u001b[0m \u001b[39mdef\u001b[39;00m \u001b[39mforward\u001b[39m(\u001b[39mself\u001b[39m, \u001b[39minput\u001b[39m: Tensor) \u001b[39m-\u001b[39m\u001b[39m>\u001b[39m Tensor:\n\u001b[1;32m--> 460\u001b[0m     \u001b[39mreturn\u001b[39;00m \u001b[39mself\u001b[39;49m\u001b[39m.\u001b[39;49m_conv_forward(\u001b[39minput\u001b[39;49m, \u001b[39mself\u001b[39;49m\u001b[39m.\u001b[39;49mweight, \u001b[39mself\u001b[39;49m\u001b[39m.\u001b[39;49mbias)\n",
      "File \u001b[1;32mc:\\ProgramData\\anaconda3\\lib\\site-packages\\torch\\nn\\modules\\conv.py:456\u001b[0m, in \u001b[0;36mConv2d._conv_forward\u001b[1;34m(self, input, weight, bias)\u001b[0m\n\u001b[0;32m    452\u001b[0m \u001b[39mif\u001b[39;00m \u001b[39mself\u001b[39m\u001b[39m.\u001b[39mpadding_mode \u001b[39m!=\u001b[39m \u001b[39m'\u001b[39m\u001b[39mzeros\u001b[39m\u001b[39m'\u001b[39m:\n\u001b[0;32m    453\u001b[0m     \u001b[39mreturn\u001b[39;00m F\u001b[39m.\u001b[39mconv2d(F\u001b[39m.\u001b[39mpad(\u001b[39minput\u001b[39m, \u001b[39mself\u001b[39m\u001b[39m.\u001b[39m_reversed_padding_repeated_twice, mode\u001b[39m=\u001b[39m\u001b[39mself\u001b[39m\u001b[39m.\u001b[39mpadding_mode),\n\u001b[0;32m    454\u001b[0m                     weight, bias, \u001b[39mself\u001b[39m\u001b[39m.\u001b[39mstride,\n\u001b[0;32m    455\u001b[0m                     _pair(\u001b[39m0\u001b[39m), \u001b[39mself\u001b[39m\u001b[39m.\u001b[39mdilation, \u001b[39mself\u001b[39m\u001b[39m.\u001b[39mgroups)\n\u001b[1;32m--> 456\u001b[0m \u001b[39mreturn\u001b[39;00m F\u001b[39m.\u001b[39;49mconv2d(\u001b[39minput\u001b[39;49m, weight, bias, \u001b[39mself\u001b[39;49m\u001b[39m.\u001b[39;49mstride,\n\u001b[0;32m    457\u001b[0m                 \u001b[39mself\u001b[39;49m\u001b[39m.\u001b[39;49mpadding, \u001b[39mself\u001b[39;49m\u001b[39m.\u001b[39;49mdilation, \u001b[39mself\u001b[39;49m\u001b[39m.\u001b[39;49mgroups)\n",
      "\u001b[1;31mRuntimeError\u001b[0m: Given groups=1, weight of size [32, 1, 3, 3], expected input[128, 3, 32, 32] to have 1 channels, but got 3 channels instead"
     ]
    }
   ],
   "source": [
    "epochs = 5\n",
    "for epoch in range(1, epochs + 1):\n",
    "    train(cnn, dl_train, optimizer, epoch, log_interval=100)\n",
    "    test(cnn, dl_test)    \n",
    "    scheduler.step()"
   ]
  },
  {
   "cell_type": "markdown",
   "metadata": {},
   "source": [
    "This will not work. You should see the following error message\n",
    "\n",
    "```\n",
    "Given groups=1, weight of size [32, 1, 3, 3], expected input[128, 3, 32, 32] to have 1 channels, but got 3 channels instead\n",
    "```\n",
    "\n",
    "This error is telling us that something is not right in the definition of our model. Copy the CNN class from above and make changes, so the training works."
   ]
  },
  {
   "cell_type": "code",
   "execution_count": null,
   "metadata": {},
   "outputs": [],
   "source": [
    "#########################################################################\n",
    "# TODO: Adapt the definition from the CNN class above to work on CIFAR.\n",
    "# You can copy and run the following prompt for evaluation:\n",
    "# CNN()(torch.randn(1,3,32,32)).shape\n",
    "# It should print 'torch.Size([1, 10])'\n",
    "# Hint: You need to change 2 things. \n",
    "#########################################################################\n",
    "\n",
    "class CNN(nn.Module):\n",
    "    def __init__(self):\n",
    "        super(CNN, self).__init__()\n",
    "        self.conv1 = nn.Conv2d(in_channels=3,out_channels=32,kernel_size=3,stride=1,padding=0)\n",
    "        self.conv2 = nn.Conv2d(in_channels=32,out_channels=64,kernel_size=3,stride=1,padding=0)\n",
    "        self.maxPool = nn.MaxPool2d(kernel_size=2,stride=2,padding=0)\n",
    "        self.do1 = nn.Dropout(p=0.25)\n",
    "        self.fc1 = nn.Linear(12544,128)\n",
    "        self.do2 = nn.Dropout(0.5)\n",
    "        self.fc2 = nn.Linear(128,10)\n",
    "\n",
    "    def forward(self, x):\n",
    "        x = self.conv1(x)\n",
    "        x = F.relu(x)\n",
    "        x = self.conv2(x)\n",
    "        x = F.relu(x)\n",
    "        x = self.maxPool(x)\n",
    "        x = self.do1(x).flatten(1)\n",
    "        x = self.fc1(x)\n",
    "        x = F.relu(x)\n",
    "        x = self.do2(x)\n",
    "        x = self.fc2(x)\n",
    "        return x"
   ]
  },
  {
   "cell_type": "markdown",
   "metadata": {},
   "source": [
    "Let's try again"
   ]
  },
  {
   "cell_type": "code",
   "execution_count": null,
   "metadata": {
    "scrolled": true
   },
   "outputs": [
    {
     "name": "stdout",
     "output_type": "stream",
     "text": [
      "Train Epoch: 1 [0/50000 (0%)]\tLoss: 2.306350\n",
      "Train Epoch: 1 [12800/50000 (26%)]\tLoss: 2.114493\n",
      "Train Epoch: 1 [25600/50000 (51%)]\tLoss: 1.989654\n",
      "Train Epoch: 1 [38400/50000 (77%)]\tLoss: 1.950583\n",
      "\n",
      "Train set: Average loss: 1.9505, Accuracy: 12312/50000 (24.6%)\n",
      "\n",
      "\n",
      "Test set: Average loss: 1.8175, Accuracy: 3117/10000 (31.170%)\n",
      "\n",
      "Train Epoch: 2 [0/50000 (0%)]\tLoss: 1.992262\n",
      "Train Epoch: 2 [12800/50000 (26%)]\tLoss: 1.886623\n",
      "Train Epoch: 2 [25600/50000 (51%)]\tLoss: 1.790507\n",
      "Train Epoch: 2 [38400/50000 (77%)]\tLoss: 1.846039\n",
      "\n",
      "Train set: Average loss: 1.7889, Accuracy: 15658/50000 (31.3%)\n",
      "\n",
      "\n",
      "Test set: Average loss: 1.6108, Accuracy: 4197/10000 (41.970%)\n",
      "\n",
      "Train Epoch: 3 [0/50000 (0%)]\tLoss: 1.642971\n",
      "Train Epoch: 3 [12800/50000 (26%)]\tLoss: 1.847249\n",
      "Train Epoch: 3 [25600/50000 (51%)]\tLoss: 1.625101\n",
      "Train Epoch: 3 [38400/50000 (77%)]\tLoss: 1.772058\n",
      "\n",
      "Train set: Average loss: 1.7461, Accuracy: 16996/50000 (34.0%)\n",
      "\n",
      "\n",
      "Test set: Average loss: 1.5806, Accuracy: 4315/10000 (43.150%)\n",
      "\n",
      "Train Epoch: 4 [0/50000 (0%)]\tLoss: 1.866341\n",
      "Train Epoch: 4 [12800/50000 (26%)]\tLoss: 1.718530\n",
      "Train Epoch: 4 [25600/50000 (51%)]\tLoss: 1.679128\n",
      "Train Epoch: 4 [38400/50000 (77%)]\tLoss: 1.586592\n",
      "\n",
      "Train set: Average loss: 1.7220, Accuracy: 18484/50000 (37.0%)\n",
      "\n",
      "\n",
      "Test set: Average loss: 1.5862, Accuracy: 4317/10000 (43.170%)\n",
      "\n",
      "Train Epoch: 5 [0/50000 (0%)]\tLoss: 1.838960\n",
      "Train Epoch: 5 [12800/50000 (26%)]\tLoss: 1.564921\n",
      "Train Epoch: 5 [25600/50000 (51%)]\tLoss: 1.724760\n",
      "Train Epoch: 5 [38400/50000 (77%)]\tLoss: 1.516428\n",
      "\n",
      "Train set: Average loss: 1.8877, Accuracy: 19141/50000 (38.3%)\n",
      "\n",
      "\n",
      "Test set: Average loss: 1.4837, Accuracy: 4679/10000 (46.790%)\n",
      "\n",
      "Train Epoch: 6 [0/50000 (0%)]\tLoss: 1.724566\n",
      "Train Epoch: 6 [12800/50000 (26%)]\tLoss: 1.970474\n",
      "Train Epoch: 6 [25600/50000 (51%)]\tLoss: 1.620484\n",
      "Train Epoch: 6 [38400/50000 (77%)]\tLoss: 1.707819\n",
      "\n",
      "Train set: Average loss: 1.6368, Accuracy: 19648/50000 (39.3%)\n",
      "\n",
      "\n",
      "Test set: Average loss: 1.4332, Accuracy: 4790/10000 (47.900%)\n",
      "\n",
      "Train Epoch: 7 [0/50000 (0%)]\tLoss: 1.494477\n",
      "Train Epoch: 7 [12800/50000 (26%)]\tLoss: 1.651458\n",
      "Train Epoch: 7 [25600/50000 (51%)]\tLoss: 1.631993\n",
      "Train Epoch: 7 [38400/50000 (77%)]\tLoss: 1.774041\n",
      "\n",
      "Train set: Average loss: 1.7619, Accuracy: 19705/50000 (39.4%)\n",
      "\n",
      "\n",
      "Test set: Average loss: 1.4665, Accuracy: 4798/10000 (47.980%)\n",
      "\n",
      "Train Epoch: 8 [0/50000 (0%)]\tLoss: 1.686890\n",
      "Train Epoch: 8 [12800/50000 (26%)]\tLoss: 1.612474\n",
      "Train Epoch: 8 [25600/50000 (51%)]\tLoss: 1.606879\n",
      "Train Epoch: 8 [38400/50000 (77%)]\tLoss: 1.443731\n",
      "\n",
      "Train set: Average loss: 1.7348, Accuracy: 20253/50000 (40.5%)\n",
      "\n",
      "\n",
      "Test set: Average loss: 1.4404, Accuracy: 4754/10000 (47.540%)\n",
      "\n",
      "Train Epoch: 9 [0/50000 (0%)]\tLoss: 1.688768\n",
      "Train Epoch: 9 [12800/50000 (26%)]\tLoss: 1.548934\n",
      "Train Epoch: 9 [25600/50000 (51%)]\tLoss: 1.708148\n",
      "Train Epoch: 9 [38400/50000 (77%)]\tLoss: 1.621317\n",
      "\n",
      "Train set: Average loss: 1.9461, Accuracy: 19914/50000 (39.8%)\n",
      "\n",
      "\n",
      "Test set: Average loss: 1.4399, Accuracy: 4815/10000 (48.150%)\n",
      "\n",
      "Train Epoch: 10 [0/50000 (0%)]\tLoss: 1.604355\n",
      "Train Epoch: 10 [12800/50000 (26%)]\tLoss: 1.537438\n",
      "Train Epoch: 10 [25600/50000 (51%)]\tLoss: 1.616558\n",
      "Train Epoch: 10 [38400/50000 (77%)]\tLoss: 1.602064\n",
      "\n",
      "Train set: Average loss: 1.7414, Accuracy: 20683/50000 (41.4%)\n",
      "\n",
      "\n",
      "Test set: Average loss: 1.4364, Accuracy: 4945/10000 (49.450%)\n",
      "\n"
     ]
    }
   ],
   "source": [
    "cnn = CNN()\n",
    "optimizer = optim.SGD(cnn.parameters(), lr=0.1, momentum=0.9, weight_decay=5e-4)\n",
    "scheduler = torch.optim.lr_scheduler.CosineAnnealingLR(optimizer, T_max=200)\n",
    "\n",
    "epochs = 10\n",
    "for epoch in range(1, epochs + 1):\n",
    "    train(cnn, dl_train, optimizer, epoch, log_interval=100)\n",
    "    test(cnn, dl_test)    \n",
    "    scheduler.step()"
   ]
  },
  {
   "cell_type": "markdown",
   "metadata": {},
   "source": [
    "This should give 40 - 50 % - and if you are not already on Colab it will give you a stressed out laptop. The performance is a lot better than random, but we can definitely do better."
   ]
  },
  {
   "cell_type": "markdown",
   "metadata": {},
   "source": [
    "### Have fun with GPUs\n",
    "You can already call it a day until this point because we won't grade the rest of the excecise. You can have more fun with the rest :)\n"
   ]
  },
  {
   "cell_type": "markdown",
   "metadata": {},
   "source": [
    "\n",
    "If you didn't already, move to colab. To use a GPU, follow on the collaboratory menu tabs, \"Runtime\" => \"Change runtime type\" and set it to GPU. Then run the same training loop but now on GPU. \n",
    "\n",
    "It as easy as:"
   ]
  },
  {
   "cell_type": "code",
   "execution_count": null,
   "metadata": {},
   "outputs": [
    {
     "name": "stdout",
     "output_type": "stream",
     "text": [
      "Train Epoch: 1 [0/50000 (0%)]\tLoss: 2.303999\n",
      "Train Epoch: 1 [12800/50000 (26%)]\tLoss: 2.434105\n",
      "Train Epoch: 1 [25600/50000 (51%)]\tLoss: 1.897572\n",
      "Train Epoch: 1 [38400/50000 (77%)]\tLoss: 1.932221\n",
      "\n",
      "Train set: Average loss: 2.0268, Accuracy: 12155/50000 (24.3%)\n",
      "\n",
      "\n",
      "Test set: Average loss: 1.8016, Accuracy: 3297/10000 (32.970%)\n",
      "\n",
      "Train Epoch: 2 [0/50000 (0%)]\tLoss: 1.918496\n",
      "Train Epoch: 2 [12800/50000 (26%)]\tLoss: 1.805108\n",
      "Train Epoch: 2 [25600/50000 (51%)]\tLoss: 1.884609\n",
      "Train Epoch: 2 [38400/50000 (77%)]\tLoss: 1.742990\n",
      "\n",
      "Train set: Average loss: 1.7959, Accuracy: 15512/50000 (31.0%)\n",
      "\n",
      "\n",
      "Test set: Average loss: 1.6403, Accuracy: 3951/10000 (39.510%)\n",
      "\n",
      "Train Epoch: 3 [0/50000 (0%)]\tLoss: 1.783088\n",
      "Train Epoch: 3 [12800/50000 (26%)]\tLoss: 1.839018\n",
      "Train Epoch: 3 [25600/50000 (51%)]\tLoss: 1.752416\n",
      "Train Epoch: 3 [38400/50000 (77%)]\tLoss: 1.813725\n",
      "\n",
      "Train set: Average loss: 1.5881, Accuracy: 16907/50000 (33.8%)\n",
      "\n",
      "\n",
      "Test set: Average loss: 1.7994, Accuracy: 3607/10000 (36.070%)\n",
      "\n",
      "Train Epoch: 4 [0/50000 (0%)]\tLoss: 1.887884\n",
      "Train Epoch: 4 [12800/50000 (26%)]\tLoss: 1.714281\n",
      "Train Epoch: 4 [25600/50000 (51%)]\tLoss: 1.873665\n",
      "Train Epoch: 4 [38400/50000 (77%)]\tLoss: 1.739379\n",
      "\n",
      "Train set: Average loss: 1.7064, Accuracy: 17818/50000 (35.6%)\n",
      "\n",
      "\n",
      "Test set: Average loss: 1.5317, Accuracy: 4365/10000 (43.650%)\n",
      "\n",
      "Train Epoch: 5 [0/50000 (0%)]\tLoss: 1.773671\n",
      "Train Epoch: 5 [12800/50000 (26%)]\tLoss: 1.498782\n",
      "Train Epoch: 5 [25600/50000 (51%)]\tLoss: 1.695769\n",
      "Train Epoch: 5 [38400/50000 (77%)]\tLoss: 1.644726\n",
      "\n",
      "Train set: Average loss: 1.8186, Accuracy: 18518/50000 (37.0%)\n",
      "\n",
      "\n",
      "Test set: Average loss: 1.5296, Accuracy: 4463/10000 (44.630%)\n",
      "\n",
      "Train Epoch: 6 [0/50000 (0%)]\tLoss: 1.692960\n",
      "Train Epoch: 6 [12800/50000 (26%)]\tLoss: 1.701676\n",
      "Train Epoch: 6 [25600/50000 (51%)]\tLoss: 1.696188\n",
      "Train Epoch: 6 [38400/50000 (77%)]\tLoss: 1.783604\n",
      "\n",
      "Train set: Average loss: 1.5528, Accuracy: 18935/50000 (37.9%)\n",
      "\n",
      "\n",
      "Test set: Average loss: 1.4816, Accuracy: 4605/10000 (46.050%)\n",
      "\n",
      "Train Epoch: 7 [0/50000 (0%)]\tLoss: 1.633457\n",
      "Train Epoch: 7 [12800/50000 (26%)]\tLoss: 1.829892\n",
      "Train Epoch: 7 [25600/50000 (51%)]\tLoss: 1.683093\n",
      "Train Epoch: 7 [38400/50000 (77%)]\tLoss: 1.660465\n",
      "\n",
      "Train set: Average loss: 1.8834, Accuracy: 19526/50000 (39.1%)\n",
      "\n",
      "\n",
      "Test set: Average loss: 1.4587, Accuracy: 4751/10000 (47.510%)\n",
      "\n",
      "Train Epoch: 8 [0/50000 (0%)]\tLoss: 1.630709\n",
      "Train Epoch: 8 [12800/50000 (26%)]\tLoss: 1.939699\n",
      "Train Epoch: 8 [25600/50000 (51%)]\tLoss: 1.585591\n",
      "Train Epoch: 8 [38400/50000 (77%)]\tLoss: 1.966685\n",
      "\n",
      "Train set: Average loss: 1.8112, Accuracy: 19291/50000 (38.6%)\n",
      "\n",
      "\n",
      "Test set: Average loss: 1.5051, Accuracy: 4566/10000 (45.660%)\n",
      "\n",
      "Train Epoch: 9 [0/50000 (0%)]\tLoss: 1.706364\n",
      "Train Epoch: 9 [12800/50000 (26%)]\tLoss: 1.696369\n",
      "Train Epoch: 9 [25600/50000 (51%)]\tLoss: 1.605072\n",
      "Train Epoch: 9 [38400/50000 (77%)]\tLoss: 1.532509\n",
      "\n",
      "Train set: Average loss: 1.6369, Accuracy: 19664/50000 (39.3%)\n",
      "\n",
      "\n",
      "Test set: Average loss: 1.4647, Accuracy: 4564/10000 (45.640%)\n",
      "\n",
      "Train Epoch: 10 [0/50000 (0%)]\tLoss: 1.593262\n",
      "Train Epoch: 10 [12800/50000 (26%)]\tLoss: 1.526331\n",
      "Train Epoch: 10 [25600/50000 (51%)]\tLoss: 1.545118\n",
      "Train Epoch: 10 [38400/50000 (77%)]\tLoss: 1.639593\n",
      "\n",
      "Train set: Average loss: 1.6946, Accuracy: 19992/50000 (40.0%)\n",
      "\n",
      "\n",
      "Test set: Average loss: 1.5405, Accuracy: 4225/10000 (42.250%)\n",
      "\n"
     ]
    }
   ],
   "source": [
    "device = 'cuda'\n",
    "if device == 'cuda': torch.backends.cudnn.benchmark = True # additional speed up\n",
    "\n",
    "cnn = CNN()\n",
    "optimizer = optim.SGD(cnn.parameters(), lr=0.1, momentum=0.9, weight_decay=5e-4)\n",
    "scheduler = torch.optim.lr_scheduler.CosineAnnealingLR(optimizer, T_max=200)\n",
    "cnn = cnn.to(device)\n",
    "\n",
    "epochs = 10\n",
    "for epoch in range(1, epochs + 1):\n",
    "    train(cnn, dl_train, optimizer, epoch, log_interval=100, device=device)\n",
    "    test(cnn, dl_test, device=device)    \n",
    "    scheduler.step()"
   ]
  },
  {
   "cell_type": "markdown",
   "metadata": {},
   "source": [
    "This should be way faster now. But the true advantage of the GPU is that we can use much bigger models now and still train them in a reasonable amount of time. PyTorch is again very handy. The torchvision library comes with varies state-of-the-art model architectures, some of which you have seen in the lecture."
   ]
  },
  {
   "cell_type": "code",
   "execution_count": null,
   "metadata": {},
   "outputs": [],
   "source": [
    "from torchvision.models import resnet18"
   ]
  },
  {
   "cell_type": "code",
   "execution_count": null,
   "metadata": {
    "scrolled": true
   },
   "outputs": [
    {
     "name": "stdout",
     "output_type": "stream",
     "text": [
      "ResNet(\n",
      "  (conv1): Conv2d(3, 64, kernel_size=(7, 7), stride=(2, 2), padding=(3, 3), bias=False)\n",
      "  (bn1): BatchNorm2d(64, eps=1e-05, momentum=0.1, affine=True, track_running_stats=True)\n",
      "  (relu): ReLU(inplace=True)\n",
      "  (maxpool): MaxPool2d(kernel_size=3, stride=2, padding=1, dilation=1, ceil_mode=False)\n",
      "  (layer1): Sequential(\n",
      "    (0): BasicBlock(\n",
      "      (conv1): Conv2d(64, 64, kernel_size=(3, 3), stride=(1, 1), padding=(1, 1), bias=False)\n",
      "      (bn1): BatchNorm2d(64, eps=1e-05, momentum=0.1, affine=True, track_running_stats=True)\n",
      "      (relu): ReLU(inplace=True)\n",
      "      (conv2): Conv2d(64, 64, kernel_size=(3, 3), stride=(1, 1), padding=(1, 1), bias=False)\n",
      "      (bn2): BatchNorm2d(64, eps=1e-05, momentum=0.1, affine=True, track_running_stats=True)\n",
      "    )\n",
      "    (1): BasicBlock(\n",
      "      (conv1): Conv2d(64, 64, kernel_size=(3, 3), stride=(1, 1), padding=(1, 1), bias=False)\n",
      "      (bn1): BatchNorm2d(64, eps=1e-05, momentum=0.1, affine=True, track_running_stats=True)\n",
      "      (relu): ReLU(inplace=True)\n",
      "      (conv2): Conv2d(64, 64, kernel_size=(3, 3), stride=(1, 1), padding=(1, 1), bias=False)\n",
      "      (bn2): BatchNorm2d(64, eps=1e-05, momentum=0.1, affine=True, track_running_stats=True)\n",
      "    )\n",
      "  )\n",
      "  (layer2): Sequential(\n",
      "    (0): BasicBlock(\n",
      "      (conv1): Conv2d(64, 128, kernel_size=(3, 3), stride=(2, 2), padding=(1, 1), bias=False)\n",
      "      (bn1): BatchNorm2d(128, eps=1e-05, momentum=0.1, affine=True, track_running_stats=True)\n",
      "      (relu): ReLU(inplace=True)\n",
      "      (conv2): Conv2d(128, 128, kernel_size=(3, 3), stride=(1, 1), padding=(1, 1), bias=False)\n",
      "      (bn2): BatchNorm2d(128, eps=1e-05, momentum=0.1, affine=True, track_running_stats=True)\n",
      "      (downsample): Sequential(\n",
      "        (0): Conv2d(64, 128, kernel_size=(1, 1), stride=(2, 2), bias=False)\n",
      "        (1): BatchNorm2d(128, eps=1e-05, momentum=0.1, affine=True, track_running_stats=True)\n",
      "      )\n",
      "    )\n",
      "    (1): BasicBlock(\n",
      "      (conv1): Conv2d(128, 128, kernel_size=(3, 3), stride=(1, 1), padding=(1, 1), bias=False)\n",
      "      (bn1): BatchNorm2d(128, eps=1e-05, momentum=0.1, affine=True, track_running_stats=True)\n",
      "      (relu): ReLU(inplace=True)\n",
      "      (conv2): Conv2d(128, 128, kernel_size=(3, 3), stride=(1, 1), padding=(1, 1), bias=False)\n",
      "      (bn2): BatchNorm2d(128, eps=1e-05, momentum=0.1, affine=True, track_running_stats=True)\n",
      "    )\n",
      "  )\n",
      "  (layer3): Sequential(\n",
      "    (0): BasicBlock(\n",
      "      (conv1): Conv2d(128, 256, kernel_size=(3, 3), stride=(2, 2), padding=(1, 1), bias=False)\n",
      "      (bn1): BatchNorm2d(256, eps=1e-05, momentum=0.1, affine=True, track_running_stats=True)\n",
      "      (relu): ReLU(inplace=True)\n",
      "      (conv2): Conv2d(256, 256, kernel_size=(3, 3), stride=(1, 1), padding=(1, 1), bias=False)\n",
      "      (bn2): BatchNorm2d(256, eps=1e-05, momentum=0.1, affine=True, track_running_stats=True)\n",
      "      (downsample): Sequential(\n",
      "        (0): Conv2d(128, 256, kernel_size=(1, 1), stride=(2, 2), bias=False)\n",
      "        (1): BatchNorm2d(256, eps=1e-05, momentum=0.1, affine=True, track_running_stats=True)\n",
      "      )\n",
      "    )\n",
      "    (1): BasicBlock(\n",
      "      (conv1): Conv2d(256, 256, kernel_size=(3, 3), stride=(1, 1), padding=(1, 1), bias=False)\n",
      "      (bn1): BatchNorm2d(256, eps=1e-05, momentum=0.1, affine=True, track_running_stats=True)\n",
      "      (relu): ReLU(inplace=True)\n",
      "      (conv2): Conv2d(256, 256, kernel_size=(3, 3), stride=(1, 1), padding=(1, 1), bias=False)\n",
      "      (bn2): BatchNorm2d(256, eps=1e-05, momentum=0.1, affine=True, track_running_stats=True)\n",
      "    )\n",
      "  )\n",
      "  (layer4): Sequential(\n",
      "    (0): BasicBlock(\n",
      "      (conv1): Conv2d(256, 512, kernel_size=(3, 3), stride=(2, 2), padding=(1, 1), bias=False)\n",
      "      (bn1): BatchNorm2d(512, eps=1e-05, momentum=0.1, affine=True, track_running_stats=True)\n",
      "      (relu): ReLU(inplace=True)\n",
      "      (conv2): Conv2d(512, 512, kernel_size=(3, 3), stride=(1, 1), padding=(1, 1), bias=False)\n",
      "      (bn2): BatchNorm2d(512, eps=1e-05, momentum=0.1, affine=True, track_running_stats=True)\n",
      "      (downsample): Sequential(\n",
      "        (0): Conv2d(256, 512, kernel_size=(1, 1), stride=(2, 2), bias=False)\n",
      "        (1): BatchNorm2d(512, eps=1e-05, momentum=0.1, affine=True, track_running_stats=True)\n",
      "      )\n",
      "    )\n",
      "    (1): BasicBlock(\n",
      "      (conv1): Conv2d(512, 512, kernel_size=(3, 3), stride=(1, 1), padding=(1, 1), bias=False)\n",
      "      (bn1): BatchNorm2d(512, eps=1e-05, momentum=0.1, affine=True, track_running_stats=True)\n",
      "      (relu): ReLU(inplace=True)\n",
      "      (conv2): Conv2d(512, 512, kernel_size=(3, 3), stride=(1, 1), padding=(1, 1), bias=False)\n",
      "      (bn2): BatchNorm2d(512, eps=1e-05, momentum=0.1, affine=True, track_running_stats=True)\n",
      "    )\n",
      "  )\n",
      "  (avgpool): AdaptiveAvgPool2d(output_size=(1, 1))\n",
      "  (fc): Linear(in_features=512, out_features=1000, bias=True)\n",
      ")\n"
     ]
    }
   ],
   "source": [
    "cnn = resnet18()\n",
    "print(cnn)"
   ]
  },
  {
   "cell_type": "markdown",
   "metadata": {},
   "source": [
    "Looks scary! But the only thing you need to change to make it work on CIFAR is the last layer.\n",
    "Currently the last layer is:\n",
    "```\n",
    "  (fc): Linear(in_features=512, out_features=1000, bias=True)\n",
    "```\n",
    "out_features is the number of classes. This models are developed for Imagenet, a dataset with 1000 classes. So this part of the model you need to adapt. Additionally, you need to add a log-softmax layer again, as we us negative log-likelihood as the training criterion. "
   ]
  },
  {
   "cell_type": "code",
   "execution_count": null,
   "metadata": {},
   "outputs": [],
   "source": [
    "#########################################################################\n",
    "# TODO: Adapt the Resnet to work on CIFAR\n",
    "#########################################################################\n",
    "\n",
    "cnn.fc = nn.Sequential(\n",
    "    nn.Linear(512, 10),\n",
    "    nn.LogSoftmax(dim=1)\n",
    ")"
   ]
  },
  {
   "cell_type": "code",
   "execution_count": null,
   "metadata": {},
   "outputs": [
    {
     "data": {
      "text/plain": [
       "torch.Size([16, 10])"
      ]
     },
     "execution_count": 38,
     "metadata": {},
     "output_type": "execute_result"
    }
   ],
   "source": [
    "# This should print 'torch.Size([16, 10])'\n",
    "cnn(torch.randn(16,3,32,32)).shape"
   ]
  },
  {
   "cell_type": "code",
   "execution_count": null,
   "metadata": {},
   "outputs": [
    {
     "name": "stdout",
     "output_type": "stream",
     "text": [
      "Train Epoch: 1 [0/50000 (0%)]\tLoss: 2.581702\n",
      "Train Epoch: 1 [12800/50000 (26%)]\tLoss: 2.078993\n",
      "Train Epoch: 1 [25600/50000 (51%)]\tLoss: 1.799310\n",
      "Train Epoch: 1 [38400/50000 (77%)]\tLoss: 1.795928\n",
      "\n",
      "Train set: Average loss: 1.6763, Accuracy: 14838/50000 (29.7%)\n",
      "\n",
      "\n",
      "Test set: Average loss: 1.5844, Accuracy: 4157/10000 (41.570%)\n",
      "\n",
      "Train Epoch: 2 [0/50000 (0%)]\tLoss: 1.630505\n",
      "Train Epoch: 2 [12800/50000 (26%)]\tLoss: 1.633817\n",
      "Train Epoch: 2 [25600/50000 (51%)]\tLoss: 1.393158\n",
      "Train Epoch: 2 [38400/50000 (77%)]\tLoss: 1.689204\n",
      "\n",
      "Train set: Average loss: 1.2606, Accuracy: 22374/50000 (44.7%)\n",
      "\n",
      "\n",
      "Test set: Average loss: 1.4066, Accuracy: 4873/10000 (48.730%)\n",
      "\n",
      "Train Epoch: 3 [0/50000 (0%)]\tLoss: 1.473457\n",
      "Train Epoch: 3 [12800/50000 (26%)]\tLoss: 1.477192\n",
      "Train Epoch: 3 [25600/50000 (51%)]\tLoss: 1.266210\n",
      "Train Epoch: 3 [38400/50000 (77%)]\tLoss: 1.331725\n",
      "\n",
      "Train set: Average loss: 1.0840, Accuracy: 26370/50000 (52.7%)\n",
      "\n",
      "\n",
      "Test set: Average loss: 1.4002, Accuracy: 5343/10000 (53.430%)\n",
      "\n",
      "Train Epoch: 4 [0/50000 (0%)]\tLoss: 1.224881\n",
      "Train Epoch: 4 [12800/50000 (26%)]\tLoss: 1.224863\n",
      "Train Epoch: 4 [25600/50000 (51%)]\tLoss: 1.172103\n",
      "Train Epoch: 4 [38400/50000 (77%)]\tLoss: 1.079733\n",
      "\n",
      "Train set: Average loss: 1.1037, Accuracy: 29376/50000 (58.8%)\n",
      "\n",
      "\n",
      "Test set: Average loss: 1.0853, Accuracy: 6115/10000 (61.150%)\n",
      "\n",
      "Train Epoch: 5 [0/50000 (0%)]\tLoss: 1.184408\n",
      "Train Epoch: 5 [12800/50000 (26%)]\tLoss: 0.908135\n",
      "Train Epoch: 5 [25600/50000 (51%)]\tLoss: 1.118388\n",
      "Train Epoch: 5 [38400/50000 (77%)]\tLoss: 1.135518\n",
      "\n",
      "Train set: Average loss: 1.0950, Accuracy: 31246/50000 (62.5%)\n",
      "\n",
      "\n",
      "Test set: Average loss: 1.1207, Accuracy: 6261/10000 (62.610%)\n",
      "\n",
      "Train Epoch: 6 [0/50000 (0%)]\tLoss: 1.096472\n",
      "Train Epoch: 6 [12800/50000 (26%)]\tLoss: 1.001542\n",
      "Train Epoch: 6 [25600/50000 (51%)]\tLoss: 1.060162\n",
      "Train Epoch: 6 [38400/50000 (77%)]\tLoss: 0.933254\n",
      "\n",
      "Train set: Average loss: 1.0245, Accuracy: 32727/50000 (65.5%)\n",
      "\n",
      "\n",
      "Test set: Average loss: 1.0018, Accuracy: 6506/10000 (65.060%)\n",
      "\n",
      "Train Epoch: 7 [0/50000 (0%)]\tLoss: 0.977147\n",
      "Train Epoch: 7 [12800/50000 (26%)]\tLoss: 1.021247\n",
      "Train Epoch: 7 [25600/50000 (51%)]\tLoss: 0.812504\n",
      "Train Epoch: 7 [38400/50000 (77%)]\tLoss: 0.994956\n",
      "\n",
      "Train set: Average loss: 1.0093, Accuracy: 33746/50000 (67.5%)\n",
      "\n",
      "\n",
      "Test set: Average loss: 0.9326, Accuracy: 6722/10000 (67.220%)\n",
      "\n",
      "Train Epoch: 8 [0/50000 (0%)]\tLoss: 0.990965\n",
      "Train Epoch: 8 [12800/50000 (26%)]\tLoss: 0.805254\n",
      "Train Epoch: 8 [25600/50000 (51%)]\tLoss: 0.913915\n",
      "Train Epoch: 8 [38400/50000 (77%)]\tLoss: 0.874471\n",
      "\n",
      "Train set: Average loss: 0.8581, Accuracy: 34567/50000 (69.1%)\n",
      "\n",
      "\n",
      "Test set: Average loss: 1.0536, Accuracy: 6582/10000 (65.820%)\n",
      "\n",
      "Train Epoch: 9 [0/50000 (0%)]\tLoss: 0.813311\n",
      "Train Epoch: 9 [12800/50000 (26%)]\tLoss: 0.886493\n",
      "Train Epoch: 9 [25600/50000 (51%)]\tLoss: 0.949657\n",
      "Train Epoch: 9 [38400/50000 (77%)]\tLoss: 0.956966\n",
      "\n",
      "Train set: Average loss: 0.7888, Accuracy: 35120/50000 (70.2%)\n",
      "\n",
      "\n",
      "Test set: Average loss: 0.8854, Accuracy: 6984/10000 (69.840%)\n",
      "\n",
      "Train Epoch: 10 [0/50000 (0%)]\tLoss: 1.016799\n",
      "Train Epoch: 10 [12800/50000 (26%)]\tLoss: 0.740141\n",
      "Train Epoch: 10 [25600/50000 (51%)]\tLoss: 0.942019\n",
      "Train Epoch: 10 [38400/50000 (77%)]\tLoss: 0.875394\n",
      "\n",
      "Train set: Average loss: 0.8628, Accuracy: 35523/50000 (71.0%)\n",
      "\n",
      "\n",
      "Test set: Average loss: 0.9433, Accuracy: 6775/10000 (67.750%)\n",
      "\n",
      "Train Epoch: 11 [0/50000 (0%)]\tLoss: 0.838116\n",
      "Train Epoch: 11 [12800/50000 (26%)]\tLoss: 0.776242\n",
      "Train Epoch: 11 [25600/50000 (51%)]\tLoss: 0.857749\n",
      "Train Epoch: 11 [38400/50000 (77%)]\tLoss: 0.950671\n",
      "\n",
      "Train set: Average loss: 0.8793, Accuracy: 36006/50000 (72.0%)\n",
      "\n",
      "\n",
      "Test set: Average loss: 0.8212, Accuracy: 7203/10000 (72.030%)\n",
      "\n",
      "Train Epoch: 12 [0/50000 (0%)]\tLoss: 0.769087\n",
      "Train Epoch: 12 [12800/50000 (26%)]\tLoss: 0.720997\n",
      "Train Epoch: 12 [25600/50000 (51%)]\tLoss: 0.729929\n",
      "Train Epoch: 12 [38400/50000 (77%)]\tLoss: 0.840318\n",
      "\n",
      "Train set: Average loss: 0.8782, Accuracy: 36247/50000 (72.5%)\n",
      "\n",
      "\n",
      "Test set: Average loss: 0.8539, Accuracy: 7059/10000 (70.590%)\n",
      "\n",
      "Train Epoch: 13 [0/50000 (0%)]\tLoss: 0.835484\n",
      "Train Epoch: 13 [12800/50000 (26%)]\tLoss: 0.896050\n",
      "Train Epoch: 13 [25600/50000 (51%)]\tLoss: 0.710956\n",
      "Train Epoch: 13 [38400/50000 (77%)]\tLoss: 0.712206\n",
      "\n",
      "Train set: Average loss: 0.8278, Accuracy: 36663/50000 (73.3%)\n",
      "\n",
      "\n",
      "Test set: Average loss: 0.7731, Accuracy: 7364/10000 (73.640%)\n",
      "\n",
      "Train Epoch: 14 [0/50000 (0%)]\tLoss: 0.826974\n",
      "Train Epoch: 14 [12800/50000 (26%)]\tLoss: 0.752652\n",
      "Train Epoch: 14 [25600/50000 (51%)]\tLoss: 0.925304\n",
      "Train Epoch: 14 [38400/50000 (77%)]\tLoss: 0.982438\n",
      "\n",
      "Train set: Average loss: 0.7982, Accuracy: 36893/50000 (73.8%)\n",
      "\n",
      "\n",
      "Test set: Average loss: 0.7761, Accuracy: 7360/10000 (73.600%)\n",
      "\n",
      "Train Epoch: 15 [0/50000 (0%)]\tLoss: 0.779034\n",
      "Train Epoch: 15 [12800/50000 (26%)]\tLoss: 0.606373\n",
      "Train Epoch: 15 [25600/50000 (51%)]\tLoss: 0.774207\n",
      "Train Epoch: 15 [38400/50000 (77%)]\tLoss: 0.889877\n",
      "\n",
      "Train set: Average loss: 0.5732, Accuracy: 36772/50000 (73.5%)\n",
      "\n",
      "\n",
      "Test set: Average loss: 0.8872, Accuracy: 7022/10000 (70.220%)\n",
      "\n",
      "Train Epoch: 16 [0/50000 (0%)]\tLoss: 0.694440\n",
      "Train Epoch: 16 [12800/50000 (26%)]\tLoss: 0.589038\n",
      "Train Epoch: 16 [25600/50000 (51%)]\tLoss: 0.836396\n",
      "Train Epoch: 16 [38400/50000 (77%)]\tLoss: 0.838465\n",
      "\n",
      "Train set: Average loss: 0.8147, Accuracy: 37260/50000 (74.5%)\n",
      "\n",
      "\n",
      "Test set: Average loss: 0.7954, Accuracy: 7308/10000 (73.080%)\n",
      "\n",
      "Train Epoch: 17 [0/50000 (0%)]\tLoss: 0.726723\n",
      "Train Epoch: 17 [12800/50000 (26%)]\tLoss: 0.797393\n",
      "Train Epoch: 17 [25600/50000 (51%)]\tLoss: 0.833900\n",
      "Train Epoch: 17 [38400/50000 (77%)]\tLoss: 0.720729\n",
      "\n",
      "Train set: Average loss: 0.7242, Accuracy: 37365/50000 (74.7%)\n",
      "\n",
      "\n",
      "Test set: Average loss: 0.9416, Accuracy: 6929/10000 (69.290%)\n",
      "\n",
      "Train Epoch: 18 [0/50000 (0%)]\tLoss: 0.712872\n",
      "Train Epoch: 18 [12800/50000 (26%)]\tLoss: 0.759055\n",
      "Train Epoch: 18 [25600/50000 (51%)]\tLoss: 0.615531\n",
      "Train Epoch: 18 [38400/50000 (77%)]\tLoss: 0.760335\n",
      "\n",
      "Train set: Average loss: 0.6721, Accuracy: 37527/50000 (75.1%)\n",
      "\n",
      "\n",
      "Test set: Average loss: 0.8378, Accuracy: 7195/10000 (71.950%)\n",
      "\n",
      "Train Epoch: 19 [0/50000 (0%)]\tLoss: 0.801233\n",
      "Train Epoch: 19 [12800/50000 (26%)]\tLoss: 0.608773\n",
      "Train Epoch: 19 [25600/50000 (51%)]\tLoss: 0.547201\n",
      "Train Epoch: 19 [38400/50000 (77%)]\tLoss: 0.655885\n",
      "\n",
      "Train set: Average loss: 0.8094, Accuracy: 37653/50000 (75.3%)\n",
      "\n",
      "\n",
      "Test set: Average loss: 1.0397, Accuracy: 6691/10000 (66.910%)\n",
      "\n",
      "Train Epoch: 20 [0/50000 (0%)]\tLoss: 0.754164\n",
      "Train Epoch: 20 [12800/50000 (26%)]\tLoss: 0.669581\n",
      "Train Epoch: 20 [25600/50000 (51%)]\tLoss: 0.751659\n",
      "Train Epoch: 20 [38400/50000 (77%)]\tLoss: 0.644631\n",
      "\n",
      "Train set: Average loss: 0.6475, Accuracy: 37519/50000 (75.0%)\n",
      "\n",
      "\n",
      "Test set: Average loss: 0.9688, Accuracy: 6797/10000 (67.970%)\n",
      "\n",
      "Train Epoch: 21 [0/50000 (0%)]\tLoss: 0.686137\n",
      "Train Epoch: 21 [12800/50000 (26%)]\tLoss: 0.712900\n",
      "Train Epoch: 21 [25600/50000 (51%)]\tLoss: 0.704070\n",
      "Train Epoch: 21 [38400/50000 (77%)]\tLoss: 0.912929\n",
      "\n",
      "Train set: Average loss: 0.7395, Accuracy: 37825/50000 (75.7%)\n",
      "\n",
      "\n",
      "Test set: Average loss: 0.7177, Accuracy: 7487/10000 (74.870%)\n",
      "\n",
      "Train Epoch: 22 [0/50000 (0%)]\tLoss: 0.623057\n",
      "Train Epoch: 22 [12800/50000 (26%)]\tLoss: 0.740944\n",
      "Train Epoch: 22 [25600/50000 (51%)]\tLoss: 0.755297\n",
      "Train Epoch: 22 [38400/50000 (77%)]\tLoss: 0.803528\n",
      "\n",
      "Train set: Average loss: 0.7947, Accuracy: 38072/50000 (76.1%)\n",
      "\n",
      "\n",
      "Test set: Average loss: 0.7187, Accuracy: 7562/10000 (75.620%)\n",
      "\n",
      "Train Epoch: 23 [0/50000 (0%)]\tLoss: 0.580613\n",
      "Train Epoch: 23 [12800/50000 (26%)]\tLoss: 0.727239\n",
      "Train Epoch: 23 [25600/50000 (51%)]\tLoss: 0.596426\n",
      "Train Epoch: 23 [38400/50000 (77%)]\tLoss: 0.763214\n",
      "\n",
      "Train set: Average loss: 0.6439, Accuracy: 38137/50000 (76.3%)\n",
      "\n",
      "\n",
      "Test set: Average loss: 0.7273, Accuracy: 7526/10000 (75.260%)\n",
      "\n",
      "Train Epoch: 24 [0/50000 (0%)]\tLoss: 0.569395\n",
      "Train Epoch: 24 [12800/50000 (26%)]\tLoss: 0.698371\n",
      "Train Epoch: 24 [25600/50000 (51%)]\tLoss: 0.560879\n",
      "Train Epoch: 24 [38400/50000 (77%)]\tLoss: 0.799224\n",
      "\n",
      "Train set: Average loss: 0.8495, Accuracy: 38002/50000 (76.0%)\n",
      "\n",
      "\n",
      "Test set: Average loss: 0.8518, Accuracy: 7137/10000 (71.370%)\n",
      "\n",
      "Train Epoch: 25 [0/50000 (0%)]\tLoss: 0.702238\n",
      "Train Epoch: 25 [12800/50000 (26%)]\tLoss: 0.627724\n",
      "Train Epoch: 25 [25600/50000 (51%)]\tLoss: 0.717316\n",
      "Train Epoch: 25 [38400/50000 (77%)]\tLoss: 0.760026\n",
      "\n",
      "Train set: Average loss: 0.6701, Accuracy: 38165/50000 (76.3%)\n",
      "\n",
      "\n",
      "Test set: Average loss: 0.7051, Accuracy: 7561/10000 (75.610%)\n",
      "\n",
      "Train Epoch: 26 [0/50000 (0%)]\tLoss: 0.532752\n",
      "Train Epoch: 26 [12800/50000 (26%)]\tLoss: 0.666380\n",
      "Train Epoch: 26 [25600/50000 (51%)]\tLoss: 0.869184\n",
      "Train Epoch: 26 [38400/50000 (77%)]\tLoss: 0.597108\n",
      "\n",
      "Train set: Average loss: 0.6144, Accuracy: 38252/50000 (76.5%)\n",
      "\n",
      "\n",
      "Test set: Average loss: 0.7500, Accuracy: 7477/10000 (74.770%)\n",
      "\n",
      "Train Epoch: 27 [0/50000 (0%)]\tLoss: 0.530619\n",
      "Train Epoch: 27 [12800/50000 (26%)]\tLoss: 0.519984\n",
      "Train Epoch: 27 [25600/50000 (51%)]\tLoss: 0.634343\n",
      "Train Epoch: 27 [38400/50000 (77%)]\tLoss: 0.584566\n",
      "\n",
      "Train set: Average loss: 0.6516, Accuracy: 38490/50000 (77.0%)\n",
      "\n",
      "\n",
      "Test set: Average loss: 0.7083, Accuracy: 7582/10000 (75.820%)\n",
      "\n",
      "Train Epoch: 28 [0/50000 (0%)]\tLoss: 0.596534\n",
      "Train Epoch: 28 [12800/50000 (26%)]\tLoss: 0.554671\n",
      "Train Epoch: 28 [25600/50000 (51%)]\tLoss: 0.741425\n",
      "Train Epoch: 28 [38400/50000 (77%)]\tLoss: 0.753774\n",
      "\n",
      "Train set: Average loss: 0.7215, Accuracy: 38312/50000 (76.6%)\n",
      "\n",
      "\n",
      "Test set: Average loss: 0.7150, Accuracy: 7538/10000 (75.380%)\n",
      "\n",
      "Train Epoch: 29 [0/50000 (0%)]\tLoss: 0.761320\n",
      "Train Epoch: 29 [12800/50000 (26%)]\tLoss: 0.573674\n",
      "Train Epoch: 29 [25600/50000 (51%)]\tLoss: 0.628044\n",
      "Train Epoch: 29 [38400/50000 (77%)]\tLoss: 0.513717\n",
      "\n",
      "Train set: Average loss: 0.6081, Accuracy: 38524/50000 (77.0%)\n",
      "\n",
      "\n",
      "Test set: Average loss: 0.7048, Accuracy: 7566/10000 (75.660%)\n",
      "\n",
      "Train Epoch: 30 [0/50000 (0%)]\tLoss: 0.573272\n",
      "Train Epoch: 30 [12800/50000 (26%)]\tLoss: 0.737412\n",
      "Train Epoch: 30 [25600/50000 (51%)]\tLoss: 0.693858\n",
      "Train Epoch: 30 [38400/50000 (77%)]\tLoss: 0.568866\n",
      "\n",
      "Train set: Average loss: 0.7623, Accuracy: 38485/50000 (77.0%)\n",
      "\n",
      "\n",
      "Test set: Average loss: 0.6977, Accuracy: 7655/10000 (76.550%)\n",
      "\n",
      "Train Epoch: 31 [0/50000 (0%)]\tLoss: 0.800169\n",
      "Train Epoch: 31 [12800/50000 (26%)]\tLoss: 0.644132\n",
      "Train Epoch: 31 [25600/50000 (51%)]\tLoss: 0.572472\n",
      "Train Epoch: 31 [38400/50000 (77%)]\tLoss: 0.720298\n",
      "\n",
      "Train set: Average loss: 0.4671, Accuracy: 38564/50000 (77.1%)\n",
      "\n",
      "\n",
      "Test set: Average loss: 0.7681, Accuracy: 7386/10000 (73.860%)\n",
      "\n",
      "Train Epoch: 32 [0/50000 (0%)]\tLoss: 0.555698\n",
      "Train Epoch: 32 [12800/50000 (26%)]\tLoss: 0.588692\n",
      "Train Epoch: 32 [25600/50000 (51%)]\tLoss: 0.732112\n",
      "Train Epoch: 32 [38400/50000 (77%)]\tLoss: 0.632722\n",
      "\n",
      "Train set: Average loss: 0.8420, Accuracy: 38660/50000 (77.3%)\n",
      "\n",
      "\n",
      "Test set: Average loss: 0.6974, Accuracy: 7582/10000 (75.820%)\n",
      "\n",
      "Train Epoch: 33 [0/50000 (0%)]\tLoss: 0.724019\n",
      "Train Epoch: 33 [12800/50000 (26%)]\tLoss: 0.642451\n",
      "Train Epoch: 33 [25600/50000 (51%)]\tLoss: 0.572417\n",
      "Train Epoch: 33 [38400/50000 (77%)]\tLoss: 0.727343\n",
      "\n",
      "Train set: Average loss: 0.7497, Accuracy: 38683/50000 (77.4%)\n",
      "\n",
      "\n",
      "Test set: Average loss: 0.8543, Accuracy: 7129/10000 (71.290%)\n",
      "\n",
      "Train Epoch: 34 [0/50000 (0%)]\tLoss: 0.797162\n",
      "Train Epoch: 34 [12800/50000 (26%)]\tLoss: 0.545969\n",
      "Train Epoch: 34 [25600/50000 (51%)]\tLoss: 0.668121\n",
      "Train Epoch: 34 [38400/50000 (77%)]\tLoss: 0.743302\n",
      "\n",
      "Train set: Average loss: 0.5363, Accuracy: 38860/50000 (77.7%)\n",
      "\n",
      "\n",
      "Test set: Average loss: 0.8090, Accuracy: 7316/10000 (73.160%)\n",
      "\n",
      "Train Epoch: 35 [0/50000 (0%)]\tLoss: 0.610642\n",
      "Train Epoch: 35 [12800/50000 (26%)]\tLoss: 0.584723\n",
      "Train Epoch: 35 [25600/50000 (51%)]\tLoss: 0.763369\n",
      "Train Epoch: 35 [38400/50000 (77%)]\tLoss: 0.756454\n",
      "\n",
      "Train set: Average loss: 0.8717, Accuracy: 38801/50000 (77.6%)\n",
      "\n",
      "\n",
      "Test set: Average loss: 0.9458, Accuracy: 6876/10000 (68.760%)\n",
      "\n",
      "Train Epoch: 36 [0/50000 (0%)]\tLoss: 0.735831\n",
      "Train Epoch: 36 [12800/50000 (26%)]\tLoss: 0.669694\n",
      "Train Epoch: 36 [25600/50000 (51%)]\tLoss: 0.617792\n",
      "Train Epoch: 36 [38400/50000 (77%)]\tLoss: 0.702009\n",
      "\n",
      "Train set: Average loss: 0.6122, Accuracy: 38838/50000 (77.7%)\n",
      "\n",
      "\n",
      "Test set: Average loss: 0.7544, Accuracy: 7425/10000 (74.250%)\n",
      "\n",
      "Train Epoch: 37 [0/50000 (0%)]\tLoss: 0.819469\n",
      "Train Epoch: 37 [12800/50000 (26%)]\tLoss: 0.698832\n",
      "Train Epoch: 37 [25600/50000 (51%)]\tLoss: 0.524859\n",
      "Train Epoch: 37 [38400/50000 (77%)]\tLoss: 0.823344\n",
      "\n",
      "Train set: Average loss: 0.5747, Accuracy: 38758/50000 (77.5%)\n",
      "\n",
      "\n",
      "Test set: Average loss: 0.6744, Accuracy: 7713/10000 (77.130%)\n",
      "\n",
      "Train Epoch: 38 [0/50000 (0%)]\tLoss: 0.547613\n",
      "Train Epoch: 38 [12800/50000 (26%)]\tLoss: 0.726353\n",
      "Train Epoch: 38 [25600/50000 (51%)]\tLoss: 0.682190\n",
      "Train Epoch: 38 [38400/50000 (77%)]\tLoss: 0.646700\n",
      "\n",
      "Train set: Average loss: 0.6349, Accuracy: 38932/50000 (77.9%)\n",
      "\n",
      "\n",
      "Test set: Average loss: 0.7541, Accuracy: 7464/10000 (74.640%)\n",
      "\n",
      "Train Epoch: 39 [0/50000 (0%)]\tLoss: 0.608053\n",
      "Train Epoch: 39 [12800/50000 (26%)]\tLoss: 0.519502\n",
      "Train Epoch: 39 [25600/50000 (51%)]\tLoss: 0.568875\n",
      "Train Epoch: 39 [38400/50000 (77%)]\tLoss: 0.723175\n",
      "\n",
      "Train set: Average loss: 0.5815, Accuracy: 38875/50000 (77.8%)\n",
      "\n",
      "\n",
      "Test set: Average loss: 0.8418, Accuracy: 7183/10000 (71.830%)\n",
      "\n",
      "Train Epoch: 40 [0/50000 (0%)]\tLoss: 0.513420\n",
      "Train Epoch: 40 [12800/50000 (26%)]\tLoss: 0.740327\n",
      "Train Epoch: 40 [25600/50000 (51%)]\tLoss: 0.568909\n",
      "Train Epoch: 40 [38400/50000 (77%)]\tLoss: 0.608655\n",
      "\n",
      "Train set: Average loss: 0.7317, Accuracy: 39018/50000 (78.0%)\n",
      "\n",
      "\n",
      "Test set: Average loss: 0.8098, Accuracy: 7247/10000 (72.470%)\n",
      "\n",
      "Train Epoch: 41 [0/50000 (0%)]\tLoss: 0.540612\n",
      "Train Epoch: 41 [12800/50000 (26%)]\tLoss: 0.534880\n",
      "Train Epoch: 41 [25600/50000 (51%)]\tLoss: 0.563969\n",
      "Train Epoch: 41 [38400/50000 (77%)]\tLoss: 0.591161\n",
      "\n",
      "Train set: Average loss: 0.7165, Accuracy: 38963/50000 (77.9%)\n",
      "\n",
      "\n",
      "Test set: Average loss: 0.7425, Accuracy: 7509/10000 (75.090%)\n",
      "\n",
      "Train Epoch: 42 [0/50000 (0%)]\tLoss: 0.694015\n",
      "Train Epoch: 42 [12800/50000 (26%)]\tLoss: 0.592306\n",
      "Train Epoch: 42 [25600/50000 (51%)]\tLoss: 0.648887\n",
      "Train Epoch: 42 [38400/50000 (77%)]\tLoss: 0.587198\n",
      "\n",
      "Train set: Average loss: 0.8796, Accuracy: 39149/50000 (78.3%)\n",
      "\n",
      "\n",
      "Test set: Average loss: 0.7357, Accuracy: 7504/10000 (75.040%)\n",
      "\n",
      "Train Epoch: 43 [0/50000 (0%)]\tLoss: 0.594378\n",
      "Train Epoch: 43 [12800/50000 (26%)]\tLoss: 0.633206\n",
      "Train Epoch: 43 [25600/50000 (51%)]\tLoss: 0.843209\n",
      "Train Epoch: 43 [38400/50000 (77%)]\tLoss: 0.746087\n",
      "\n",
      "Train set: Average loss: 0.6640, Accuracy: 38940/50000 (77.9%)\n",
      "\n",
      "\n",
      "Test set: Average loss: 0.7194, Accuracy: 7570/10000 (75.700%)\n",
      "\n",
      "Train Epoch: 44 [0/50000 (0%)]\tLoss: 0.420439\n",
      "Train Epoch: 44 [12800/50000 (26%)]\tLoss: 0.670203\n",
      "Train Epoch: 44 [25600/50000 (51%)]\tLoss: 0.573340\n",
      "Train Epoch: 44 [38400/50000 (77%)]\tLoss: 0.657188\n",
      "\n",
      "Train set: Average loss: 0.6771, Accuracy: 39177/50000 (78.4%)\n",
      "\n",
      "\n",
      "Test set: Average loss: 0.7210, Accuracy: 7561/10000 (75.610%)\n",
      "\n",
      "Train Epoch: 45 [0/50000 (0%)]\tLoss: 0.586765\n",
      "Train Epoch: 45 [12800/50000 (26%)]\tLoss: 0.656498\n",
      "Train Epoch: 45 [25600/50000 (51%)]\tLoss: 0.639576\n",
      "Train Epoch: 45 [38400/50000 (77%)]\tLoss: 0.725773\n",
      "\n",
      "Train set: Average loss: 0.8586, Accuracy: 39270/50000 (78.5%)\n",
      "\n",
      "\n",
      "Test set: Average loss: 0.7151, Accuracy: 7576/10000 (75.760%)\n",
      "\n",
      "Train Epoch: 46 [0/50000 (0%)]\tLoss: 0.517859\n",
      "Train Epoch: 46 [12800/50000 (26%)]\tLoss: 0.482105\n",
      "Train Epoch: 46 [25600/50000 (51%)]\tLoss: 0.652642\n",
      "Train Epoch: 46 [38400/50000 (77%)]\tLoss: 0.510462\n",
      "\n",
      "Train set: Average loss: 0.6411, Accuracy: 39291/50000 (78.6%)\n",
      "\n",
      "\n",
      "Test set: Average loss: 0.7239, Accuracy: 7580/10000 (75.800%)\n",
      "\n",
      "Train Epoch: 47 [0/50000 (0%)]\tLoss: 0.596948\n",
      "Train Epoch: 47 [12800/50000 (26%)]\tLoss: 0.602617\n",
      "Train Epoch: 47 [25600/50000 (51%)]\tLoss: 0.598034\n",
      "Train Epoch: 47 [38400/50000 (77%)]\tLoss: 0.645938\n",
      "\n",
      "Train set: Average loss: 0.3572, Accuracy: 39275/50000 (78.5%)\n",
      "\n",
      "\n",
      "Test set: Average loss: 0.7958, Accuracy: 7421/10000 (74.210%)\n",
      "\n",
      "Train Epoch: 48 [0/50000 (0%)]\tLoss: 0.851062\n",
      "Train Epoch: 48 [12800/50000 (26%)]\tLoss: 0.535451\n",
      "Train Epoch: 48 [25600/50000 (51%)]\tLoss: 0.448717\n",
      "Train Epoch: 48 [38400/50000 (77%)]\tLoss: 0.554159\n",
      "\n",
      "Train set: Average loss: 0.4812, Accuracy: 39447/50000 (78.9%)\n",
      "\n",
      "\n",
      "Test set: Average loss: 0.7294, Accuracy: 7584/10000 (75.840%)\n",
      "\n",
      "Train Epoch: 49 [0/50000 (0%)]\tLoss: 0.613231\n",
      "Train Epoch: 49 [12800/50000 (26%)]\tLoss: 0.513912\n",
      "Train Epoch: 49 [25600/50000 (51%)]\tLoss: 0.812818\n",
      "Train Epoch: 49 [38400/50000 (77%)]\tLoss: 0.724279\n",
      "\n",
      "Train set: Average loss: 0.5951, Accuracy: 39388/50000 (78.8%)\n",
      "\n",
      "\n",
      "Test set: Average loss: 0.6849, Accuracy: 7671/10000 (76.710%)\n",
      "\n",
      "Train Epoch: 50 [0/50000 (0%)]\tLoss: 0.641886\n",
      "Train Epoch: 50 [12800/50000 (26%)]\tLoss: 0.439825\n",
      "Train Epoch: 50 [25600/50000 (51%)]\tLoss: 0.566585\n",
      "Train Epoch: 50 [38400/50000 (77%)]\tLoss: 0.727108\n",
      "\n",
      "Train set: Average loss: 0.7223, Accuracy: 39394/50000 (78.8%)\n",
      "\n",
      "\n",
      "Test set: Average loss: 0.6392, Accuracy: 7855/10000 (78.550%)\n",
      "\n"
     ]
    }
   ],
   "source": [
    "device = 'cuda'\n",
    "if device == 'cuda': torch.backends.cudnn.benchmark = True # this gives us additional speed up\n",
    "\n",
    "optimizer = optim.SGD(cnn.parameters(), lr=0.1, momentum=0.9, weight_decay=5e-4)\n",
    "scheduler = torch.optim.lr_scheduler.CosineAnnealingLR(optimizer, T_max=200)\n",
    "cnn = cnn.to(device)\n",
    "\n",
    "epochs = 50\n",
    "for epoch in range(1, epochs + 1):\n",
    "    train(cnn, dl_train, optimizer, epoch, log_interval=100, device=device)\n",
    "    test(cnn, dl_test, device=device)    \n",
    "    scheduler.step()"
   ]
  },
  {
   "cell_type": "markdown",
   "metadata": {},
   "source": [
    "This should get us well above 75%, the best we got was ~ 80%.\n",
    "\n",
    "Now, use different torchvision architectures, different optimizers (Adam is always a good choice), data augmentation techniques, and hyperparameter search to achieve a test accuracy of >90 %"
   ]
  },
  {
   "cell_type": "code",
   "execution_count": null,
   "metadata": {},
   "outputs": [],
   "source": []
  }
 ],
 "metadata": {
  "kernelspec": {
   "display_name": "Python 3.9.12 ('base')",
   "language": "python",
   "name": "python3"
  },
  "language_info": {
   "codemirror_mode": {
    "name": "ipython",
    "version": 3
   },
   "file_extension": ".py",
   "mimetype": "text/x-python",
   "name": "python",
   "nbconvert_exporter": "python",
   "pygments_lexer": "ipython3",
   "version": "3.10.13"
  },
  "vscode": {
   "interpreter": {
    "hash": "d268b61a0efacafa8645774cb6d0204c9f01d7563ef03f7672146d044e8f345c"
   }
  }
 },
 "nbformat": 4,
 "nbformat_minor": 4
}
