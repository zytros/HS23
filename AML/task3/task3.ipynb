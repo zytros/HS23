{
 "cells": [
  {
   "cell_type": "markdown",
   "metadata": {},
   "source": [
    "# Task 3: Helper notebook for loading the data and saving the predictions"
   ]
  },
  {
   "cell_type": "code",
   "execution_count": 2,
   "metadata": {},
   "outputs": [],
   "source": [
    "import pickle\n",
    "import gzip\n",
    "import numpy as np\n",
    "import os\n",
    "import cv2"
   ]
  },
  {
   "cell_type": "markdown",
   "metadata": {},
   "source": [
    "### Helper functions"
   ]
  },
  {
   "cell_type": "code",
   "execution_count": 3,
   "metadata": {},
   "outputs": [],
   "source": [
    "def load_zipped_pickle(filename):\n",
    "    with gzip.open(filename, 'rb') as f:\n",
    "        loaded_object = pickle.load(f)\n",
    "        return loaded_object"
   ]
  },
  {
   "cell_type": "code",
   "execution_count": 4,
   "metadata": {},
   "outputs": [],
   "source": [
    "def save_zipped_pickle(obj, filename):\n",
    "    with gzip.open(filename, 'wb') as f:\n",
    "        pickle.dump(obj, f, 2)"
   ]
  },
  {
   "cell_type": "markdown",
   "metadata": {},
   "source": [
    "### Load data, make predictions and save prediction in correct format"
   ]
  },
  {
   "cell_type": "code",
   "execution_count": 6,
   "metadata": {},
   "outputs": [],
   "source": [
    "# load data\n",
    "train_data = load_zipped_pickle(\"train.pkl\")\n",
    "test_data = load_zipped_pickle(\"test.pkl\")\n",
    "samples = load_zipped_pickle(\"sample.pkl\")"
   ]
  },
  {
   "cell_type": "code",
   "execution_count": 7,
   "metadata": {},
   "outputs": [
    {
     "data": {
      "text/plain": [
       "numpy.uint8"
      ]
     },
     "execution_count": 7,
     "metadata": {},
     "output_type": "execute_result"
    }
   ],
   "source": [
    "type(train_data[0]['video'][0,0,0])"
   ]
  },
  {
   "cell_type": "code",
   "execution_count": null,
   "metadata": {},
   "outputs": [],
   "source": [
    "def embedding(T):\n",
    "    # video of shape (w h frames)\n",
    "    width, height, frames = T.shape\n",
    "    X = np.reshape(T, (width*height, frames))\n"
   ]
  },
  {
   "cell_type": "code",
   "execution_count": null,
   "metadata": {},
   "outputs": [],
   "source": [
    "def export_training(data_dict):\n",
    "    name = data_dict['name']\n",
    "    frames = data_dict['frames']\n",
    "    bbox = data_dict['box']\n",
    "    labels = data_dict['label']\n",
    "    video = data_dict['video']\n",
    "    for frame in frames:\n",
    "        # export masks\n",
    "        mask = labels[:,:,frame]\n",
    "        mask = np.where(mask == 1, 255, mask)\n",
    "        mask = np.array(mask, dtype=np.uint8)\n",
    "        filename_mask = 'data/{}/{}_mask.png'.format(name,frame)\n",
    "        if not os.path.exists(os.path.dirname(filename_mask)):\n",
    "            os.makedirs(os.path.dirname(filename_mask))\n",
    "        cv2.imwrite(filename_mask, mask)\n",
    "        # export frames\n",
    "        img = video[:,:,frame]\n",
    "        filename_frame = 'data/{}/{}_frame.png'.format(name,frame)\n",
    "        if not os.path.exists(os.path.dirname(filename_frame)):\n",
    "            os.makedirs(os.path.dirname(filename_frame))\n",
    "        cv2.imwrite(filename_frame, img)\n",
    "    \n",
    "def export_test(data_dict):\n",
    "    name = data_dict['name']\n",
    "    frames = data_dict['frames']\n",
    "    bbox = data_dict['box']\n",
    "    labels = data_dict['label']\n",
    "    video = data_dict['video']\n",
    "    for frame in frames:\n",
    "        # export masks\n",
    "        mask = labels[:,:,frame]\n",
    "        mask = np.where(mask == 1, 255, mask)\n",
    "        mask = np.array(mask, dtype=np.uint8)\n",
    "        filename_mask = 'data/{}/{}_mask.png'.format(name,frame)\n",
    "        if not os.path.exists(os.path.dirname(filename_mask)):\n",
    "            os.makedirs(os.path.dirname(filename_mask))\n",
    "        cv2.imwrite(filename_mask, mask)\n",
    "        # export frames\n",
    "        img = video[:,:,frame]\n",
    "        filename_frame = 'data/{}/{}_frame.png'.format(name,frame)\n",
    "        if not os.path.exists(os.path.dirname(filename_frame)):\n",
    "            os.makedirs(os.path.dirname(filename_frame))\n",
    "        cv2.imwrite(filename_frame, img)\n",
    "    "
   ]
  },
  {
   "cell_type": "code",
   "execution_count": 90,
   "metadata": {},
   "outputs": [],
   "source": [
    "for dat in train_data:\n",
    "    export_training(dat)"
   ]
  },
  {
   "cell_type": "code",
   "execution_count": null,
   "metadata": {},
   "outputs": [],
   "source": [
    "# make prediction for test\n",
    "predictions = []\n",
    "for d in test_data:\n",
    "    prediction = np.array(np.zeros_like(d['video']), dtype=np.bool)\n",
    "    height = prediction.shape[0]\n",
    "    width = prediction.shape[1]\n",
    "    prediction[int(height/2)-50:int(height/2+50), int(width/2)-50:int(width/2+50)] = True\n",
    "    \n",
    "    # DATA Strucure\n",
    "    predictions.append({\n",
    "        'name': d['name'],\n",
    "        'prediction': prediction\n",
    "        }\n",
    "    )"
   ]
  },
  {
   "cell_type": "code",
   "execution_count": null,
   "metadata": {},
   "outputs": [],
   "source": [
    "# save in correct format\n",
    "save_zipped_pickle(predictions, 'my_predictions.pkl')"
   ]
  }
 ],
 "metadata": {
  "kernelspec": {
   "display_name": "Python 3",
   "language": "python",
   "name": "python3"
  },
  "language_info": {
   "codemirror_mode": {
    "name": "ipython",
    "version": 3
   },
   "file_extension": ".py",
   "mimetype": "text/x-python",
   "name": "python",
   "nbconvert_exporter": "python",
   "pygments_lexer": "ipython3",
   "version": "3.10.9"
  }
 },
 "nbformat": 4,
 "nbformat_minor": 4
}
