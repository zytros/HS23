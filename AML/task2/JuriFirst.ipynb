{
 "cells": [
  {
   "cell_type": "code",
   "execution_count": 185,
   "id": "f7ea1cf3",
   "metadata": {},
   "outputs": [],
   "source": [
    "import numpy as np\n",
    "import pandas as pd\n",
    "from sklearn.model_selection import train_test_split\n",
    "import biosppy\n",
    "import biosppy.signals.ecg as ecg\n",
    "import numpy as np\n",
    "import pyhrv.tools as tools\n",
    "from pyhrv.hrv import hrv\n",
    "import matplotlib\n",
    "matplotlib.use('Qt4Agg')\n",
    "\n",
    "# Activate interactive mode\n",
    "import matplotlib.pyplot as plt\n",
    "plt.ion()\n",
    "import heartpy as hp\n",
    "from xgboost import XGBClassifier,XGBRegressor\n",
    "from sklearn.multioutput import MultiOutputClassifier\n",
    "from sklearn.impute import SimpleImputer\n",
    "from sklearn.ensemble import HistGradientBoostingClassifier"
   ]
  },
  {
   "cell_type": "code",
   "execution_count": 72,
   "id": "72d9dd79",
   "metadata": {},
   "outputs": [],
   "source": [
    "df_train_features=pd.read_csv('X_train.csv')\n",
    "Y=pd.read_csv('y_train.csv')\n",
    "x_test_f=pd.read_csv('X_test.csv')"
   ]
  },
  {
   "cell_type": "code",
   "execution_count": 73,
   "id": "bd911b58",
   "metadata": {
    "scrolled": true
   },
   "outputs": [
    {
     "data": {
      "text/html": [
       "<div>\n",
       "<style scoped>\n",
       "    .dataframe tbody tr th:only-of-type {\n",
       "        vertical-align: middle;\n",
       "    }\n",
       "\n",
       "    .dataframe tbody tr th {\n",
       "        vertical-align: top;\n",
       "    }\n",
       "\n",
       "    .dataframe thead th {\n",
       "        text-align: right;\n",
       "    }\n",
       "</style>\n",
       "<table border=\"1\" class=\"dataframe\">\n",
       "  <thead>\n",
       "    <tr style=\"text-align: right;\">\n",
       "      <th></th>\n",
       "      <th>id</th>\n",
       "      <th>x0</th>\n",
       "      <th>x1</th>\n",
       "      <th>x2</th>\n",
       "      <th>x3</th>\n",
       "      <th>x4</th>\n",
       "      <th>x5</th>\n",
       "      <th>x6</th>\n",
       "      <th>x7</th>\n",
       "      <th>x8</th>\n",
       "      <th>...</th>\n",
       "      <th>x17797</th>\n",
       "      <th>x17798</th>\n",
       "      <th>x17799</th>\n",
       "      <th>x17800</th>\n",
       "      <th>x17801</th>\n",
       "      <th>x17802</th>\n",
       "      <th>x17803</th>\n",
       "      <th>x17804</th>\n",
       "      <th>x17805</th>\n",
       "      <th>x17806</th>\n",
       "    </tr>\n",
       "  </thead>\n",
       "  <tbody>\n",
       "    <tr>\n",
       "      <th>0</th>\n",
       "      <td>0</td>\n",
       "      <td>-13</td>\n",
       "      <td>-9</td>\n",
       "      <td>-6</td>\n",
       "      <td>-4</td>\n",
       "      <td>0</td>\n",
       "      <td>2</td>\n",
       "      <td>6</td>\n",
       "      <td>12</td>\n",
       "      <td>23</td>\n",
       "      <td>...</td>\n",
       "      <td>NaN</td>\n",
       "      <td>NaN</td>\n",
       "      <td>NaN</td>\n",
       "      <td>NaN</td>\n",
       "      <td>NaN</td>\n",
       "      <td>NaN</td>\n",
       "      <td>NaN</td>\n",
       "      <td>NaN</td>\n",
       "      <td>NaN</td>\n",
       "      <td>NaN</td>\n",
       "    </tr>\n",
       "    <tr>\n",
       "      <th>1</th>\n",
       "      <td>1</td>\n",
       "      <td>-34</td>\n",
       "      <td>110</td>\n",
       "      <td>249</td>\n",
       "      <td>390</td>\n",
       "      <td>527</td>\n",
       "      <td>639</td>\n",
       "      <td>721</td>\n",
       "      <td>777</td>\n",
       "      <td>823</td>\n",
       "      <td>...</td>\n",
       "      <td>NaN</td>\n",
       "      <td>NaN</td>\n",
       "      <td>NaN</td>\n",
       "      <td>NaN</td>\n",
       "      <td>NaN</td>\n",
       "      <td>NaN</td>\n",
       "      <td>NaN</td>\n",
       "      <td>NaN</td>\n",
       "      <td>NaN</td>\n",
       "      <td>NaN</td>\n",
       "    </tr>\n",
       "    <tr>\n",
       "      <th>2</th>\n",
       "      <td>2</td>\n",
       "      <td>-34</td>\n",
       "      <td>-36</td>\n",
       "      <td>-37</td>\n",
       "      <td>-39</td>\n",
       "      <td>-41</td>\n",
       "      <td>-42</td>\n",
       "      <td>-44</td>\n",
       "      <td>-46</td>\n",
       "      <td>-48</td>\n",
       "      <td>...</td>\n",
       "      <td>NaN</td>\n",
       "      <td>NaN</td>\n",
       "      <td>NaN</td>\n",
       "      <td>NaN</td>\n",
       "      <td>NaN</td>\n",
       "      <td>NaN</td>\n",
       "      <td>NaN</td>\n",
       "      <td>NaN</td>\n",
       "      <td>NaN</td>\n",
       "      <td>NaN</td>\n",
       "    </tr>\n",
       "    <tr>\n",
       "      <th>3</th>\n",
       "      <td>3</td>\n",
       "      <td>292</td>\n",
       "      <td>298</td>\n",
       "      <td>303</td>\n",
       "      <td>310</td>\n",
       "      <td>320</td>\n",
       "      <td>336</td>\n",
       "      <td>354</td>\n",
       "      <td>377</td>\n",
       "      <td>405</td>\n",
       "      <td>...</td>\n",
       "      <td>NaN</td>\n",
       "      <td>NaN</td>\n",
       "      <td>NaN</td>\n",
       "      <td>NaN</td>\n",
       "      <td>NaN</td>\n",
       "      <td>NaN</td>\n",
       "      <td>NaN</td>\n",
       "      <td>NaN</td>\n",
       "      <td>NaN</td>\n",
       "      <td>NaN</td>\n",
       "    </tr>\n",
       "    <tr>\n",
       "      <th>4</th>\n",
       "      <td>4</td>\n",
       "      <td>157</td>\n",
       "      <td>179</td>\n",
       "      <td>195</td>\n",
       "      <td>210</td>\n",
       "      <td>217</td>\n",
       "      <td>222</td>\n",
       "      <td>226</td>\n",
       "      <td>228</td>\n",
       "      <td>231</td>\n",
       "      <td>...</td>\n",
       "      <td>NaN</td>\n",
       "      <td>NaN</td>\n",
       "      <td>NaN</td>\n",
       "      <td>NaN</td>\n",
       "      <td>NaN</td>\n",
       "      <td>NaN</td>\n",
       "      <td>NaN</td>\n",
       "      <td>NaN</td>\n",
       "      <td>NaN</td>\n",
       "      <td>NaN</td>\n",
       "    </tr>\n",
       "    <tr>\n",
       "      <th>...</th>\n",
       "      <td>...</td>\n",
       "      <td>...</td>\n",
       "      <td>...</td>\n",
       "      <td>...</td>\n",
       "      <td>...</td>\n",
       "      <td>...</td>\n",
       "      <td>...</td>\n",
       "      <td>...</td>\n",
       "      <td>...</td>\n",
       "      <td>...</td>\n",
       "      <td>...</td>\n",
       "      <td>...</td>\n",
       "      <td>...</td>\n",
       "      <td>...</td>\n",
       "      <td>...</td>\n",
       "      <td>...</td>\n",
       "      <td>...</td>\n",
       "      <td>...</td>\n",
       "      <td>...</td>\n",
       "      <td>...</td>\n",
       "      <td>...</td>\n",
       "    </tr>\n",
       "    <tr>\n",
       "      <th>5112</th>\n",
       "      <td>5112</td>\n",
       "      <td>-247</td>\n",
       "      <td>-271</td>\n",
       "      <td>-285</td>\n",
       "      <td>-303</td>\n",
       "      <td>-334</td>\n",
       "      <td>-376</td>\n",
       "      <td>-413</td>\n",
       "      <td>-432</td>\n",
       "      <td>-443</td>\n",
       "      <td>...</td>\n",
       "      <td>NaN</td>\n",
       "      <td>NaN</td>\n",
       "      <td>NaN</td>\n",
       "      <td>NaN</td>\n",
       "      <td>NaN</td>\n",
       "      <td>NaN</td>\n",
       "      <td>NaN</td>\n",
       "      <td>NaN</td>\n",
       "      <td>NaN</td>\n",
       "      <td>NaN</td>\n",
       "    </tr>\n",
       "    <tr>\n",
       "      <th>5113</th>\n",
       "      <td>5113</td>\n",
       "      <td>62</td>\n",
       "      <td>62</td>\n",
       "      <td>61</td>\n",
       "      <td>61</td>\n",
       "      <td>61</td>\n",
       "      <td>61</td>\n",
       "      <td>61</td>\n",
       "      <td>61</td>\n",
       "      <td>61</td>\n",
       "      <td>...</td>\n",
       "      <td>NaN</td>\n",
       "      <td>NaN</td>\n",
       "      <td>NaN</td>\n",
       "      <td>NaN</td>\n",
       "      <td>NaN</td>\n",
       "      <td>NaN</td>\n",
       "      <td>NaN</td>\n",
       "      <td>NaN</td>\n",
       "      <td>NaN</td>\n",
       "      <td>NaN</td>\n",
       "    </tr>\n",
       "    <tr>\n",
       "      <th>5114</th>\n",
       "      <td>5114</td>\n",
       "      <td>-95</td>\n",
       "      <td>-110</td>\n",
       "      <td>-124</td>\n",
       "      <td>-131</td>\n",
       "      <td>-126</td>\n",
       "      <td>-114</td>\n",
       "      <td>-95</td>\n",
       "      <td>-67</td>\n",
       "      <td>-42</td>\n",
       "      <td>...</td>\n",
       "      <td>NaN</td>\n",
       "      <td>NaN</td>\n",
       "      <td>NaN</td>\n",
       "      <td>NaN</td>\n",
       "      <td>NaN</td>\n",
       "      <td>NaN</td>\n",
       "      <td>NaN</td>\n",
       "      <td>NaN</td>\n",
       "      <td>NaN</td>\n",
       "      <td>NaN</td>\n",
       "    </tr>\n",
       "    <tr>\n",
       "      <th>5115</th>\n",
       "      <td>5115</td>\n",
       "      <td>-50</td>\n",
       "      <td>-48</td>\n",
       "      <td>-45</td>\n",
       "      <td>-42</td>\n",
       "      <td>-38</td>\n",
       "      <td>-35</td>\n",
       "      <td>-32</td>\n",
       "      <td>-30</td>\n",
       "      <td>-28</td>\n",
       "      <td>...</td>\n",
       "      <td>NaN</td>\n",
       "      <td>NaN</td>\n",
       "      <td>NaN</td>\n",
       "      <td>NaN</td>\n",
       "      <td>NaN</td>\n",
       "      <td>NaN</td>\n",
       "      <td>NaN</td>\n",
       "      <td>NaN</td>\n",
       "      <td>NaN</td>\n",
       "      <td>NaN</td>\n",
       "    </tr>\n",
       "    <tr>\n",
       "      <th>5116</th>\n",
       "      <td>5116</td>\n",
       "      <td>66</td>\n",
       "      <td>65</td>\n",
       "      <td>63</td>\n",
       "      <td>62</td>\n",
       "      <td>65</td>\n",
       "      <td>72</td>\n",
       "      <td>80</td>\n",
       "      <td>84</td>\n",
       "      <td>87</td>\n",
       "      <td>...</td>\n",
       "      <td>NaN</td>\n",
       "      <td>NaN</td>\n",
       "      <td>NaN</td>\n",
       "      <td>NaN</td>\n",
       "      <td>NaN</td>\n",
       "      <td>NaN</td>\n",
       "      <td>NaN</td>\n",
       "      <td>NaN</td>\n",
       "      <td>NaN</td>\n",
       "      <td>NaN</td>\n",
       "    </tr>\n",
       "  </tbody>\n",
       "</table>\n",
       "<p>5117 rows × 17808 columns</p>\n",
       "</div>"
      ],
      "text/plain": [
       "        id   x0   x1   x2   x3   x4   x5   x6   x7   x8  ...  x17797  x17798  \\\n",
       "0        0  -13   -9   -6   -4    0    2    6   12   23  ...     NaN     NaN   \n",
       "1        1  -34  110  249  390  527  639  721  777  823  ...     NaN     NaN   \n",
       "2        2  -34  -36  -37  -39  -41  -42  -44  -46  -48  ...     NaN     NaN   \n",
       "3        3  292  298  303  310  320  336  354  377  405  ...     NaN     NaN   \n",
       "4        4  157  179  195  210  217  222  226  228  231  ...     NaN     NaN   \n",
       "...    ...  ...  ...  ...  ...  ...  ...  ...  ...  ...  ...     ...     ...   \n",
       "5112  5112 -247 -271 -285 -303 -334 -376 -413 -432 -443  ...     NaN     NaN   \n",
       "5113  5113   62   62   61   61   61   61   61   61   61  ...     NaN     NaN   \n",
       "5114  5114  -95 -110 -124 -131 -126 -114  -95  -67  -42  ...     NaN     NaN   \n",
       "5115  5115  -50  -48  -45  -42  -38  -35  -32  -30  -28  ...     NaN     NaN   \n",
       "5116  5116   66   65   63   62   65   72   80   84   87  ...     NaN     NaN   \n",
       "\n",
       "      x17799  x17800  x17801  x17802  x17803  x17804  x17805  x17806  \n",
       "0        NaN     NaN     NaN     NaN     NaN     NaN     NaN     NaN  \n",
       "1        NaN     NaN     NaN     NaN     NaN     NaN     NaN     NaN  \n",
       "2        NaN     NaN     NaN     NaN     NaN     NaN     NaN     NaN  \n",
       "3        NaN     NaN     NaN     NaN     NaN     NaN     NaN     NaN  \n",
       "4        NaN     NaN     NaN     NaN     NaN     NaN     NaN     NaN  \n",
       "...      ...     ...     ...     ...     ...     ...     ...     ...  \n",
       "5112     NaN     NaN     NaN     NaN     NaN     NaN     NaN     NaN  \n",
       "5113     NaN     NaN     NaN     NaN     NaN     NaN     NaN     NaN  \n",
       "5114     NaN     NaN     NaN     NaN     NaN     NaN     NaN     NaN  \n",
       "5115     NaN     NaN     NaN     NaN     NaN     NaN     NaN     NaN  \n",
       "5116     NaN     NaN     NaN     NaN     NaN     NaN     NaN     NaN  \n",
       "\n",
       "[5117 rows x 17808 columns]"
      ]
     },
     "execution_count": 73,
     "metadata": {},
     "output_type": "execute_result"
    }
   ],
   "source": [
    "df_train_features"
   ]
  },
  {
   "cell_type": "code",
   "execution_count": 74,
   "id": "68a764e9",
   "metadata": {},
   "outputs": [],
   "source": [
    "# Creates Train & Validation set with the relevant Data\n",
    "\n",
    "def Vector(feature,label):\n",
    "    label=label.iloc[:,1]\n",
    "    feature=feature.iloc[:,1:]\n",
    "    #X_train, X_test, y_train, y_test  = train_test_split(feature,label, test_size=0.2, random_state=222)\n",
    "    return feature,label"
   ]
  },
  {
   "cell_type": "code",
   "execution_count": 75,
   "id": "89065d5e",
   "metadata": {},
   "outputs": [],
   "source": [
    "X_values,Y_labels= Vector(df_train_features,Y)"
   ]
  },
  {
   "cell_type": "code",
   "execution_count": 76,
   "id": "2bd3a602",
   "metadata": {},
   "outputs": [],
   "source": [
    "#np.size(X_train,axis=0)"
   ]
  },
  {
   "cell_type": "code",
   "execution_count": 77,
   "id": "58f8277f",
   "metadata": {},
   "outputs": [],
   "source": [
    "features=np.zeros((np.size(X_train,axis=0),5))\n",
    "testfeatures=np.zeros((np.size(x_test_f,axis=0),5))"
   ]
  },
  {
   "cell_type": "code",
   "execution_count": 212,
   "id": "41b0337d",
   "metadata": {},
   "outputs": [],
   "source": [
    "def Extraction(X_train):\n",
    "    results_all= np.zeros((np.size(X_train,axis=0),19))\n",
    "    for i in range(np.size(X_train,axis=0)):\n",
    "        feature=X_train.iloc[i,:]\n",
    "        feature=feature.dropna(axis=0)\n",
    "        signal1=np.array(feature)\n",
    "        signal1=signal1.flatten()\n",
    "        #peaks=ecg.ecg(signal=signal1, sampling_rate=300.0, show=False)\n",
    "        #t, filtered_signal, rpeaks = biosppy.signals.ecg.ecg(feature, show=False)[:3]\n",
    "        #nni = tools.nn_intervals(t[rpeaks])\n",
    "        #analyze_df = hrv(rpeaks=t[rpeaks], sampling_rate=300, plot_ecg=False,plot_tachogram=False, show=False)\n",
    "        wd, m = hp.process(signal1, sample_rate = 300.0, bpmmin = 40, bpmmax = 100)\n",
    "        z=0\n",
    "        for measure in m.keys():\n",
    "                results_all[i,z] = m[measure]\n",
    "                z=z+1\n",
    "                if z==12:\n",
    "                    results_all[i,13] = np.amax(signal1)\n",
    "                    results_all[i,14] = np.amin(signal1)\n",
    "                    results_all[i,15] = np.median(signal1)\n",
    "                    results_all[i,16] = np.mean(signal1)\n",
    "                    results_all[i,17] = np.std(signal1)\n",
    "                    results_all[i,18] = np.var(signal1)\n",
    "        if i==3500:\n",
    "            print(3500)\n",
    "            print(m.keys())\n",
    "    return results_all\n",
    "        "
   ]
  },
  {
   "cell_type": "code",
   "execution_count": null,
   "id": "e81f8643",
   "metadata": {},
   "outputs": [],
   "source": [
    "def Extraction2(X_train):\n",
    "    #results_all= np.zeros((np.size(X_train,axis=0),13))\n",
    "    for i in range(np.size(X_train,axis=0)):\n",
    "        feature=X_train.iloc[i,:]\n",
    "        feature=feature.dropna(axis=0)\n",
    "        signal1=np.array(feature)\n",
    "        signal1=signal1.flatten()\n",
    "        #peaks=ecg.ecg(signal=signal1, sampling_rate=300.0, show=False)\n",
    "        #t, filtered_signal, rpeaks = biosppy.signals.ecg.ecg(feature, show=False)[:3]\n",
    "        #nni = tools.nn_intervals(t[rpeaks])\n",
    "        #analyze_df = hrv(rpeaks=t[rpeaks], sampling_rate=300, plot_ecg=False,plot_tachogram=False, show=False)\n",
    "        wd, m = hp.process(signal1, sample_rate = 300.0, bpmmin = -1000, bpmmax = 1000)\n",
    "        \n",
    "        if i==0:\n",
    "            m=pd.DataFrame(m.values() ,index=m.keys())\n",
    "            result=m.T\n",
    "        else:\n",
    "            \n",
    "            m=pd.DataFrame(m.values(),index=m.keys())\n",
    "            \n",
    "            result=result.append(m.T)\n",
    "        if i==1000:\n",
    "            print(1000)\n",
    "            print(m.keys())\n",
    "    return result\n",
    "        "
   ]
  },
  {
   "cell_type": "code",
   "execution_count": 213,
   "id": "772eddd3",
   "metadata": {
    "scrolled": true
   },
   "outputs": [
    {
     "name": "stderr",
     "output_type": "stream",
     "text": [
      "C:\\Users\\pwili\\AppData\\Local\\Temp/ipykernel_17644/1641713810.py:15: UserWarning: Warning: converting a masked element to nan.\n",
      "  results_all[i,z] = m[measure]\n"
     ]
    },
    {
     "name": "stdout",
     "output_type": "stream",
     "text": [
      "3500\n",
      "dict_keys(['bpm', 'ibi', 'sdnn', 'sdsd', 'rmssd', 'pnn20', 'pnn50', 'hr_mad', 'sd1', 'sd2', 's', 'sd1/sd2', 'breathingrate'])\n"
     ]
    }
   ],
   "source": [
    "X_features=Extraction(X_values)"
   ]
  },
  {
   "cell_type": "code",
   "execution_count": 214,
   "id": "7584148e",
   "metadata": {
    "scrolled": true
   },
   "outputs": [
    {
     "data": {
      "text/plain": [
       "array([[ 2.31101647e+02,  2.59626016e+02,  1.44519842e+02, ...,\n",
       "         9.16431810e+00,  1.08995377e+02,  1.18799921e+04],\n",
       "       [ 2.87795346e+02,  2.08481481e+02,  1.41586392e+02, ...,\n",
       "         1.02739390e+01,  1.38783053e+02,  1.92607358e+04],\n",
       "       [ 6.66226041e+01,  9.00595238e+02,  3.57799000e+01, ...,\n",
       "         1.55421277e+01,  1.99155837e+02,  3.96630475e+04],\n",
       "       ...,\n",
       "       [ 2.13276231e+02,  2.81325301e+02,  1.70847905e+02, ...,\n",
       "        -1.39450083e+00,  1.93885203e+02,  3.75914721e+04],\n",
       "       [ 7.14194292e+01,  8.40107527e+02,  5.66539130e+01, ...,\n",
       "         7.78669065e+00,  7.02175324e+01,  4.93050186e+03],\n",
       "       [ 3.34929539e+02,  1.79142157e+02,  1.23505442e+02, ...,\n",
       "        -1.30841328e+01,  1.27239498e+02,  1.61898898e+04]])"
      ]
     },
     "execution_count": 214,
     "metadata": {},
     "output_type": "execute_result"
    }
   ],
   "source": [
    "X_features"
   ]
  },
  {
   "cell_type": "code",
   "execution_count": null,
   "id": "c7217e1a",
   "metadata": {},
   "outputs": [],
   "source": []
  },
  {
   "cell_type": "code",
   "execution_count": null,
   "id": "f4d2171a",
   "metadata": {},
   "outputs": [],
   "source": []
  },
  {
   "cell_type": "code",
   "execution_count": 215,
   "id": "bc312c83",
   "metadata": {
    "scrolled": true
   },
   "outputs": [],
   "source": [
    "#X_train, X_test, y_train, y_test  = train_test_split(X_features,Y_labels, test_size=0.2, random_state=222)"
   ]
  },
  {
   "cell_type": "code",
   "execution_count": 216,
   "id": "30960a0b",
   "metadata": {},
   "outputs": [],
   "source": [
    "X_train=X_features\n",
    "y_train=Y_labels"
   ]
  },
  {
   "cell_type": "code",
   "execution_count": 217,
   "id": "685af9e6",
   "metadata": {},
   "outputs": [],
   "source": [
    "model3=HistGradientBoostingClassifier(learning_rate=0.05)"
   ]
  },
  {
   "cell_type": "code",
   "execution_count": 218,
   "id": "2e735882",
   "metadata": {},
   "outputs": [
    {
     "data": {
      "text/plain": [
       "array([[ 2.31101647e+02,  2.59626016e+02,  1.44519842e+02, ...,\n",
       "         9.16431810e+00,  1.08995377e+02,  1.18799921e+04],\n",
       "       [ 2.87795346e+02,  2.08481481e+02,  1.41586392e+02, ...,\n",
       "         1.02739390e+01,  1.38783053e+02,  1.92607358e+04],\n",
       "       [ 6.66226041e+01,  9.00595238e+02,  3.57799000e+01, ...,\n",
       "         1.55421277e+01,  1.99155837e+02,  3.96630475e+04],\n",
       "       ...,\n",
       "       [ 2.13276231e+02,  2.81325301e+02,  1.70847905e+02, ...,\n",
       "        -1.39450083e+00,  1.93885203e+02,  3.75914721e+04],\n",
       "       [ 7.14194292e+01,  8.40107527e+02,  5.66539130e+01, ...,\n",
       "         7.78669065e+00,  7.02175324e+01,  4.93050186e+03],\n",
       "       [ 3.34929539e+02,  1.79142157e+02,  1.23505442e+02, ...,\n",
       "        -1.30841328e+01,  1.27239498e+02,  1.61898898e+04]])"
      ]
     },
     "execution_count": 218,
     "metadata": {},
     "output_type": "execute_result"
    }
   ],
   "source": [
    "X_train"
   ]
  },
  {
   "cell_type": "code",
   "execution_count": 219,
   "id": "cef0490d",
   "metadata": {
    "scrolled": true
   },
   "outputs": [
    {
     "data": {
      "text/html": [
       "<style>#sk-container-id-5 {color: black;background-color: white;}#sk-container-id-5 pre{padding: 0;}#sk-container-id-5 div.sk-toggleable {background-color: white;}#sk-container-id-5 label.sk-toggleable__label {cursor: pointer;display: block;width: 100%;margin-bottom: 0;padding: 0.3em;box-sizing: border-box;text-align: center;}#sk-container-id-5 label.sk-toggleable__label-arrow:before {content: \"▸\";float: left;margin-right: 0.25em;color: #696969;}#sk-container-id-5 label.sk-toggleable__label-arrow:hover:before {color: black;}#sk-container-id-5 div.sk-estimator:hover label.sk-toggleable__label-arrow:before {color: black;}#sk-container-id-5 div.sk-toggleable__content {max-height: 0;max-width: 0;overflow: hidden;text-align: left;background-color: #f0f8ff;}#sk-container-id-5 div.sk-toggleable__content pre {margin: 0.2em;color: black;border-radius: 0.25em;background-color: #f0f8ff;}#sk-container-id-5 input.sk-toggleable__control:checked~div.sk-toggleable__content {max-height: 200px;max-width: 100%;overflow: auto;}#sk-container-id-5 input.sk-toggleable__control:checked~label.sk-toggleable__label-arrow:before {content: \"▾\";}#sk-container-id-5 div.sk-estimator input.sk-toggleable__control:checked~label.sk-toggleable__label {background-color: #d4ebff;}#sk-container-id-5 div.sk-label input.sk-toggleable__control:checked~label.sk-toggleable__label {background-color: #d4ebff;}#sk-container-id-5 input.sk-hidden--visually {border: 0;clip: rect(1px 1px 1px 1px);clip: rect(1px, 1px, 1px, 1px);height: 1px;margin: -1px;overflow: hidden;padding: 0;position: absolute;width: 1px;}#sk-container-id-5 div.sk-estimator {font-family: monospace;background-color: #f0f8ff;border: 1px dotted black;border-radius: 0.25em;box-sizing: border-box;margin-bottom: 0.5em;}#sk-container-id-5 div.sk-estimator:hover {background-color: #d4ebff;}#sk-container-id-5 div.sk-parallel-item::after {content: \"\";width: 100%;border-bottom: 1px solid gray;flex-grow: 1;}#sk-container-id-5 div.sk-label:hover label.sk-toggleable__label {background-color: #d4ebff;}#sk-container-id-5 div.sk-serial::before {content: \"\";position: absolute;border-left: 1px solid gray;box-sizing: border-box;top: 0;bottom: 0;left: 50%;z-index: 0;}#sk-container-id-5 div.sk-serial {display: flex;flex-direction: column;align-items: center;background-color: white;padding-right: 0.2em;padding-left: 0.2em;position: relative;}#sk-container-id-5 div.sk-item {position: relative;z-index: 1;}#sk-container-id-5 div.sk-parallel {display: flex;align-items: stretch;justify-content: center;background-color: white;position: relative;}#sk-container-id-5 div.sk-item::before, #sk-container-id-5 div.sk-parallel-item::before {content: \"\";position: absolute;border-left: 1px solid gray;box-sizing: border-box;top: 0;bottom: 0;left: 50%;z-index: -1;}#sk-container-id-5 div.sk-parallel-item {display: flex;flex-direction: column;z-index: 1;position: relative;background-color: white;}#sk-container-id-5 div.sk-parallel-item:first-child::after {align-self: flex-end;width: 50%;}#sk-container-id-5 div.sk-parallel-item:last-child::after {align-self: flex-start;width: 50%;}#sk-container-id-5 div.sk-parallel-item:only-child::after {width: 0;}#sk-container-id-5 div.sk-dashed-wrapped {border: 1px dashed gray;margin: 0 0.4em 0.5em 0.4em;box-sizing: border-box;padding-bottom: 0.4em;background-color: white;}#sk-container-id-5 div.sk-label label {font-family: monospace;font-weight: bold;display: inline-block;line-height: 1.2em;}#sk-container-id-5 div.sk-label-container {text-align: center;}#sk-container-id-5 div.sk-container {/* jupyter's `normalize.less` sets `[hidden] { display: none; }` but bootstrap.min.css set `[hidden] { display: none !important; }` so we also need the `!important` here to be able to override the default hidden behavior on the sphinx rendered scikit-learn.org. See: https://github.com/scikit-learn/scikit-learn/issues/21755 */display: inline-block !important;position: relative;}#sk-container-id-5 div.sk-text-repr-fallback {display: none;}</style><div id=\"sk-container-id-5\" class=\"sk-top-container\"><div class=\"sk-text-repr-fallback\"><pre>HistGradientBoostingClassifier(learning_rate=0.05)</pre><b>In a Jupyter environment, please rerun this cell to show the HTML representation or trust the notebook. <br />On GitHub, the HTML representation is unable to render, please try loading this page with nbviewer.org.</b></div><div class=\"sk-container\" hidden><div class=\"sk-item\"><div class=\"sk-estimator sk-toggleable\"><input class=\"sk-toggleable__control sk-hidden--visually\" id=\"sk-estimator-id-5\" type=\"checkbox\" checked><label for=\"sk-estimator-id-5\" class=\"sk-toggleable__label sk-toggleable__label-arrow\">HistGradientBoostingClassifier</label><div class=\"sk-toggleable__content\"><pre>HistGradientBoostingClassifier(learning_rate=0.05)</pre></div></div></div></div></div>"
      ],
      "text/plain": [
       "HistGradientBoostingClassifier(learning_rate=0.05)"
      ]
     },
     "execution_count": 219,
     "metadata": {},
     "output_type": "execute_result"
    }
   ],
   "source": [
    "model3.fit(X_train,y_train)"
   ]
  },
  {
   "cell_type": "code",
   "execution_count": 221,
   "id": "04aadb8c",
   "metadata": {},
   "outputs": [],
   "source": [
    "#X_values,Y_labels= Vector(df_train_features,Y)"
   ]
  },
  {
   "cell_type": "code",
   "execution_count": 222,
   "id": "f17dd146",
   "metadata": {
    "scrolled": true
   },
   "outputs": [
    {
     "name": "stderr",
     "output_type": "stream",
     "text": [
      "C:\\Users\\pwili\\AppData\\Local\\Temp/ipykernel_17644/1641713810.py:15: UserWarning: Warning: converting a masked element to nan.\n",
      "  results_all[i,z] = m[measure]\n"
     ]
    }
   ],
   "source": [
    "X_test_features=Extraction(x_test_f.iloc[:,1:])"
   ]
  },
  {
   "cell_type": "code",
   "execution_count": 223,
   "id": "30373f6b",
   "metadata": {},
   "outputs": [
    {
     "data": {
      "text/plain": [
       "array([[6.97481317e+01, 8.60238095e+02, 8.35992356e+01, ...,\n",
       "        3.38170328e+01, 2.95169594e+02, 8.71250892e+04],\n",
       "       [5.58904110e+01, 1.07352941e+03, 6.92392894e+01, ...,\n",
       "        2.57082114e+01, 1.54982133e+02, 2.40194616e+04],\n",
       "       [2.99931522e+02, 2.00045662e+02, 1.51035485e+02, ...,\n",
       "        3.86244674e+00, 2.57362051e+02, 6.62352254e+04],\n",
       "       ...,\n",
       "       [1.61644382e+02, 3.71185185e+02, 1.80464634e+02, ...,\n",
       "        1.28195295e+01, 1.32633911e+02, 1.75917543e+04],\n",
       "       [8.22708684e+01, 7.29298246e+02, 9.49477834e+00, ...,\n",
       "        1.23710841e+01, 9.42972716e+01, 8.89197543e+03],\n",
       "       [1.02084611e+02, 5.87747748e+02, 1.20654009e+02, ...,\n",
       "        1.97690540e+01, 2.54342368e+02, 6.46900399e+04]])"
      ]
     },
     "execution_count": 223,
     "metadata": {},
     "output_type": "execute_result"
    }
   ],
   "source": [
    "X_test_features"
   ]
  },
  {
   "cell_type": "code",
   "execution_count": 224,
   "id": "a27952f3",
   "metadata": {},
   "outputs": [],
   "source": [
    "Y_final=model3.predict(X_test_features)"
   ]
  },
  {
   "cell_type": "code",
   "execution_count": null,
   "id": "6d9fde61",
   "metadata": {},
   "outputs": [],
   "source": []
  },
  {
   "cell_type": "code",
   "execution_count": 225,
   "id": "d096e001",
   "metadata": {},
   "outputs": [],
   "source": [
    "# Create a data frame with the data for the submission\n",
    "d = {'id': x_test_f.iloc[:,0], 'y': Y_final}\n",
    "\n",
    "df = pd.DataFrame(data=d)\n",
    "\n",
    "# Store the data in a csv file\n",
    "df.to_csv('prediction3.csv', index=False)"
   ]
  },
  {
   "cell_type": "code",
   "execution_count": null,
   "id": "4271bc95",
   "metadata": {},
   "outputs": [],
   "source": []
  },
  {
   "cell_type": "code",
   "execution_count": null,
   "id": "4883bedd",
   "metadata": {},
   "outputs": [],
   "source": []
  }
 ],
 "metadata": {
  "kernelspec": {
   "display_name": "Python 3 (ipykernel)",
   "language": "python",
   "name": "python3"
  },
  "language_info": {
   "codemirror_mode": {
    "name": "ipython",
    "version": 3
   },
   "file_extension": ".py",
   "mimetype": "text/x-python",
   "name": "python",
   "nbconvert_exporter": "python",
   "pygments_lexer": "ipython3",
   "version": "3.9.7"
  }
 },
 "nbformat": 4,
 "nbformat_minor": 5
}
