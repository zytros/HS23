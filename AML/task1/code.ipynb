{
 "cells": [
  {
   "cell_type": "code",
   "execution_count": 62,
   "metadata": {},
   "outputs": [],
   "source": [
    "import pandas as pd\n",
    "import numpy as np\n",
    "from sklearn.impute import SimpleImputer\n",
    "from sklearn.model_selection import train_test_split\n",
    "from sklearn.model_selection import cross_val_score, KFold\n",
    "from sklearn.metrics import r2_score\n",
    "from sklearn import linear_model\n",
    "from sklearn.kernel_ridge import KernelRidge\n",
    "import matplotlib as plt\n",
    "from sklearn.utils._testing import ignore_warnings\n",
    "from sklearn.exceptions import ConvergenceWarning\n",
    "from sklearn.ensemble import IsolationForest"
   ]
  },
  {
   "cell_type": "code",
   "execution_count": 45,
   "metadata": {},
   "outputs": [],
   "source": [
    "N_FOLDS = 10\n",
    "lambdas = [0.01, 0.1, 1, 10, 100, 1000]"
   ]
  },
  {
   "cell_type": "code",
   "execution_count": 46,
   "metadata": {},
   "outputs": [],
   "source": [
    "# Load Data for training:\n",
    "df_x_train = pd.read_csv('X_train.csv')\n",
    "df_y_train = pd.read_csv('y_train.csv')\n",
    "\n",
    "# Load Data for test\n",
    "df_x_test = pd.read_csv('X_test.csv')"
   ]
  },
  {
   "cell_type": "code",
   "execution_count": 47,
   "metadata": {},
   "outputs": [],
   "source": [
    "x_train_raw = df_x_train.iloc[:, 1:].to_numpy()\n",
    "y_train_raw = df_y_train.iloc[:, 1:].to_numpy()\n",
    "x_test_raw = df_x_test.iloc[:, 1:].to_numpy()"
   ]
  },
  {
   "cell_type": "code",
   "execution_count": 48,
   "metadata": {},
   "outputs": [],
   "source": [
    "x_imp_train = SimpleImputer(strategy='median').fit_transform(x_train_raw)\n",
    "x_imp_test = SimpleImputer(strategy='median').fit_transform(x_test_raw)\n",
    "\n",
    "\n"
   ]
  },
  {
   "cell_type": "code",
   "execution_count": 49,
   "metadata": {},
   "outputs": [],
   "source": [
    "def fit(X, y, lam, kernel='linrar'):\n",
    "    reg = KernelRidge(alpha=lam, kernel=kernel)\n",
    "    return reg.fit(X, y)"
   ]
  },
  {
   "cell_type": "code",
   "execution_count": 50,
   "metadata": {},
   "outputs": [],
   "source": [
    "def score(model, X, y):\n",
    "    y_pred = model.predict(X)\n",
    "    return r2_score(y, y_pred)"
   ]
  },
  {
   "cell_type": "code",
   "execution_count": 51,
   "metadata": {},
   "outputs": [],
   "source": [
    "@ignore_warnings(category=ConvergenceWarning)\n",
    "def train(X, y, lam, kernel='linear'):\n",
    "    x_train, x_test, y_train, y_test = train_test_split(X, y, test_size=0.2, random_state=42)\n",
    "    w = fit(x_train, y_train, lam, kernel)\n",
    "    s = score(w, x_test, y_test)\n",
    "    return s\n",
    "    \n"
   ]
  },
  {
   "cell_type": "code",
   "execution_count": 60,
   "metadata": {},
   "outputs": [],
   "source": [
    "def outlierRemoval(X, contamination=0.1, randomstate=42):\n",
    "    rem = IsolationForest(contamination=contamination, random_state=randomstate)\n",
    "    rem.fit(X)\n",
    "    l = rem.predict(X)\n",
    "    \n",
    "    return rem.predict(X)"
   ]
  },
  {
   "cell_type": "code",
   "execution_count": 68,
   "metadata": {},
   "outputs": [
    {
     "name": "stdout",
     "output_type": "stream",
     "text": [
      "(1212, 832)\n",
      "(1212,)\n"
     ]
    },
    {
     "data": {
      "text/plain": [
       "{-1: 122, 1: 1090}"
      ]
     },
     "execution_count": 68,
     "metadata": {},
     "output_type": "execute_result"
    }
   ],
   "source": [
    "print(x_imp_train.shape)\n",
    "x = outlierRemoval(x_imp_train)\n",
    "print(x.shape)\n",
    "unique, counts = np.unique(x, return_counts=True)\n",
    "dict(zip(unique, counts))"
   ]
  },
  {
   "cell_type": "code",
   "execution_count": 59,
   "metadata": {},
   "outputs": [
    {
     "name": "stdout",
     "output_type": "stream",
     "text": [
      "Kernel:  linear Lambda:  0.01\n"
     ]
    },
    {
     "name": "stderr",
     "output_type": "stream",
     "text": [
      "c:\\Users\\lucas\\anaconda3\\lib\\site-packages\\sklearn\\linear_model\\_ridge.py:255: UserWarning: Singular matrix in solving dual problem. Using least-squares solution instead.\n",
      "  warnings.warn(\n"
     ]
    },
    {
     "name": "stdout",
     "output_type": "stream",
     "text": [
      "Score:  -20.825729255200553\n",
      "Kernel:  linear Lambda:  0.1\n"
     ]
    },
    {
     "name": "stderr",
     "output_type": "stream",
     "text": [
      "c:\\Users\\lucas\\anaconda3\\lib\\site-packages\\sklearn\\linear_model\\_ridge.py:255: UserWarning: Singular matrix in solving dual problem. Using least-squares solution instead.\n",
      "  warnings.warn(\n"
     ]
    },
    {
     "name": "stdout",
     "output_type": "stream",
     "text": [
      "Score:  -20.825729255200553\n",
      "Kernel:  linear Lambda:  1\n",
      "Score:  -20.825729255200553\n",
      "Kernel:  linear Lambda:  10\n"
     ]
    },
    {
     "name": "stderr",
     "output_type": "stream",
     "text": [
      "c:\\Users\\lucas\\anaconda3\\lib\\site-packages\\sklearn\\linear_model\\_ridge.py:255: UserWarning: Singular matrix in solving dual problem. Using least-squares solution instead.\n",
      "  warnings.warn(\n",
      "c:\\Users\\lucas\\anaconda3\\lib\\site-packages\\sklearn\\linear_model\\_ridge.py:255: UserWarning: Singular matrix in solving dual problem. Using least-squares solution instead.\n",
      "  warnings.warn(\n"
     ]
    },
    {
     "name": "stdout",
     "output_type": "stream",
     "text": [
      "Score:  -20.825729255200553\n",
      "Kernel:  linear Lambda:  100\n"
     ]
    },
    {
     "name": "stderr",
     "output_type": "stream",
     "text": [
      "c:\\Users\\lucas\\anaconda3\\lib\\site-packages\\sklearn\\linear_model\\_ridge.py:255: UserWarning: Singular matrix in solving dual problem. Using least-squares solution instead.\n",
      "  warnings.warn(\n"
     ]
    },
    {
     "name": "stdout",
     "output_type": "stream",
     "text": [
      "Score:  -20.825729255200553\n",
      "Kernel:  linear Lambda:  1000\n"
     ]
    },
    {
     "name": "stderr",
     "output_type": "stream",
     "text": [
      "c:\\Users\\lucas\\anaconda3\\lib\\site-packages\\sklearn\\linear_model\\_ridge.py:255: UserWarning: Singular matrix in solving dual problem. Using least-squares solution instead.\n",
      "  warnings.warn(\n"
     ]
    },
    {
     "name": "stdout",
     "output_type": "stream",
     "text": [
      "Score:  -20.825729255200553\n",
      "Kernel:  polynomial Lambda:  0.01\n"
     ]
    },
    {
     "name": "stderr",
     "output_type": "stream",
     "text": [
      "c:\\Users\\lucas\\anaconda3\\lib\\site-packages\\sklearn\\linear_model\\_ridge.py:255: UserWarning: Singular matrix in solving dual problem. Using least-squares solution instead.\n",
      "  warnings.warn(\n"
     ]
    },
    {
     "name": "stdout",
     "output_type": "stream",
     "text": [
      "Score:  -50.63757598813709\n",
      "Kernel:  polynomial Lambda:  0.1\n"
     ]
    },
    {
     "name": "stderr",
     "output_type": "stream",
     "text": [
      "c:\\Users\\lucas\\anaconda3\\lib\\site-packages\\sklearn\\linear_model\\_ridge.py:255: UserWarning: Singular matrix in solving dual problem. Using least-squares solution instead.\n",
      "  warnings.warn(\n"
     ]
    },
    {
     "name": "stdout",
     "output_type": "stream",
     "text": [
      "Score:  -50.63757598813709\n",
      "Kernel:  polynomial Lambda:  1\n"
     ]
    },
    {
     "name": "stderr",
     "output_type": "stream",
     "text": [
      "c:\\Users\\lucas\\anaconda3\\lib\\site-packages\\sklearn\\linear_model\\_ridge.py:255: UserWarning: Singular matrix in solving dual problem. Using least-squares solution instead.\n",
      "  warnings.warn(\n"
     ]
    },
    {
     "name": "stdout",
     "output_type": "stream",
     "text": [
      "Score:  -50.63757598813709\n",
      "Kernel:  polynomial Lambda:  10\n"
     ]
    },
    {
     "name": "stderr",
     "output_type": "stream",
     "text": [
      "c:\\Users\\lucas\\anaconda3\\lib\\site-packages\\sklearn\\linear_model\\_ridge.py:255: UserWarning: Singular matrix in solving dual problem. Using least-squares solution instead.\n",
      "  warnings.warn(\n"
     ]
    },
    {
     "name": "stdout",
     "output_type": "stream",
     "text": [
      "Score:  -50.63757598813709\n",
      "Kernel:  polynomial Lambda:  100\n"
     ]
    },
    {
     "name": "stderr",
     "output_type": "stream",
     "text": [
      "c:\\Users\\lucas\\anaconda3\\lib\\site-packages\\sklearn\\linear_model\\_ridge.py:255: UserWarning: Singular matrix in solving dual problem. Using least-squares solution instead.\n",
      "  warnings.warn(\n"
     ]
    },
    {
     "name": "stdout",
     "output_type": "stream",
     "text": [
      "Score:  -50.63757598813709\n",
      "Kernel:  polynomial Lambda:  1000\n"
     ]
    },
    {
     "name": "stderr",
     "output_type": "stream",
     "text": [
      "c:\\Users\\lucas\\anaconda3\\lib\\site-packages\\sklearn\\linear_model\\_ridge.py:255: UserWarning: Singular matrix in solving dual problem. Using least-squares solution instead.\n",
      "  warnings.warn(\n"
     ]
    },
    {
     "name": "stdout",
     "output_type": "stream",
     "text": [
      "Score:  -50.63757598813709\n",
      "Kernel:  rbf Lambda:  0.01\n",
      "Score:  -54.738194521181676\n",
      "Kernel:  rbf Lambda:  0.1\n",
      "Score:  -54.738381410167435\n",
      "Kernel:  rbf Lambda:  1\n",
      "Score:  -54.74953787693997\n",
      "Kernel:  rbf Lambda:  10\n",
      "Score:  -54.84560420358841\n",
      "Kernel:  rbf Lambda:  100\n",
      "Score:  -54.909297946306914\n",
      "Kernel:  rbf Lambda:  1000\n",
      "Score:  -54.918633994082526\n",
      "Kernel:  sigmoid Lambda:  0.01\n",
      "Score:  -119285.70755625289\n",
      "Kernel:  sigmoid Lambda:  0.1\n"
     ]
    },
    {
     "name": "stderr",
     "output_type": "stream",
     "text": [
      "c:\\Users\\lucas\\anaconda3\\lib\\site-packages\\sklearn\\linear_model\\_ridge.py:255: UserWarning: Singular matrix in solving dual problem. Using least-squares solution instead.\n",
      "  warnings.warn(\n",
      "c:\\Users\\lucas\\anaconda3\\lib\\site-packages\\sklearn\\linear_model\\_ridge.py:255: UserWarning: Singular matrix in solving dual problem. Using least-squares solution instead.\n",
      "  warnings.warn(\n"
     ]
    },
    {
     "name": "stdout",
     "output_type": "stream",
     "text": [
      "Score:  -1200.9690755086415\n",
      "Kernel:  sigmoid Lambda:  1\n",
      "Score:  -21.031512351594206\n",
      "Kernel:  sigmoid Lambda:  10\n"
     ]
    },
    {
     "name": "stderr",
     "output_type": "stream",
     "text": [
      "c:\\Users\\lucas\\anaconda3\\lib\\site-packages\\sklearn\\linear_model\\_ridge.py:255: UserWarning: Singular matrix in solving dual problem. Using least-squares solution instead.\n",
      "  warnings.warn(\n",
      "c:\\Users\\lucas\\anaconda3\\lib\\site-packages\\sklearn\\linear_model\\_ridge.py:255: UserWarning: Singular matrix in solving dual problem. Using least-squares solution instead.\n",
      "  warnings.warn(\n"
     ]
    },
    {
     "name": "stdout",
     "output_type": "stream",
     "text": [
      "Score:  -3.1907848594041823\n",
      "Kernel:  sigmoid Lambda:  100\n",
      "Score:  -3.7378652229976277\n",
      "Kernel:  sigmoid Lambda:  1000\n",
      "Score:  -16.748642812490658\n",
      "Kernel:  laplacian Lambda:  0.01\n",
      "Score:  -54.919718266914664\n",
      "Kernel:  laplacian Lambda:  0.1\n",
      "Score:  -54.919718266914664\n",
      "Kernel:  laplacian Lambda:  1\n",
      "Score:  -54.919718266914664\n",
      "Kernel:  laplacian Lambda:  10\n",
      "Score:  -54.919718266914664\n",
      "Kernel:  laplacian Lambda:  100\n",
      "Score:  -54.919718266914664\n",
      "Kernel:  laplacian Lambda:  1000\n",
      "Score:  -54.919718266914664\n",
      "Kernel:  cosine Lambda:  0.01\n",
      "Score:  -2.872531672774701\n",
      "Kernel:  cosine Lambda:  0.1\n",
      "Score:  -2.8727996575222754\n",
      "Kernel:  cosine Lambda:  1\n",
      "Score:  -2.8755297746306177\n",
      "Kernel:  cosine Lambda:  10\n",
      "Score:  -2.9077712468465178\n",
      "Kernel:  cosine Lambda:  100\n",
      "Score:  -3.638663938833326\n",
      "Kernel:  cosine Lambda:  1000\n",
      "Score:  -18.21448643307643\n",
      "Best Kernel:  cosine Best Lambda:  0.01 Best Score:  -2.872531672774701\n"
     ]
    }
   ],
   "source": [
    "if __name__ == '__main__':\n",
    "    LAMBDAS_LASSO = [170, 180]\n",
    "    lambdas = [0.01, 0.1, 1, 10, 100, 1000]\n",
    "    best_kernel = ''\n",
    "    best_score = -9999999\n",
    "    best_lambda = 0\n",
    "    kernels = ['linear', 'polynomial', 'rbf', 'sigmoid', 'laplacian', 'cosine', ]\n",
    "    for k in kernels:\n",
    "        for l in lambdas:\n",
    "            print(\"Kernel: \", k, \"Lambda: \", l)\n",
    "            s = train(x_imp_train, y_train_raw, l, k)\n",
    "            print(\"Score: \", s)\n",
    "            if s > best_score:\n",
    "                best_score = s\n",
    "                best_kernel = k\n",
    "                best_lambda = l\n",
    "\n",
    "    print(\"Best Kernel: \", best_kernel, \"Best Lambda: \", best_lambda, \"Best Score: \", best_score)"
   ]
  }
 ],
 "metadata": {
  "kernelspec": {
   "display_name": "Python 3",
   "language": "python",
   "name": "python3"
  },
  "language_info": {
   "codemirror_mode": {
    "name": "ipython",
    "version": 3
   },
   "file_extension": ".py",
   "mimetype": "text/x-python",
   "name": "python",
   "nbconvert_exporter": "python",
   "pygments_lexer": "ipython3",
   "version": "3.10.13"
  }
 },
 "nbformat": 4,
 "nbformat_minor": 2
}
