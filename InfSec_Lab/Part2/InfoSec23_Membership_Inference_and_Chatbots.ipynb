{
  "cells": [
    {
      "cell_type": "code",
      "execution_count": null,
      "metadata": {
        "id": "mFCB4Sp6r1Yp"
      },
      "outputs": [],
      "source": [
        "use_gdrive = True # @param {type:\"boolean\"}\n",
        "\n",
        "RESULTS_PATH = \"results2\"\n",
        "\n",
        "if use_gdrive:\n",
        "  try:\n",
        "    # mount your google drive to get permanent storage for your results\n",
        "    from google.colab import drive\n",
        "    drive.mount('/content/drive')\n",
        "\n",
        "    RESULTS_PATH = \"/content/drive/MyDrive/infoseclab23/results2\"\n",
        "  except ModuleNotFoundError:\n",
        "    print(\"failed to mount gdrive\")\n",
        "else:\n",
        "  print(f\"saving results to '{RESULTS_PATH}'. If you're using Google Colab, this folder will be deleted when you disconnect!\")\n",
        "\n",
        "!mkdir -p {RESULTS_PATH}"
      ]
    },
    {
      "cell_type": "code",
      "execution_count": null,
      "metadata": {
        "id": "SwaKfoJ3r771"
      },
      "outputs": [],
      "source": [
        "import sys\n",
        "\n",
        "# Lab files\n",
        "![ ! -d 'infoseclab_23' ] && git clone https://github.com/ethz-spylab/infoseclab_23.git\n",
        "%cd infoseclab_23\n",
        "!git pull https://github.com/ethz-spylab/infoseclab_23.git\n",
        "%cd ..\n",
        "if \"infoseclab_23\" not in sys.path:\n",
        "  sys.path.append(\"infoseclab_23\")"
      ]
    },
    {
      "cell_type": "markdown",
      "metadata": {
        "id": "3v3KTaJ2r__h"
      },
      "source": [
        "# Imports"
      ]
    },
    {
      "cell_type": "code",
      "execution_count": null,
      "metadata": {
        "id": "lv6zjpbxsB20"
      },
      "outputs": [],
      "source": [
        "import infoseclab\n",
        "from infoseclab import ShadowModels, utils, evaluation\n",
        "import matplotlib.pyplot as plt\n",
        "import numpy as np\n",
        "import os\n",
        "import pathlib\n",
        "import scipy\n",
        "import sklearn\n",
        "import warnings\n",
        "from zipfile import ZipFile\n"
      ]
    },
    {
      "cell_type": "markdown",
      "metadata": {
        "id": "2ig2TBGUw2om"
      },
      "source": [
        "# Membership Inference\n",
        "\n",
        "In this part of the lab, you will create a membership inference attack, with a twist:\n",
        "you do not know which shadow models were trained on which samples.\n",
        "\n",
        "First, load the predictions."
      ]
    },
    {
      "cell_type": "code",
      "execution_count": null,
      "metadata": {
        "id": "5zEEEqn8w7Sg"
      },
      "outputs": [],
      "source": [
        "# Load data\n",
        "activations_fit = ShadowModels.activations_fit        # pre-softmax activations from shadow models to construct your attack (50000 x 127 x 10)\n",
        "activations_attack = ShadowModels.activations_attack  # pre-softmax activations from the target model to attack (50000 x 10)\n",
        "labels = ShadowModels.labels                          # the class labels of all samples (50000)\n",
        "training_splits = ShadowModels.training_splits        # train-test vector; -1 for test samples, 1/0 (member/non-member) for training samples (50000)\n",
        "\n",
        "num_samples, num_models, num_classes = activations_fit.shape\n",
        "assert activations_attack.shape == (num_samples, num_classes)\n",
        "assert labels.shape == (num_samples,)\n",
        "assert training_splits.shape == (num_samples,)\n",
        "\n",
        "# Mask that is True for all samples with a known target membership label\n",
        "training_mask = (training_splits != -1)\n"
      ]
    },
    {
      "cell_type": "markdown",
      "metadata": {
        "id": "cVWhkiLg9cjH"
      },
      "source": [
        "**Implement your membership inference attack in the following cell.**\n",
        "\n",
        "Remember that your output should be a NumPy array\n",
        "containing attack scores for *all* samples,\n",
        "but we only consider samples where the corresponding `training_mask` entry\n",
        "is `False` for grading.\n",
        "\n",
        "The following code performs a dummy attack that ignores all shadow model outputs."
      ]
    },
    {
      "cell_type": "code",
      "execution_count": null,
      "metadata": {
        "id": "0IRX9x6G9MY4"
      },
      "outputs": [],
      "source": [
        "# TODO: Replace the following dummy score with your attack\n",
        "attack_scores = activations_attack[np.arange(num_samples), labels]\n",
        "\n",
        "# Save scores\n",
        "utils.save_attack_scores(os.path.join(RESULTS_PATH, \"attack_scores.npy\"), attack_scores)"
      ]
    },
    {
      "cell_type": "code",
      "execution_count": null,
      "metadata": {
        "id": "-s2PONSPCUWL"
      },
      "outputs": [],
      "source": [
        "# You can visualize the TPR vs. FPR of your attack on the training set using the following code.\n",
        "# If you want to evaluate multiple attacks you can call `evaluation.eval_mia` multiple times,\n",
        "# but you should set `plot_decorations = False` for all but the first call.\n",
        "fig, ax = plt.subplots()\n",
        "evaluation.eval_mia(\n",
        "    true_splits=training_splits[training_mask],\n",
        "    attack_scores=attack_scores[training_mask],\n",
        "    ax=ax,\n",
        "    label=\"Dummy attack\",\n",
        "    plot_decorations=True,\n",
        ")\n",
        "plt.show(fig)\n",
        "plt.close(fig)"
      ]
    },
    {
      "cell_type": "markdown",
      "metadata": {
        "id": "_bpW775c7RXy"
      },
      "source": [
        "# Stealing Chatbot Prompts\n",
        "\n",
        "Enter results for the chatbot secret extraction"
      ]
    },
    {
      "cell_type": "code",
      "execution_count": null,
      "metadata": {
        "id": "W-mTLK627PsK"
      },
      "outputs": [],
      "source": [
        "# Enter your 10 extracted secrets, 6 alphanumeric characters each\n",
        "secrets = [\n",
        "    \"aaaaaa\",\n",
        "    \"aaaaaa\",\n",
        "    \"aaaaaa\",\n",
        "    \"aaaaaa\",\n",
        "    \"aaaaaa\",\n",
        "    \"aaaaaa\",\n",
        "    \"aaaaaa\",\n",
        "    \"aaaaaa\",\n",
        "    \"aaaaaa\",\n",
        "    \"aaaaaa\"\n",
        "]\n",
        "\n",
        "# save the secrets to an array and save it to chatbot.npy\n",
        "secrets = np.array(secrets)\n",
        "assert len(secrets) == 10\n",
        "np.save(f\"{RESULTS_PATH}/chatbot.npy\", secrets)"
      ]
    },
    {
      "cell_type": "markdown",
      "metadata": {
        "id": "gjRRxPXqsGWk"
      },
      "source": [
        "# Create submission file (**upload `results2.zip` to moodle**)"
      ]
    },
    {
      "cell_type": "code",
      "execution_count": null,
      "metadata": {
        "id": "qRK9S_o26CY9"
      },
      "outputs": [],
      "source": [
        "!zip -j -FSr \"{RESULTS_PATH}/results2.zip\" {RESULTS_PATH}"
      ]
    },
    {
      "cell_type": "code",
      "execution_count": null,
      "metadata": {
        "id": "ADYA5ufh6ir_"
      },
      "outputs": [],
      "source": [
        "from infoseclab.submission import validate_zip2\n",
        "assert validate_zip2(f\"{RESULTS_PATH}/results2.zip\")"
      ]
    }
  ],
  "metadata": {
    "colab": {
      "provenance": []
    },
    "kernelspec": {
      "display_name": "Python 3",
      "name": "python3"
    },
    "language_info": {
      "name": "python"
    }
  },
  "nbformat": 4,
  "nbformat_minor": 0
}